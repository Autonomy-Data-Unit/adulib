{
 "cells": [
  {
   "cell_type": "markdown",
   "metadata": {},
   "source": [
    "# adulib.rest"
   ]
  },
  {
   "cell_type": "code",
   "execution_count": null,
   "metadata": {},
   "outputs": [],
   "source": [
    "#|default_exp rest"
   ]
  },
  {
   "cell_type": "code",
   "execution_count": null,
   "metadata": {},
   "outputs": [],
   "source": [
    "#| hide\n",
    "from nbdev.showdoc import show_doc"
   ]
  },
  {
   "cell_type": "code",
   "execution_count": null,
   "metadata": {},
   "outputs": [],
   "source": [
    "#| hide\n",
    "import nbdev; nbdev.nbdev_export()"
   ]
  },
  {
   "cell_type": "code",
   "execution_count": null,
   "metadata": {},
   "outputs": [],
   "source": [
    "#|export\n",
    "try:\n",
    "    import requests\n",
    "    from urllib.parse import urljoin\n",
    "    import diskcache\n",
    "    import aiohttp\n",
    "    import tempfile\n",
    "    from asynciolimiter import Limiter\n",
    "except ImportError:\n",
    "    print(\"Install adulib[rest] to use this API.\")"
   ]
  },
  {
   "cell_type": "code",
   "execution_count": null,
   "metadata": {},
   "outputs": [],
   "source": [
    "import adulib.rest"
   ]
  },
  {
   "cell_type": "markdown",
   "metadata": {},
   "source": [
    "# Async REST functions"
   ]
  },
  {
   "cell_type": "code",
   "execution_count": null,
   "metadata": {},
   "outputs": [],
   "source": [
    "#|export\n",
    "async def async_get(endpoint, params=None, headers=None):\n",
    "    \"\"\"Fetch data from a given RESTful API endpoint using an HTTP GET request.\n",
    "\n",
    "    :param endpoint: The API endpoint URL (string).\n",
    "    :param params: A dictionary of query parameters (default is None).\n",
    "    :param headers: A dictionary of HTTP headers (default is None).\n",
    "    :return: The JSON response as a dictionary, or an error message.\n",
    "    \"\"\"\n",
    "    async with aiohttp.ClientSession() as session:\n",
    "        async with session.get(endpoint, params=params, headers=headers) as response:\n",
    "            if response.status == 200:\n",
    "                return await response.json()\n",
    "            else:\n",
    "                return {\"error\": f\"Request failed with status {response.status}\", \"details\": await response.text()}\n",
    "  \n",
    "async def async_put(endpoint, data=None, headers=None):\n",
    "    \"\"\"Update data at a given RESTful API endpoint using an HTTP PUT request.\n",
    "\n",
    "    :param endpoint: The API endpoint URL (string).\n",
    "    :param data: A dictionary of data to send in the body of the request (default is None).\n",
    "    :param headers: A dictionary of HTTP headers (default is None).\n",
    "    :return: The JSON response as a dictionary, or an error message.\n",
    "    \"\"\"\n",
    "    async with aiohttp.ClientSession() as session:\n",
    "        async with session.put(endpoint, json=data, headers=headers) as response:\n",
    "            if response.status == 200:\n",
    "                return await response.json()\n",
    "            else:\n",
    "                return {\"error\": f\"Request failed with status {response.status}\", \"details\": await response.text()}\n",
    "\n",
    "async def async_post(endpoint, data=None, headers=None):\n",
    "    \"\"\"Send data to a given RESTful API endpoint using an HTTP POST request.\n",
    "\n",
    "    :param endpoint: The API endpoint URL (string).\n",
    "    :param data: A dictionary of data to send in the body of the request (default is None).\n",
    "    :param headers: A dictionary of HTTP headers (default is None).\n",
    "    :return: The JSON response as a dictionary, or an error message.\n",
    "    \"\"\"\n",
    "    async with aiohttp.ClientSession() as session:\n",
    "        async with session.post(endpoint, json=data, headers=headers) as response:\n",
    "            if response.status == 200:\n",
    "                return await response.json()\n",
    "            else:\n",
    "                return {\"error\": f\"Request failed with status {response.status}\", \"details\": await response.text()}\n",
    "    \n",
    "async def async_delete(endpoint, headers=None):\n",
    "    \"\"\"Delete a resource at a given RESTful API endpoint using an HTTP DELETE request.\n",
    "\n",
    "    :param endpoint: The API endpoint URL (string).\n",
    "    :param headers: A dictionary of HTTP headers (default is None).\n",
    "    :return: The JSON response as a dictionary, or an error message.\n",
    "    \"\"\"\n",
    "    async with aiohttp.ClientSession() as session:\n",
    "        async with session.delete(endpoint, headers=headers) as response:\n",
    "            if response.status == 200:\n",
    "                return await response.json()\n",
    "            else:\n",
    "                return {\"error\": f\"Request failed with status {response.status}\", \"details\": await response.text()}"
   ]
  },
  {
   "cell_type": "code",
   "execution_count": null,
   "metadata": {},
   "outputs": [
    {
     "data": {
      "text/plain": [
       "{'args': {'page': '2', 'query': 'test'},\n",
       " 'headers': {'Accept': '*/*',\n",
       "  'Accept-Encoding': 'gzip, deflate',\n",
       "  'Authorization': 'Bearer testtoken123',\n",
       "  'Host': 'httpbin.org',\n",
       "  'User-Agent': 'MyTestClient/1.0',\n",
       "  'X-Amzn-Trace-Id': 'Root=1-67b1da56-56cfd0d0691236d51f37b848'},\n",
       " 'origin': '31.121.245.191',\n",
       " 'url': 'https://httpbin.org/get?query=test&page=2'}"
      ]
     },
     "execution_count": null,
     "metadata": {},
     "output_type": "execute_result"
    }
   ],
   "source": [
    "await async_get(\"https://httpbin.org/get\",\n",
    "    params={\n",
    "        \"query\": \"test\",\n",
    "        \"page\": 2\n",
    "    },\n",
    "    headers={\n",
    "        \"User-Agent\": \"MyTestClient/1.0\",\n",
    "        \"Authorization\": \"Bearer testtoken123\"\n",
    "    }\n",
    ")"
   ]
  },
  {
   "cell_type": "code",
   "execution_count": null,
   "metadata": {},
   "outputs": [
    {
     "data": {
      "text/plain": [
       "{'args': {},\n",
       " 'data': '{\"key1\": \"value1\", \"key2\": \"value2\"}',\n",
       " 'files': {},\n",
       " 'form': {},\n",
       " 'headers': {'Accept': '*/*',\n",
       "  'Accept-Encoding': 'gzip, deflate',\n",
       "  'Content-Length': '36',\n",
       "  'Content-Type': 'application/json',\n",
       "  'Host': 'httpbin.org',\n",
       "  'User-Agent': 'Python/3.11 aiohttp/3.11.12',\n",
       "  'X-Amzn-Trace-Id': 'Root=1-67b1da57-64cf36ba281ebb5b00a30f08'},\n",
       " 'json': {'key1': 'value1', 'key2': 'value2'},\n",
       " 'origin': '31.121.245.191',\n",
       " 'url': 'https://httpbin.org/put'}"
      ]
     },
     "execution_count": null,
     "metadata": {},
     "output_type": "execute_result"
    }
   ],
   "source": [
    "await async_put(\"https://httpbin.org/put\",\n",
    "    data={\n",
    "        \"key1\": \"value1\",\n",
    "        \"key2\": \"value2\"\n",
    "    },\n",
    "    headers={\"Content-Type\": \"application/json\"}\n",
    ")"
   ]
  },
  {
   "cell_type": "code",
   "execution_count": null,
   "metadata": {},
   "outputs": [
    {
     "data": {
      "text/plain": [
       "{'args': {},\n",
       " 'data': '{\"key1\": \"value1\", \"key2\": \"value2\"}',\n",
       " 'files': {},\n",
       " 'form': {},\n",
       " 'headers': {'Accept': '*/*',\n",
       "  'Accept-Encoding': 'gzip, deflate',\n",
       "  'Content-Length': '36',\n",
       "  'Content-Type': 'application/json',\n",
       "  'Host': 'httpbin.org',\n",
       "  'User-Agent': 'Python/3.11 aiohttp/3.11.12',\n",
       "  'X-Amzn-Trace-Id': 'Root=1-67b1da58-1463fdf164fd3e81648c85ce'},\n",
       " 'json': {'key1': 'value1', 'key2': 'value2'},\n",
       " 'origin': '31.121.245.191',\n",
       " 'url': 'https://httpbin.org/post'}"
      ]
     },
     "execution_count": null,
     "metadata": {},
     "output_type": "execute_result"
    }
   ],
   "source": [
    "await async_post(\"https://httpbin.org/post\",\n",
    "    data={\n",
    "        \"key1\": \"value1\",\n",
    "        \"key2\": \"value2\"\n",
    "    },\n",
    "    headers={\"Content-Type\": \"application/json\"}\n",
    ")"
   ]
  },
  {
   "cell_type": "code",
   "execution_count": null,
   "metadata": {},
   "outputs": [
    {
     "data": {
      "text/plain": [
       "{'args': {},\n",
       " 'data': '',\n",
       " 'files': {},\n",
       " 'form': {},\n",
       " 'headers': {'Accept': '*/*',\n",
       "  'Accept-Encoding': 'gzip, deflate',\n",
       "  'Content-Length': '0',\n",
       "  'Content-Type': 'application/json',\n",
       "  'Host': 'httpbin.org',\n",
       "  'User-Agent': 'Python/3.11 aiohttp/3.11.12',\n",
       "  'X-Amzn-Trace-Id': 'Root=1-67b1da58-23983f42619a2af928ead35f'},\n",
       " 'json': None,\n",
       " 'origin': '31.121.245.191',\n",
       " 'url': 'https://httpbin.org/delete'}"
      ]
     },
     "execution_count": null,
     "metadata": {},
     "output_type": "execute_result"
    }
   ],
   "source": [
    "await async_delete(\"https://httpbin.org/delete\",\n",
    "    headers={\"Content-Type\": \"application/json\"}\n",
    ")"
   ]
  },
  {
   "cell_type": "markdown",
   "metadata": {},
   "source": [
    "# Sync REST functions"
   ]
  },
  {
   "cell_type": "code",
   "execution_count": null,
   "metadata": {},
   "outputs": [],
   "source": [
    "#|export\n",
    "def get(endpoint, params=None, headers=None):\n",
    "    \"\"\"Fetch data from a given RESTful API endpoint using an HTTP GET request.\n",
    "\n",
    "    :param endpoint: The API endpoint URL (string).\n",
    "    :param params: A dictionary of query parameters (default is None).\n",
    "    :param headers: A dictionary of HTTP headers (default is None).\n",
    "    :return: The JSON response as a dictionary, or an error message.\n",
    "    \"\"\"\n",
    "    response = requests.get(endpoint, params=params, headers=headers)\n",
    "    if response.status_code == 200:\n",
    "        return response.json()\n",
    "    else:\n",
    "        return {\"error\": f\"Request failed with status {response.status_code}\", \"details\": response.text}\n",
    "    \n",
    "def post(endpoint, data=None, headers=None):\n",
    "    \"\"\"Send data to a given RESTful API endpoint using an HTTP POST request.\n",
    "\n",
    "    :param endpoint: The API endpoint URL (string).\n",
    "    :param data: A dictionary of data to send in the body of the request (default is None).\n",
    "    :param headers: A dictionary of HTTP headers (default is None).\n",
    "    :return: The JSON response as a dictionary, or an error message.\n",
    "    \"\"\"\n",
    "    response = requests.post(endpoint, json=data, headers=headers)\n",
    "    if response.status_code == 200:\n",
    "        return response.json()\n",
    "    else:\n",
    "        return {\"error\": f\"Request failed with status {response.status_code}\", \"details\": response.text}\n",
    "\n",
    "def put(endpoint, data=None, headers=None):\n",
    "    \"\"\"Update data at a given RESTful API endpoint using an HTTP PUT request.\n",
    "\n",
    "    :param endpoint: The API endpoint URL (string).\n",
    "    :param data: A dictionary of data to send in the body of the request (default is None).\n",
    "    :param headers: A dictionary of HTTP headers (default is None).\n",
    "    :return: The JSON response as a dictionary, or an error message.\n",
    "    \"\"\"\n",
    "    response = requests.put(endpoint, json=data, headers=headers)\n",
    "    if response.status_code == 200:\n",
    "        return response.json()\n",
    "    else:\n",
    "        return {\"error\": f\"Request failed with status {response.status_code}\", \"details\": response.text}\n",
    "\n",
    "def delete(endpoint, headers=None):\n",
    "    \"\"\"Delete a resource at a given RESTful API endpoint using an HTTP DELETE request.\n",
    "\n",
    "    :param endpoint: The API endpoint URL (string).\n",
    "    :param headers: A dictionary of HTTP headers (default is None).\n",
    "    :return: The JSON response as a dictionary, or an error message.\n",
    "    \"\"\"\n",
    "    response = requests.delete(endpoint, headers=headers)\n",
    "    if response.status_code == 200:\n",
    "        return response.json()\n",
    "    else:\n",
    "        return {\"error\": f\"Request failed with status {response.status_code}\", \"details\": response.text}\n"
   ]
  },
  {
   "cell_type": "code",
   "execution_count": null,
   "metadata": {},
   "outputs": [
    {
     "data": {
      "text/plain": [
       "{'args': {'page': '2', 'query': 'test'},\n",
       " 'headers': {'Accept': '*/*',\n",
       "  'Accept-Encoding': 'gzip, deflate',\n",
       "  'Authorization': 'Bearer testtoken123',\n",
       "  'Host': 'httpbin.org',\n",
       "  'User-Agent': 'MyTestClient/1.0',\n",
       "  'X-Amzn-Trace-Id': 'Root=1-67b1da58-09fedb7b6143958a1600b905'},\n",
       " 'origin': '31.121.245.191',\n",
       " 'url': 'https://httpbin.org/get?query=test&page=2'}"
      ]
     },
     "execution_count": null,
     "metadata": {},
     "output_type": "execute_result"
    }
   ],
   "source": [
    "get(\"https://httpbin.org/get\",\n",
    "    params={\n",
    "        \"query\": \"test\",\n",
    "        \"page\": 2\n",
    "    },\n",
    "    headers={\n",
    "        \"User-Agent\": \"MyTestClient/1.0\",\n",
    "        \"Authorization\": \"Bearer testtoken123\"\n",
    "    }\n",
    ")"
   ]
  },
  {
   "cell_type": "markdown",
   "metadata": {},
   "source": [
    "# `AsyncAPIHandler`"
   ]
  },
  {
   "cell_type": "code",
   "execution_count": null,
   "metadata": {},
   "outputs": [],
   "source": [
    "#|export\n",
    "class AsyncAPIHandler:\n",
    "    GET=\"get\"\n",
    "    PUT=\"put\"\n",
    "    POST=\"post\"\n",
    "    DELETE=\"delete\"\n",
    "    \n",
    "    def __init__(self,\n",
    "                 base_url=None,\n",
    "                 default_params=None,\n",
    "                 default_headers=None,\n",
    "                 rate_limit=None,\n",
    "                 use_cache=True,\n",
    "                 cache_dir=None,\n",
    "                 call_quota=None):\n",
    "        \"\"\"\n",
    "        A handler for making asynchronous API calls with support for caching, rate limiting, and default parameters.\n",
    "\n",
    "        :param base_url: The base URL of the API. This will be prepended to all endpoint calls.\n",
    "        :param default_params: A dictionary of default query parameters to be included in every request.\n",
    "        :param default_headers: A dictionary of default headers to be included in every request.\n",
    "        :param rate_limit: The rate limit for API calls, specified as the number of calls per second.\n",
    "        :param use_cache: A boolean indicating whether to enable caching of API responses.\n",
    "        :param cache_dir: The directory where cached responses will be stored. If None, a temporary directory will be created.\n",
    "        :param call_quota: An optional limit on the number of API calls that can be made. If None, there is no limit.\n",
    "\n",
    "        This class provides methods for making GET, POST, PUT, and DELETE requests asynchronously, while managing\n",
    "        caching and rate limiting. It also allows checking and clearing the cache for specific API calls.\n",
    "        \"\"\"\n",
    "        self.base_url = base_url\n",
    "        self.default_params = default_params or {}\n",
    "        self.default_headers = default_headers or {}\n",
    "        self.use_cache = use_cache\n",
    "        self.cache_dir = cache_dir\n",
    "        self.call_quota = call_quota\n",
    "        self.call_counter = 0\n",
    "        \n",
    "        if use_cache:\n",
    "            if self.cache_dir is None: self.cache_dir = tempfile.mkdtemp()\n",
    "            self._cache = diskcache.Cache(self.cache_dir)\n",
    "        else: self._cache = None\n",
    "        \n",
    "        self.rate_limit = rate_limit\n",
    "        if rate_limit:\n",
    "            self._rate_limiter = Limiter(rate_limit)\n",
    "        else:\n",
    "            self._rate_limiter = None\n",
    "        \n",
    "    @property\n",
    "    def remaining_call_quota(self):\n",
    "        if self.call_quota is None:\n",
    "            return None\n",
    "        return self.call_quota - self.call_counter\n",
    "        \n",
    "    def reset_quota(self):\n",
    "        self.call_counter = 0\n",
    "        \n",
    "    def __get_defaults(self, method, endpoint, params, headers):\n",
    "        endpoint = urljoin(self.base_url, endpoint) if endpoint else self.base_url\n",
    "        params = params or {}\n",
    "        headers = headers or {}\n",
    "        params = {**params, **self.default_params}\n",
    "        headers = {**headers, **self.default_headers}\n",
    "        cache_key = f\"{method}:{endpoint}:{params}:{headers}\"\n",
    "        return endpoint, params, headers, cache_key\n",
    "    \n",
    "    async def __load_cache_or_make_call(self, func, args, only_use_cache, cache_key):\n",
    "        if only_use_cache or (self.use_cache and cache_key in self._cache):\n",
    "            return self._cache[cache_key]\n",
    "        else:\n",
    "            if self.call_quota is not None and self.remaining_call_quota <= 0:\n",
    "                raise RuntimeError(\"API call quota has been exceeded.\")\n",
    "            self.call_counter += 1\n",
    "            if self._rate_limiter: await self._rate_limiter.wait()\n",
    "            result = await func(*args)\n",
    "            if self.use_cache: self._cache[cache_key] = result\n",
    "        return result\n",
    "    \n",
    "    async def call(self, method, endpoint=None, params=None, data=None, headers=None, only_use_cache=False, **param_kwargs):\n",
    "        \"\"\"\n",
    "        Make a request to the API.\n",
    "\n",
    "        :param method: The HTTP method to use (e.g., \"get\", \"put\", \"post\", \"delete\").\n",
    "        :param endpoint: The API endpoint to request.\n",
    "        :param params: A dictionary of query parameters for the request.\n",
    "        \"\"\"\n",
    "        params = params or {}\n",
    "        params = {**params, **param_kwargs}\n",
    "        endpoint, params, headers, cache_key = self.__get_defaults(method, endpoint, params, headers)\n",
    "        if method == AsyncAPIHandler.GET: func = async_get\n",
    "        elif method == AsyncAPIHandler.PUT: func = async_put\n",
    "        elif method == AsyncAPIHandler.POST: func = async_post\n",
    "        elif method == AsyncAPIHandler.DELETE: func = async_delete\n",
    "        else: raise ValueError(f\"Invalid method: {method}\")\n",
    "        return await self.__load_cache_or_make_call(func, (endpoint, params, headers), only_use_cache, cache_key)\n",
    "    \n",
    "    async def get(self, endpoint=None, params=None, headers=None, only_use_cache=False, **param_kwargs):\n",
    "        return await self.call(self.GET, endpoint, params, headers, only_use_cache, **param_kwargs)\n",
    "    \n",
    "    async def put(self, endpoint=None, data=None, only_use_cache=False, headers=None):\n",
    "        return await self.call(self.PUT, endpoint, data, headers, only_use_cache)\n",
    "    \n",
    "    async def post(self, endpoint=None, data=None, only_use_cache=False, headers=None):\n",
    "        return await self.call(self.POST, endpoint, data, headers, only_use_cache)\n",
    "    \n",
    "    async def delete(self, endpoint=None, only_use_cache=False, headers=None):\n",
    "        return await self.call(self.DELETE, endpoint, headers, only_use_cache)\n",
    "    \n",
    "    def check_cache(self, method, endpoint=None, params=None, headers=None, **param_kwargs):\n",
    "        params = params or {}\n",
    "        params = {**params, **param_kwargs}\n",
    "        _, _, _, cache_key = self.__get_defaults(method, endpoint, params, headers)\n",
    "        return cache_key in self._cache\n",
    "    \n",
    "    def clear_cache_key(self, method, endpoint=None, params=None, headers=None, **param_kwargs):\n",
    "        params = params or {}\n",
    "        params = {**params, **param_kwargs}\n",
    "        _, _, _, cache_key = self.__get_defaults(method, endpoint, params, headers)\n",
    "        del self._cache[cache_key]"
   ]
  },
  {
   "cell_type": "code",
   "execution_count": null,
   "metadata": {},
   "outputs": [
    {
     "data": {
      "text/plain": [
       "{'args': {'api_key': 'your_api_key'},\n",
       " 'headers': {'Accept': '*/*',\n",
       "  'Accept-Encoding': 'gzip, deflate',\n",
       "  'Host': 'httpbin.org',\n",
       "  'User-Agent': 'MyTestClient/1.0',\n",
       "  'X-Amzn-Trace-Id': 'Root=1-67b1da59-72bfcf014927b0fe28fb6078'},\n",
       " 'origin': '31.121.245.191',\n",
       " 'url': 'https://httpbin.org/get?api_key=your_api_key'}"
      ]
     },
     "execution_count": null,
     "metadata": {},
     "output_type": "execute_result"
    }
   ],
   "source": [
    "api_handler = AsyncAPIHandler(\n",
    "    base_url=\"https://httpbin.org/\",\n",
    "    default_params={\"api_key\": \"your_api_key\"},\n",
    "    default_headers={\"User-Agent\": \"MyTestClient/1.0\"},\n",
    "    rate_limit=10\n",
    ")\n",
    "\n",
    "await api_handler.get(\"get\")"
   ]
  },
  {
   "cell_type": "code",
   "execution_count": null,
   "metadata": {},
   "outputs": [
    {
     "data": {
      "text/plain": [
       "True"
      ]
     },
     "execution_count": null,
     "metadata": {},
     "output_type": "execute_result"
    }
   ],
   "source": [
    "api_handler.check_cache(\"get\", \"get\")"
   ]
  },
  {
   "cell_type": "code",
   "execution_count": null,
   "metadata": {},
   "outputs": [
    {
     "data": {
      "text/plain": [
       "False"
      ]
     },
     "execution_count": null,
     "metadata": {},
     "output_type": "execute_result"
    }
   ],
   "source": [
    "api_handler.clear_cache_key(\"get\", \"get\")\n",
    "api_handler.check_cache(\"get\", \"get\")"
   ]
  }
 ],
 "metadata": {
  "kernelspec": {
   "display_name": "python3",
   "language": "python",
   "name": "python3"
  }
 },
 "nbformat": 4,
 "nbformat_minor": 2
}
