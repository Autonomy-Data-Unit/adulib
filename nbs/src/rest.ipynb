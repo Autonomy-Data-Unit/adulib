{
 "cells": [
  {
   "cell_type": "markdown",
   "metadata": {},
   "source": [
    "# adulib.rest"
   ]
  },
  {
   "cell_type": "code",
   "execution_count": null,
   "metadata": {},
   "outputs": [],
   "source": [
    "#|default_exp rest"
   ]
  },
  {
   "cell_type": "code",
   "execution_count": null,
   "metadata": {},
   "outputs": [],
   "source": [
    "#| hide\n",
    "from nbdev.showdoc import show_doc"
   ]
  },
  {
   "cell_type": "code",
   "execution_count": null,
   "metadata": {},
   "outputs": [],
   "source": [
    "#| hide\n",
    "import nbdev; nbdev.nbdev_export()"
   ]
  },
  {
   "cell_type": "code",
   "execution_count": null,
   "metadata": {},
   "outputs": [],
   "source": [
    "#|export\n",
    "try:\n",
    "    import requests\n",
    "    from urllib.parse import urljoin\n",
    "    import diskcache\n",
    "    import aiohttp\n",
    "    import tempfile\n",
    "    from asynciolimiter import Limiter\n",
    "except ImportError:\n",
    "    print(\"Install adulib[rest] to use this API.\")"
   ]
  },
  {
   "cell_type": "code",
   "execution_count": null,
   "metadata": {},
   "outputs": [],
   "source": [
    "import adulib.rest"
   ]
  },
  {
   "cell_type": "markdown",
   "metadata": {},
   "source": [
    "# Async REST functions"
   ]
  },
  {
   "cell_type": "code",
   "execution_count": null,
   "metadata": {},
   "outputs": [],
   "source": [
    "#|export\n",
    "async def async_get(endpoint, params=None, headers=None):\n",
    "    \"\"\"Fetch data from a given RESTful API endpoint using an HTTP GET request.\n",
    "\n",
    "    :param endpoint: The API endpoint URL (string).\n",
    "    :param params: A dictionary of query parameters (default is None).\n",
    "    :param headers: A dictionary of HTTP headers (default is None).\n",
    "    :return: The JSON response as a dictionary, or an error message.\n",
    "    \"\"\"\n",
    "    async with aiohttp.ClientSession() as session:\n",
    "        async with session.get(endpoint, params=params, headers=headers) as response:\n",
    "            if response.status == 200:\n",
    "                return await response.json()\n",
    "            else:\n",
    "                return {\"error\": f\"Request failed with status {response.status}\", \"details\": await response.text()}\n",
    "  \n",
    "async def async_put(endpoint, data=None, headers=None):\n",
    "    \"\"\"Update data at a given RESTful API endpoint using an HTTP PUT request.\n",
    "\n",
    "    :param endpoint: The API endpoint URL (string).\n",
    "    :param data: A dictionary of data to send in the body of the request (default is None).\n",
    "    :param headers: A dictionary of HTTP headers (default is None).\n",
    "    :return: The JSON response as a dictionary, or an error message.\n",
    "    \"\"\"\n",
    "    async with aiohttp.ClientSession() as session:\n",
    "        async with session.put(endpoint, json=data, headers=headers) as response:\n",
    "            if response.status == 200:\n",
    "                return await response.json()\n",
    "            else:\n",
    "                return {\"error\": f\"Request failed with status {response.status}\", \"details\": await response.text()}\n",
    "\n",
    "async def async_post(endpoint, data=None, headers=None):\n",
    "    \"\"\"Send data to a given RESTful API endpoint using an HTTP POST request.\n",
    "\n",
    "    :param endpoint: The API endpoint URL (string).\n",
    "    :param data: A dictionary of data to send in the body of the request (default is None).\n",
    "    :param headers: A dictionary of HTTP headers (default is None).\n",
    "    :return: The JSON response as a dictionary, or an error message.\n",
    "    \"\"\"\n",
    "    async with aiohttp.ClientSession() as session:\n",
    "        async with session.post(endpoint, json=data, headers=headers) as response:\n",
    "            if response.status == 200:\n",
    "                return await response.json()\n",
    "            else:\n",
    "                return {\"error\": f\"Request failed with status {response.status}\", \"details\": await response.text()}\n",
    "    \n",
    "async def async_delete(endpoint, headers=None):\n",
    "    \"\"\"Delete a resource at a given RESTful API endpoint using an HTTP DELETE request.\n",
    "\n",
    "    :param endpoint: The API endpoint URL (string).\n",
    "    :param headers: A dictionary of HTTP headers (default is None).\n",
    "    :return: The JSON response as a dictionary, or an error message.\n",
    "    \"\"\"\n",
    "    async with aiohttp.ClientSession() as session:\n",
    "        async with session.delete(endpoint, headers=headers) as response:\n",
    "            if response.status == 200:\n",
    "                return await response.json()\n",
    "            else:\n",
    "                return {\"error\": f\"Request failed with status {response.status}\", \"details\": await response.text()}"
   ]
  },
  {
   "cell_type": "code",
   "execution_count": null,
   "metadata": {},
   "outputs": [
    {
     "data": {
      "text/plain": [
       "{'args': {'page': '2', 'query': 'test'},\n",
       " 'headers': {'Accept': '*/*',\n",
       "  'Accept-Encoding': 'gzip, deflate',\n",
       "  'Authorization': 'Bearer testtoken123',\n",
       "  'Host': 'httpbin.org',\n",
       "  'User-Agent': 'MyTestClient/1.0',\n",
       "  'X-Amzn-Trace-Id': 'Root=1-67b1187f-042f23b12b5fc4ef5d0d3141'},\n",
       " 'origin': '185.238.222.220',\n",
       " 'url': 'https://httpbin.org/get?query=test&page=2'}"
      ]
     },
     "execution_count": null,
     "metadata": {},
     "output_type": "execute_result"
    }
   ],
   "source": [
    "await async_get(\"https://httpbin.org/get\",\n",
    "    params={\n",
    "        \"query\": \"test\",\n",
    "        \"page\": 2\n",
    "    },\n",
    "    headers={\n",
    "        \"User-Agent\": \"MyTestClient/1.0\",\n",
    "        \"Authorization\": \"Bearer testtoken123\"\n",
    "    }\n",
    ")"
   ]
  },
  {
   "cell_type": "code",
   "execution_count": null,
   "metadata": {},
   "outputs": [
    {
     "data": {
      "text/plain": [
       "{'args': {},\n",
       " 'data': '{\"key1\": \"value1\", \"key2\": \"value2\"}',\n",
       " 'files': {},\n",
       " 'form': {},\n",
       " 'headers': {'Accept': '*/*',\n",
       "  'Accept-Encoding': 'gzip, deflate',\n",
       "  'Content-Length': '36',\n",
       "  'Content-Type': 'application/json',\n",
       "  'Host': 'httpbin.org',\n",
       "  'User-Agent': 'Python/3.11 aiohttp/3.11.12',\n",
       "  'X-Amzn-Trace-Id': 'Root=1-67b1187f-1ffd89da27061f3a720d2a92'},\n",
       " 'json': {'key1': 'value1', 'key2': 'value2'},\n",
       " 'origin': '185.238.222.220',\n",
       " 'url': 'https://httpbin.org/put'}"
      ]
     },
     "execution_count": null,
     "metadata": {},
     "output_type": "execute_result"
    }
   ],
   "source": [
    "await async_put(\"https://httpbin.org/put\",\n",
    "    data={\n",
    "        \"key1\": \"value1\",\n",
    "        \"key2\": \"value2\"\n",
    "    },\n",
    "    headers={\"Content-Type\": \"application/json\"}\n",
    ")"
   ]
  },
  {
   "cell_type": "code",
   "execution_count": null,
   "metadata": {},
   "outputs": [
    {
     "data": {
      "text/plain": [
       "{'args': {},\n",
       " 'data': '{\"key1\": \"value1\", \"key2\": \"value2\"}',\n",
       " 'files': {},\n",
       " 'form': {},\n",
       " 'headers': {'Accept': '*/*',\n",
       "  'Accept-Encoding': 'gzip, deflate',\n",
       "  'Content-Length': '36',\n",
       "  'Content-Type': 'application/json',\n",
       "  'Host': 'httpbin.org',\n",
       "  'User-Agent': 'Python/3.11 aiohttp/3.11.12',\n",
       "  'X-Amzn-Trace-Id': 'Root=1-67b11880-17a7e6256fd7986d6011d21c'},\n",
       " 'json': {'key1': 'value1', 'key2': 'value2'},\n",
       " 'origin': '185.238.222.220',\n",
       " 'url': 'https://httpbin.org/post'}"
      ]
     },
     "execution_count": null,
     "metadata": {},
     "output_type": "execute_result"
    }
   ],
   "source": [
    "await async_post(\"https://httpbin.org/post\",\n",
    "    data={\n",
    "        \"key1\": \"value1\",\n",
    "        \"key2\": \"value2\"\n",
    "    },\n",
    "    headers={\"Content-Type\": \"application/json\"}\n",
    ")"
   ]
  },
  {
   "cell_type": "code",
   "execution_count": null,
   "metadata": {},
   "outputs": [
    {
     "data": {
      "text/plain": [
       "{'args': {},\n",
       " 'data': '',\n",
       " 'files': {},\n",
       " 'form': {},\n",
       " 'headers': {'Accept': '*/*',\n",
       "  'Accept-Encoding': 'gzip, deflate',\n",
       "  'Content-Length': '0',\n",
       "  'Content-Type': 'application/json',\n",
       "  'Host': 'httpbin.org',\n",
       "  'User-Agent': 'Python/3.11 aiohttp/3.11.12',\n",
       "  'X-Amzn-Trace-Id': 'Root=1-67b11880-73916ab226cd324226fda548'},\n",
       " 'json': None,\n",
       " 'origin': '185.238.222.220',\n",
       " 'url': 'https://httpbin.org/delete'}"
      ]
     },
     "execution_count": null,
     "metadata": {},
     "output_type": "execute_result"
    }
   ],
   "source": [
    "await async_delete(\"https://httpbin.org/delete\",\n",
    "    headers={\"Content-Type\": \"application/json\"}\n",
    ")"
   ]
  },
  {
   "cell_type": "markdown",
   "metadata": {},
   "source": [
    "# Sync REST functions"
   ]
  },
  {
   "cell_type": "code",
   "execution_count": null,
   "metadata": {},
   "outputs": [],
   "source": [
    "#|export\n",
    "def get(endpoint, params=None, headers=None):\n",
    "    \"\"\"Fetch data from a given RESTful API endpoint using an HTTP GET request.\n",
    "\n",
    "    :param endpoint: The API endpoint URL (string).\n",
    "    :param params: A dictionary of query parameters (default is None).\n",
    "    :param headers: A dictionary of HTTP headers (default is None).\n",
    "    :return: The JSON response as a dictionary, or an error message.\n",
    "    \"\"\"\n",
    "    response = requests.get(endpoint, params=params, headers=headers)\n",
    "    if response.status_code == 200:\n",
    "        return response.json()\n",
    "    else:\n",
    "        return {\"error\": f\"Request failed with status {response.status_code}\", \"details\": response.text}\n",
    "    \n",
    "def post(endpoint, data=None, headers=None):\n",
    "    \"\"\"Send data to a given RESTful API endpoint using an HTTP POST request.\n",
    "\n",
    "    :param endpoint: The API endpoint URL (string).\n",
    "    :param data: A dictionary of data to send in the body of the request (default is None).\n",
    "    :param headers: A dictionary of HTTP headers (default is None).\n",
    "    :return: The JSON response as a dictionary, or an error message.\n",
    "    \"\"\"\n",
    "    response = requests.post(endpoint, json=data, headers=headers)\n",
    "    if response.status_code == 200:\n",
    "        return response.json()\n",
    "    else:\n",
    "        return {\"error\": f\"Request failed with status {response.status_code}\", \"details\": response.text}\n",
    "\n",
    "def put(endpoint, data=None, headers=None):\n",
    "    \"\"\"Update data at a given RESTful API endpoint using an HTTP PUT request.\n",
    "\n",
    "    :param endpoint: The API endpoint URL (string).\n",
    "    :param data: A dictionary of data to send in the body of the request (default is None).\n",
    "    :param headers: A dictionary of HTTP headers (default is None).\n",
    "    :return: The JSON response as a dictionary, or an error message.\n",
    "    \"\"\"\n",
    "    response = requests.put(endpoint, json=data, headers=headers)\n",
    "    if response.status_code == 200:\n",
    "        return response.json()\n",
    "    else:\n",
    "        return {\"error\": f\"Request failed with status {response.status_code}\", \"details\": response.text}\n",
    "\n",
    "def delete(endpoint, headers=None):\n",
    "    \"\"\"Delete a resource at a given RESTful API endpoint using an HTTP DELETE request.\n",
    "\n",
    "    :param endpoint: The API endpoint URL (string).\n",
    "    :param headers: A dictionary of HTTP headers (default is None).\n",
    "    :return: The JSON response as a dictionary, or an error message.\n",
    "    \"\"\"\n",
    "    response = requests.delete(endpoint, headers=headers)\n",
    "    if response.status_code == 200:\n",
    "        return response.json()\n",
    "    else:\n",
    "        return {\"error\": f\"Request failed with status {response.status_code}\", \"details\": response.text}\n"
   ]
  },
  {
   "cell_type": "code",
   "execution_count": null,
   "metadata": {},
   "outputs": [
    {
     "data": {
      "text/plain": [
       "{'args': {'page': '2', 'query': 'test'},\n",
       " 'headers': {'Accept': '*/*',\n",
       "  'Accept-Encoding': 'gzip, deflate',\n",
       "  'Authorization': 'Bearer testtoken123',\n",
       "  'Host': 'httpbin.org',\n",
       "  'User-Agent': 'MyTestClient/1.0',\n",
       "  'X-Amzn-Trace-Id': 'Root=1-67b11880-3e42fd357a51e9006ea7230b'},\n",
       " 'origin': '185.238.222.220',\n",
       " 'url': 'https://httpbin.org/get?query=test&page=2'}"
      ]
     },
     "execution_count": null,
     "metadata": {},
     "output_type": "execute_result"
    }
   ],
   "source": [
    "get(\"https://httpbin.org/get\",\n",
    "    params={\n",
    "        \"query\": \"test\",\n",
    "        \"page\": 2\n",
    "    },\n",
    "    headers={\n",
    "        \"User-Agent\": \"MyTestClient/1.0\",\n",
    "        \"Authorization\": \"Bearer testtoken123\"\n",
    "    }\n",
    ")"
   ]
  },
  {
   "cell_type": "markdown",
   "metadata": {},
   "source": [
    "# `AsyncAPIHandler`"
   ]
  },
  {
   "cell_type": "code",
   "execution_count": null,
   "metadata": {},
   "outputs": [],
   "source": [
    "#|export\n",
    "class AsyncAPIHandler:\n",
    "    def __init__(self,\n",
    "                 base_url=None,\n",
    "                 default_params=None,\n",
    "                 default_headers=None,\n",
    "                 rate_limit=None,\n",
    "                 use_cache=True,\n",
    "                 cache_dir=None):\n",
    "        \"\"\"\n",
    "        :param base_url: The base URL of the API.\n",
    "        :param default_params: A dictionary of default query parameters.\n",
    "        :param default_headers: A dictionary of default headers.\n",
    "        :param rate_limit: The rate (calls per second) limit for the API.\n",
    "        :param use_cache: Whether to use caching for the API.\n",
    "        :param cache_dir: The directory to store the cache.\n",
    "        \"\"\"\n",
    "        self.base_url = base_url\n",
    "        self.default_params = default_params or {}\n",
    "        self.default_headers = default_headers or {}\n",
    "        self.use_cache = use_cache\n",
    "        self.cache_dir = cache_dir\n",
    "        \n",
    "        if use_cache:\n",
    "            if self.cache_dir is None: self.cache_dir = tempfile.mkdtemp()\n",
    "            self._cache = diskcache.Cache(self.cache_dir)\n",
    "        else: self._cache = None\n",
    "        \n",
    "        self.rate_limit = rate_limit\n",
    "        if rate_limit:\n",
    "            self._rate_limiter = Limiter(rate_limit)\n",
    "        else:\n",
    "            self._rate_limiter = None\n",
    "        \n",
    "    def __get_defaults(self, method, endpoint, params, headers):\n",
    "        endpoint = urljoin(self.base_url, endpoint) if endpoint else self.base_url\n",
    "        params = params or {}\n",
    "        headers = headers or {}\n",
    "        params = {**params, **self.default_params}\n",
    "        headers = {**headers, **self.default_headers}\n",
    "        cache_key = f\"{method}:{endpoint}:{params}:{headers}\"\n",
    "        return endpoint, params, headers, cache_key\n",
    "    \n",
    "    async def __load_cache_or_make_call(self, func, args, cache_key):\n",
    "        if self._rate_limiter: await self._rate_limiter.wait()\n",
    "        if self.use_cache and cache_key in self._cache:\n",
    "            return self._cache[cache_key]\n",
    "        else:\n",
    "            result = await func(*args)\n",
    "            if self.use_cache: self._cache[cache_key] = result\n",
    "        return result\n",
    "    \n",
    "    async def get(self, endpoint=None, params=None, headers=None, **param_kwargs):\n",
    "        params = params or {}\n",
    "        params = {**params, **param_kwargs}\n",
    "        endpoint, params, headers, cache_key = self.__get_defaults(\"get\", endpoint, params, headers)\n",
    "        return await self.__load_cache_or_make_call(async_get, (endpoint, params, headers), cache_key)\n",
    "    \n",
    "    async def put(self, endpoint=None, data=None, headers=None):\n",
    "        endpoint, _, headers, cache_key = self.__get_defaults(\"put\", endpoint, None, headers)\n",
    "        return await self.__load_cache_or_make_call(async_put, (endpoint, data, headers), cache_key)\n",
    "    \n",
    "    async def post(self, endpoint=None, data=None, headers=None):\n",
    "        endpoint, _, headers, cache_key = self.__get_defaults(\"post\", endpoint, None, headers)\n",
    "        return await self.__load_cache_or_make_call(async_post, (endpoint, data, headers), cache_key)\n",
    "    \n",
    "    async def delete(self, endpoint=None, headers=None):\n",
    "        endpoint, _, headers, cache_key = self.__get_defaults(\"delete\", endpoint, None, headers)\n",
    "        return await self.__load_cache_or_make_call(async_delete, (endpoint, headers), cache_key)"
   ]
  },
  {
   "cell_type": "code",
   "execution_count": null,
   "metadata": {},
   "outputs": [
    {
     "data": {
      "text/plain": [
       "{'args': {'api_key': 'your_api_key'},\n",
       " 'headers': {'Accept': '*/*',\n",
       "  'Accept-Encoding': 'gzip, deflate',\n",
       "  'Host': 'httpbin.org',\n",
       "  'User-Agent': 'MyTestClient/1.0',\n",
       "  'X-Amzn-Trace-Id': 'Root=1-67b11881-5effa8fe45710d407636feb5'},\n",
       " 'origin': '185.238.222.220',\n",
       " 'url': 'https://httpbin.org/get?api_key=your_api_key'}"
      ]
     },
     "execution_count": null,
     "metadata": {},
     "output_type": "execute_result"
    }
   ],
   "source": [
    "api_handler = AsyncAPIHandler(\n",
    "    base_url=\"https://httpbin.org/\",\n",
    "    default_params={\"api_key\": \"your_api_key\"},\n",
    "    default_headers={\"User-Agent\": \"MyTestClient/1.0\"},\n",
    "    rate_limit=10\n",
    ")\n",
    "\n",
    "await api_handler.get(\"get\")"
   ]
  }
 ],
 "metadata": {
  "kernelspec": {
   "display_name": "python3",
   "language": "python",
   "name": "python3"
  }
 },
 "nbformat": 4,
 "nbformat_minor": 2
}
