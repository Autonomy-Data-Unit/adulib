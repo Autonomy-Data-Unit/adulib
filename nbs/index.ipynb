{
 "cells": [
  {
   "cell_type": "markdown",
   "metadata": {},
   "source": [
    "# adulib\n",
    "\n",
    "> Tools and utilities for the Autonomy Data Unit (ADU)"
   ]
  },
  {
   "cell_type": "markdown",
   "metadata": {},
   "source": [
    "The lifecycle of a shared ADU utility or tool is as follows:\n",
    "\n",
    "1. Implement the utility in this repo.\n",
    "2. If the utility grows in complexity, it should be moved to its own dedicated package, and will be included in `adulib` as a (potentially optional) dependency."
   ]
  }
 ],
 "metadata": {
  "kernelspec": {
   "display_name": "python3",
   "language": "python",
   "name": "python3"
  }
 },
 "nbformat": 4,
 "nbformat_minor": 4
}
