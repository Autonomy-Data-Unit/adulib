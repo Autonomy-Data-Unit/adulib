{
    "cells": [
        {
            "cell_type": "markdown",
            "metadata": {},
            "source": [
                "# adulib\n",
                "\n",
                "> Tools and utilities for the Autonomy Data Unit (ADU)"
            ]
        },
        {
            "cell_type": "markdown",
            "metadata": {},
            "source": [
                "The lifecycle of a shared ADU utility or tool is as follows:\n",
                "\n",
                "1. Implement the utility in this repo.\n",
                "2. If the utility grows in complexity, it should be moved to its own dedicated package, and will be included in `adulib` as a (potentially optional) dependency."
            ]
        },
        {
            "cell_type": "markdown",
            "metadata": {},
            "source": [
                "# Development install instructions\n",
                "\n",
                "## Prerequisites\n",
                "\n",
                "- Install [uv](https://docs.astral.sh/uv/getting-started/installation/).\n",
                "- Install [direnv](https://direnv.net/) to automatically load the project virtual environment when entering it.\n",
                "    - Mac: `brew install direnv`\n",
                "    - Linux: `curl -sfL https://direnv.net/install.sh | bash`\n",
                "\n",
                "## Setting up the environment\n",
                "\n",
                "Run the following:\n",
                "\n",
                "```bash\n",
                "# CD into the root of the repo folder\n",
                "uv sync # Installs the virtual environment at './.venv'\n",
                "direnv allow # Allows the automatic running of the script './.envrc'\n",
                "nbl install-hooks # Installs some git hooks that ensures that notebooks are added properly\n",
                "uv pip install -e .\n",
                "```\n",
                "\n",
                "You are now set up to develop the codebase.\n",
                "\n",
                "Further instructions:\n",
                "\n",
                "- To export notebooks run nbl export.\n",
                "- To clean notebooks run nbl clean.\n",
                "- To see other available commands run just nbl.\n",
                "- To add a new dependency run uv add package-name. See the the uv documentation for more details.\n",
                "- You need to git add all 'twinned' notebooks for the commit to be validated. For example, if you add nbs/my-nb.ipynb, you must also add pts/my-nb.pct.py."
            ]
        }
    ],
    "metadata": {},
    "nbformat": 4,
    "nbformat_minor": 4
}