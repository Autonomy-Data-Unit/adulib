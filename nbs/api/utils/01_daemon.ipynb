{
    "cells": [
        {
            "cell_type": "markdown",
            "id": "2261e7a9",
            "metadata": {},
            "source": [
                "# daemons"
            ]
        },
        {
            "cell_type": "code",
            "execution_count": null,
            "id": "a25fab6b",
            "metadata": {},
            "outputs": [],
            "source": [
                "#|default_exp utils.daemons"
            ]
        },
        {
            "cell_type": "code",
            "execution_count": null,
            "id": "a8b9363a",
            "metadata": {},
            "outputs": [],
            "source": [
                "#|hide\n",
                "import nblite; from nblite import show_doc; nblite.nbl_export()\n",
                "import adulib.utils.daemons as this_module"
            ]
        },
        {
            "cell_type": "code",
            "execution_count": null,
            "id": "6ba65ff1",
            "metadata": {},
            "outputs": [],
            "source": [
                "#|export\n",
                "import time\n",
                "from typing import Callable, Union, List\n",
                "from watchdog.observers import Observer\n",
                "from watchdog.events import FileSystemEventHandler\n",
                "from threading import Thread\n",
                "import os"
            ]
        },
        {
            "cell_type": "code",
            "execution_count": null,
            "id": "fc713417",
            "metadata": {},
            "outputs": [],
            "source": [
                "#|export\n",
                "def create_watchdog_daemon(\n",
                "    folder_paths: Union[str, List[str]],\n",
                "    lock_file: str,\n",
                "    callback: Callable[[object], None],\n",
                "    recursive: bool = True,\n",
                "    verbose: bool = False,\n",
                ") -> Callable[[], None]:\n",
                "    \"\"\"\n",
                "    Starts a background daemon that watches `folder_paths` for changes.\n",
                "    Calls `callback(event)` whenever a file changes.\n",
                "\n",
                "    Args:\n",
                "        folder_paths: A path or list of paths to watch.\n",
                "        callback: The function to call when a file changes. Receives the event as argument.\n",
                "        recursive: Whether to watch folders recursively.\n",
                "        lock_file: Optional path to a lock file to ensure only one daemon is running.\n",
                "\n",
                "    Returns:\n",
                "        A (start, stop) function pair for the daemon.\n",
                "    \"\"\"\n",
                "    if not isinstance(folder_paths, list):\n",
                "        folder_paths = [folder_paths]\n",
                "    \n",
                "    if lock_file and os.path.exists(lock_file):\n",
                "        if verbose: print(f\"[watchdog_daemon] Lock file exists at {lock_file}. Daemon will not start.\")\n",
                "        return None, None\n",
                "\n",
                "    # Write PID or timestamp for traceability\n",
                "    with open(lock_file, \"w\") as f:\n",
                "        f.write(f\"{os.getpid()} - {time.ctime()}\\n\")\n",
                "\n",
                "    class _Handler(FileSystemEventHandler):\n",
                "        def on_any_event(self, event):\n",
                "            callback(event)\n",
                "\n",
                "    observer = Observer()\n",
                "    event_handler = _Handler()\n",
                "    for path in folder_paths:\n",
                "        if not os.path.isdir(path):\n",
                "            raise ValueError(f\"Error: {path} is not a directory.\")\n",
                "        observer.schedule(event_handler, path=path, recursive=recursive)\n",
                "\n",
                "    def _start():\n",
                "        observer.start()\n",
                "        if verbose: print(f\"[watchdog_daemon] Daemon started.\")\n",
                "        try:\n",
                "            while True:\n",
                "                time.sleep(1)\n",
                "                if not os.path.exists(lock_file): break\n",
                "        except KeyboardInterrupt:\n",
                "            observer.stop()\n",
                "        if verbose: print(\"[watchdog_daemon] Daemon stopped.\")\n",
                "        observer.join()\n",
                "        if lock_file and os.path.exists(lock_file):\n",
                "            os.remove(lock_file)\n",
                "\n",
                "    thread = Thread(target=_start, daemon=True)\n",
                "\n",
                "    def start():\n",
                "        thread.start()\n",
                "\n",
                "    def stop():\n",
                "        observer.stop()\n",
                "        observer.join()\n",
                "        if lock_file and os.path.exists(lock_file):\n",
                "            os.remove(lock_file)\n",
                "\n",
                "    return start, stop"
            ]
        },
        {
            "cell_type": "code",
            "execution_count": null,
            "id": "20e66fee",
            "metadata": {},
            "outputs": [
                {
                    "name": "stdout",
                    "output_type": "stream",
                    "text": [
                        "[watchdog_daemon] Daemon started.\n",
                        "[watchdog_daemon] Lock file exists at /var/folders/22/k6clk3m10258k07mjcnlswt40000gn/T/tmpzn1qsoj7. Daemon will not start.\n",
                        "[watchdog_daemon] Daemon started.\n"
                    ]
                }
            ],
            "source": [
                "import tempfile\n",
                "from pathlib import Path\n",
                "\n",
                "def my_callback(event):\n",
                "    print(\"Folder changed!\", event)\n",
                "\n",
                "lock_file_path = tempfile.mktemp()\n",
                "daemon_start, daemon_stop = create_watchdog_daemon(\"/bin\", lock_file_path, my_callback, verbose=True, recursive=False)\n",
                "daemon_start()\n",
                "time.sleep(0.1)\n",
                "_daemon_start, _daemon_stop = create_watchdog_daemon(\"/bin\", lock_file_path, my_callback, verbose=True, recursive=False)\n",
                "assert _daemon_start is None\n",
                "daemon_stop()\n",
                "_daemon_start, _daemon_stop = create_watchdog_daemon([\"/bin\", \"/\"], lock_file_path, my_callback, verbose=True, recursive=False)\n",
                "assert _daemon_start is not None\n",
                "_daemon_start()\n",
                "time.sleep(0.1)\n",
                "_daemon_stop()"
            ]
        }
    ],
    "metadata": {
        "jupytext": {
            "cell_metadata_filter": "-all",
            "main_language": "python",
            "notebook_metadata_filter": "-all"
        },
        "kernelspec": {
            "display_name": ".venv",
            "language": "python",
            "name": "python3"
        },
        "language_info": {
            "codemirror_mode": {
                "name": "ipython",
                "version": 3
            },
            "file_extension": ".py",
            "mimetype": "text/x-python",
            "name": "python",
            "nbconvert_exporter": "python",
            "pygments_lexer": "ipython3",
            "version": "3.11.11"
        },
        "nblite_source_hash": "1d97bab214b26064d5bfbdefcfbf0627c6ffa15808025ae3b1f19212d3ae0b2c"
    },
    "nbformat": 4,
    "nbformat_minor": 5
}