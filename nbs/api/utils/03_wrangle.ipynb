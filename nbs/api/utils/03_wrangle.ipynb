{
    "cells": [
        {
            "cell_type": "markdown",
            "id": "dce13b71",
            "metadata": {},
            "source": [
                "# 03_wrangle"
            ]
        },
        {
            "cell_type": "code",
            "execution_count": null,
            "id": "bc239ad0",
            "metadata": {},
            "outputs": [],
            "source": [
                "#|default_exp utils.wrangle"
            ]
        },
        {
            "cell_type": "code",
            "execution_count": null,
            "id": "8feaa982",
            "metadata": {},
            "outputs": [],
            "source": [
                "#|hide\n",
                "import nblite; from nblite import show_doc; nblite.nbl_export()\n",
                "import adulib.utils.wrangle as this_module"
            ]
        },
        {
            "cell_type": "code",
            "execution_count": null,
            "id": "e5404a62",
            "metadata": {},
            "outputs": [],
            "source": [
                "#|export\n",
                "import pandas as pd\n",
                "from typing import List"
            ]
        },
        {
            "cell_type": "code",
            "execution_count": null,
            "id": "125138c4",
            "metadata": {},
            "outputs": [
                {
                    "data": {
                        "text/markdown": [
                            "## df_to_tsv\n",
                            "\n",
                            "```python\n",
                            "df_to_tsv(df: DataFrame, include_index: bool) -> str\n",
                            "```\n",
                            "\n",
                            "Converts a DataFrame to a tab-separated string.\n",
                            "\n",
                            "Useful for copying to Excel or Google Sheets.\n",
                            "\n",
                            "---\n"
                        ],
                        "text/plain": [
                            "<IPython.core.display.Markdown object>"
                        ]
                    },
                    "execution_count": null,
                    "metadata": {},
                    "output_type": "execute_result"
                }
            ],
            "source": [
                "#|hide\n",
                "show_doc(this_module.df_to_tsv)"
            ]
        },
        {
            "cell_type": "code",
            "execution_count": null,
            "id": "8f7f22f9",
            "metadata": {},
            "outputs": [],
            "source": [
                "#|export\n",
                "def df_to_tsv(df: pd.DataFrame, include_index: bool = False) -> str:\n",
                "    \"\"\"\n",
                "    Converts a DataFrame to a tab-separated string.\n",
                "    Useful for copying to Excel or Google Sheets.\n",
                "    \"\"\"\n",
                "    return df.to_csv(sep='\\t', index=include_index)"
            ]
        },
        {
            "cell_type": "code",
            "execution_count": null,
            "id": "28c3cf35",
            "metadata": {},
            "outputs": [
                {
                    "data": {
                        "text/plain": [
                            "'name\\tage\\nAlice\\t30\\nBob\\t25\\n'"
                        ]
                    },
                    "execution_count": null,
                    "metadata": {},
                    "output_type": "execute_result"
                }
            ],
            "source": [
                "df = pd.DataFrame([\n",
                "    {\"name\": \"Alice\", \"age\": 30},\n",
                "    {\"name\": \"Bob\", \"age\": 25}\n",
                "])\n",
                "df_to_tsv(df)"
            ]
        },
        {
            "cell_type": "code",
            "execution_count": null,
            "id": "77c25160",
            "metadata": {},
            "outputs": [
                {
                    "data": {
                        "text/markdown": [
                            "## df_to_clipboard\n",
                            "\n",
                            "```python\n",
                            "df_to_clipboard(df: DataFrame, include_index: bool)\n",
                            "```\n",
                            "\n",
                            "Converts a DataFrame to a tab-separated string and copies it to the clipboard,\n",
                            "\n",
                            "so it can be pasted directly into Google Sheets or Excel.\n",
                            "\n",
                            "**Arguments:**\n",
                            "- `df` (*pd.DataFrame*): The DataFrame to copy.\n",
                            "- `include_index` (*bool*): Whether to include the index in the output.\n",
                            "\n",
                            "---\n"
                        ],
                        "text/plain": [
                            "<IPython.core.display.Markdown object>"
                        ]
                    },
                    "execution_count": null,
                    "metadata": {},
                    "output_type": "execute_result"
                }
            ],
            "source": [
                "#|hide\n",
                "show_doc(this_module.df_to_clipboard)"
            ]
        },
        {
            "cell_type": "code",
            "execution_count": null,
            "id": "502404a0",
            "metadata": {},
            "outputs": [],
            "source": [
                "#|export\n",
                "def df_to_clipboard(df: pd.DataFrame, include_index: bool = False):\n",
                "    \"\"\"\n",
                "    Converts a DataFrame to a tab-separated string and copies it to the clipboard,\n",
                "    so it can be pasted directly into Google Sheets or Excel.\n",
                "    \n",
                "    Args:\n",
                "        df (pd.DataFrame): The DataFrame to copy.\n",
                "        include_index (bool): Whether to include the index in the output.\n",
                "    \"\"\"\n",
                "    import pyperclip\n",
                "    pyperclip.copy(df_to_tsv(df, include_index))"
            ]
        },
        {
            "cell_type": "code",
            "execution_count": null,
            "id": "d7adc238",
            "metadata": {},
            "outputs": [
                {
                    "data": {
                        "text/markdown": [
                            "## flatten_dict\n",
                            "\n",
                            "```python\n",
                            "flatten_dict(d, prefix, sep, keep_unflattened: typing.List[str])\n",
                            "```\n",
                            "\n",
                            "Flatten a nested dictionary into a single-level dictionary with compound keys.\n",
                            "\n",
                            "This function recursively flattens dictionaries and lists. Nested keys are concatenated \n",
                            "using a separator (default is an underscore). Lists are flattened by appending the index \n",
                            "to the key. Nested dictionaries and lists within lists are also handled.\n",
                            "\n",
                            "**Arguments:**\n",
                            "- `d` (*dict*): The dictionary to flatten.\n",
                            "- `prefix` (*str*): The base key to use for the current level of recursion. \n",
                            "Used internally during recursion. Defaults to ''.\n",
                            "- `sep` (*str*): Separator to use between concatenated keys. Defaults to '.'.\n",
                            "\n",
                            "**Returns:** *dict*: A new flattened dictionary with compound keys.\n",
                            "\n",
                            "---\n"
                        ],
                        "text/plain": [
                            "<IPython.core.display.Markdown object>"
                        ]
                    },
                    "execution_count": null,
                    "metadata": {},
                    "output_type": "execute_result"
                }
            ],
            "source": [
                "#|hide\n",
                "show_doc(this_module.flatten_dict)"
            ]
        },
        {
            "cell_type": "code",
            "execution_count": null,
            "id": "9967b1c9",
            "metadata": {},
            "outputs": [],
            "source": [
                "#|export\n",
                "def flatten_dict(d, prefix='', sep='.', keep_unflattened: List[str] = None):\n",
                "    \"\"\"\n",
                "    Flatten a nested dictionary into a single-level dictionary with compound keys.\n",
                "\n",
                "    This function recursively flattens dictionaries and lists. Nested keys are concatenated \n",
                "    using a separator (default is an underscore). Lists are flattened by appending the index \n",
                "    to the key. Nested dictionaries and lists within lists are also handled.\n",
                "\n",
                "    Args:\n",
                "        d (dict): The dictionary to flatten.\n",
                "        prefix (str, optional): The base key to use for the current level of recursion. \n",
                "                                    Used internally during recursion. Defaults to ''.\n",
                "        sep (str, optional): Separator to use between concatenated keys. Defaults to '.'.\n",
                "\n",
                "    Returns:\n",
                "        dict: A new flattened dictionary with compound keys.\n",
                "    \"\"\"\n",
                "    items = []\n",
                "    keep_unflattened = keep_unflattened or []\n",
                "    for k, v in d.items():\n",
                "        new_key = f\"{prefix}{sep}{k}\" if prefix else k\n",
                "        if isinstance(v, dict) and new_key not in keep_unflattened:\n",
                "            items.extend(flatten_dict(v, new_key, sep=sep, keep_unflattened=keep_unflattened).items())\n",
                "        elif isinstance(v, list) and new_key not in keep_unflattened:\n",
                "            for i, item in enumerate(v):\n",
                "                indexed_key = f\"{new_key}{sep}{i}\"\n",
                "                if isinstance(item, dict) and indexed_key not in keep_unflattened:\n",
                "                    items.extend(flatten_dict(item, indexed_key, sep=sep, keep_unflattened=keep_unflattened).items())\n",
                "                else:\n",
                "                    items.append((indexed_key, item))\n",
                "        else:\n",
                "            items.append((new_key, v))\n",
                "    return dict(items)"
            ]
        },
        {
            "cell_type": "code",
            "execution_count": null,
            "id": "1e1220b3",
            "metadata": {},
            "outputs": [
                {
                    "data": {
                        "text/plain": [
                            "{'key1': 'val',\n",
                            " 'key2.0': 1,\n",
                            " 'key2.1': 2,\n",
                            " 'key2.2': 3,\n",
                            " 'key3.foo': 'bar',\n",
                            " 'key3.baz.0': 1,\n",
                            " 'key3.baz.1': 2,\n",
                            " 'key3.baz.2': 3,\n",
                            " 'key3.qux.key4': 'value',\n",
                            " 'key3.qux.key5.0': 4,\n",
                            " 'key3.qux.key5.1': 5,\n",
                            " 'key3.qux.key5.2': 6}"
                        ]
                    },
                    "execution_count": null,
                    "metadata": {},
                    "output_type": "execute_result"
                }
            ],
            "source": [
                "data = {\n",
                "\t'key1' : 'val',\n",
                "\t'key2' : [1, 2, 3],\n",
                "\t'key3' : {\n",
                "\t\t'foo' : 'bar',\n",
                "\t\t'baz' : [1, 2, 3],\n",
                "        'qux' : {\n",
                "            'key4' : 'value',\n",
                "            'key5' : [4, 5, 6]\n",
                "        }\n",
                "\t}\n",
                "}\n",
                "\n",
                "flatten_dict(data)"
            ]
        },
        {
            "cell_type": "code",
            "execution_count": null,
            "id": "76e0b81e",
            "metadata": {},
            "outputs": [
                {
                    "data": {
                        "text/plain": [
                            "{'key1': 'val',\n",
                            " 'key2.0': 1,\n",
                            " 'key2.1': 2,\n",
                            " 'key2.2': 3,\n",
                            " 'key3.foo': 'bar',\n",
                            " 'key3.baz.0': 1,\n",
                            " 'key3.baz.1': 2,\n",
                            " 'key3.baz.2': 3,\n",
                            " 'key3.qux': {'key4': 'value', 'key5': [4, 5, 6]}}"
                        ]
                    },
                    "execution_count": null,
                    "metadata": {},
                    "output_type": "execute_result"
                }
            ],
            "source": [
                "flatten_dict(data, keep_unflattened=['key3.qux'])"
            ]
        },
        {
            "cell_type": "code",
            "execution_count": null,
            "id": "f349b0c3",
            "metadata": {},
            "outputs": [
                {
                    "data": {
                        "text/markdown": [
                            "## flatten_records_to_df\n",
                            "\n",
                            "```python\n",
                            "flatten_records_to_df(\n",
                            "   records,\n",
                            "   col_prefix,\n",
                            "   sep,\n",
                            "   max_cols,\n",
                            "   keep_unflattened: typing.List[str]\n",
                            ")\n",
                            "```\n",
                            "\n",
                            "Flattens a list of (potentially nested) dictionaries into a pandas DataFrame.\n",
                            "\n",
                            "Each dictionary in the input list is flattened using compound keys for nested structures.\n",
                            "Lists within dictionaries are expanded with indexed keys. The resulting DataFrame has one row per record.\n",
                            "\n",
                            "**Arguments:**\n",
                            "- `records` (*list*): List of dictionaries to flatten.\n",
                            "- `col_prefix` (*str*): Prefix to add to all column names. Defaults to ''.\n",
                            "- `sep` (*str*): Separator to use between concatenated keys. Defaults to '.'.\n",
                            "- `max_cols` (*int*): Maximum allowed number of columns. Raises ValueError if exceeded.\n",
                            "\n",
                            "**Returns:** *pd.DataFrame*: DataFrame with flattened records as rows.\n",
                            "\n",
                            "---\n"
                        ],
                        "text/plain": [
                            "<IPython.core.display.Markdown object>"
                        ]
                    },
                    "execution_count": null,
                    "metadata": {},
                    "output_type": "execute_result"
                }
            ],
            "source": [
                "#|hide\n",
                "show_doc(this_module.flatten_records_to_df)"
            ]
        },
        {
            "cell_type": "code",
            "execution_count": null,
            "id": "169c6a67",
            "metadata": {},
            "outputs": [],
            "source": [
                "#|export\n",
                "def flatten_records_to_df(records, col_prefix='', sep='.', max_cols=None, keep_unflattened: List[str] = None):\n",
                "    \"\"\"\n",
                "    Flattens a list of (potentially nested) dictionaries into a pandas DataFrame.\n",
                "\n",
                "    Each dictionary in the input list is flattened using compound keys for nested structures.\n",
                "    Lists within dictionaries are expanded with indexed keys. The resulting DataFrame has one row per record.\n",
                "\n",
                "    Args:\n",
                "        records (list): List of dictionaries to flatten.\n",
                "        col_prefix (str, optional): Prefix to add to all column names. Defaults to ''.\n",
                "        sep (str, optional): Separator to use between concatenated keys. Defaults to '.'.\n",
                "        max_cols (int, optional): Maximum allowed number of columns. Raises ValueError if exceeded.\n",
                "\n",
                "    Returns:\n",
                "        pd.DataFrame: DataFrame with flattened records as rows.\n",
                "    \"\"\"\n",
                "    cols = set()\n",
                "    flattened_records = []\n",
                "    for record in records:\n",
                "        flattened = flatten_dict(record, prefix=col_prefix, sep=sep, keep_unflattened=keep_unflattened)\n",
                "        flattened_records.append(flattened)\n",
                "        cols.update(flattened.keys())\n",
                "        if max_cols is not None and len(cols) >= max_cols:\n",
                "            raise ValueError(f\"Maximum number of columns ({max_cols}) exceeded.\")\n",
                "    return pd.DataFrame(flattened_records)"
            ]
        },
        {
            "cell_type": "code",
            "execution_count": null,
            "id": "0a59a8ff",
            "metadata": {},
            "outputs": [
                {
                    "data": {
                        "text/html": [
                            "<div>\n",
                            "<style scoped>\n",
                            "    .dataframe tbody tr th:only-of-type {\n",
                            "        vertical-align: middle;\n",
                            "    }\n",
                            "\n",
                            "    .dataframe tbody tr th {\n",
                            "        vertical-align: top;\n",
                            "    }\n",
                            "\n",
                            "    .dataframe thead th {\n",
                            "        text-align: right;\n",
                            "    }\n",
                            "</style>\n",
                            "<table border=\"1\" class=\"dataframe\">\n",
                            "  <thead>\n",
                            "    <tr style=\"text-align: right;\">\n",
                            "      <th></th>\n",
                            "      <th>name</th>\n",
                            "      <th>age</th>\n",
                            "      <th>address.city</th>\n",
                            "      <th>address.zip</th>\n",
                            "    </tr>\n",
                            "  </thead>\n",
                            "  <tbody>\n",
                            "    <tr>\n",
                            "      <th>0</th>\n",
                            "      <td>Alice</td>\n",
                            "      <td>30</td>\n",
                            "      <td>Wonderland</td>\n",
                            "      <td>12345</td>\n",
                            "    </tr>\n",
                            "    <tr>\n",
                            "      <th>1</th>\n",
                            "      <td>Bob</td>\n",
                            "      <td>25</td>\n",
                            "      <td>Builderland</td>\n",
                            "      <td>67890</td>\n",
                            "    </tr>\n",
                            "    <tr>\n",
                            "      <th>2</th>\n",
                            "      <td>Charlie</td>\n",
                            "      <td>35</td>\n",
                            "      <td>Chocolate Factory</td>\n",
                            "      <td>54321</td>\n",
                            "    </tr>\n",
                            "  </tbody>\n",
                            "</table>\n",
                            "</div>"
                        ],
                        "text/plain": [
                            "      name  age       address.city address.zip\n",
                            "0    Alice   30         Wonderland       12345\n",
                            "1      Bob   25        Builderland       67890\n",
                            "2  Charlie   35  Chocolate Factory       54321"
                        ]
                    },
                    "execution_count": null,
                    "metadata": {},
                    "output_type": "execute_result"
                }
            ],
            "source": [
                "records = [\n",
                "    {'name': 'Alice', 'age': 30, 'address': {'city': 'Wonderland', 'zip': '12345'}},\n",
                "    {'name': 'Bob', 'age': 25, 'address': {'city': 'Builderland', 'zip': '67890'}},\n",
                "    {'name': 'Charlie', 'age': 35, 'address': {'city': 'Chocolate Factory', 'zip': '54321'}}\n",
                "]\n",
                "\n",
                "flatten_records_to_df(records)"
            ]
        },
        {
            "cell_type": "code",
            "execution_count": null,
            "id": "caed5aec",
            "metadata": {},
            "outputs": [
                {
                    "data": {
                        "text/html": [
                            "<div>\n",
                            "<style scoped>\n",
                            "    .dataframe tbody tr th:only-of-type {\n",
                            "        vertical-align: middle;\n",
                            "    }\n",
                            "\n",
                            "    .dataframe tbody tr th {\n",
                            "        vertical-align: top;\n",
                            "    }\n",
                            "\n",
                            "    .dataframe thead th {\n",
                            "        text-align: right;\n",
                            "    }\n",
                            "</style>\n",
                            "<table border=\"1\" class=\"dataframe\">\n",
                            "  <thead>\n",
                            "    <tr style=\"text-align: right;\">\n",
                            "      <th></th>\n",
                            "      <th>name</th>\n",
                            "      <th>age</th>\n",
                            "      <th>address</th>\n",
                            "    </tr>\n",
                            "  </thead>\n",
                            "  <tbody>\n",
                            "    <tr>\n",
                            "      <th>0</th>\n",
                            "      <td>Alice</td>\n",
                            "      <td>30</td>\n",
                            "      <td>{'city': 'Wonderland', 'zip': '12345'}</td>\n",
                            "    </tr>\n",
                            "    <tr>\n",
                            "      <th>1</th>\n",
                            "      <td>Bob</td>\n",
                            "      <td>25</td>\n",
                            "      <td>{'city': 'Builderland', 'zip': '67890'}</td>\n",
                            "    </tr>\n",
                            "    <tr>\n",
                            "      <th>2</th>\n",
                            "      <td>Charlie</td>\n",
                            "      <td>35</td>\n",
                            "      <td>{'city': 'Chocolate Factory', 'zip': '54321'}</td>\n",
                            "    </tr>\n",
                            "  </tbody>\n",
                            "</table>\n",
                            "</div>"
                        ],
                        "text/plain": [
                            "      name  age                                        address\n",
                            "0    Alice   30         {'city': 'Wonderland', 'zip': '12345'}\n",
                            "1      Bob   25        {'city': 'Builderland', 'zip': '67890'}\n",
                            "2  Charlie   35  {'city': 'Chocolate Factory', 'zip': '54321'}"
                        ]
                    },
                    "execution_count": null,
                    "metadata": {},
                    "output_type": "execute_result"
                }
            ],
            "source": [
                "flatten_records_to_df(records, keep_unflattened=['address'])"
            ]
        }
    ],
    "metadata": {
        "kernelspec": {
            "display_name": "adulib",
            "language": "python",
            "name": "python3"
        },
        "language_info": {
            "codemirror_mode": {
                "name": "ipython",
                "version": 3
            },
            "file_extension": ".py",
            "mimetype": "text/x-python",
            "name": "python",
            "nbconvert_exporter": "python",
            "pygments_lexer": "ipython3",
            "version": "3.11.11"
        },
        "nblite_source_hash": "7d5c2544fb00793e5614e990ffa869d4d9cd5d82a6a26da24eda48d1b69f3dea"
    },
    "nbformat": 4,
    "nbformat_minor": 5
}