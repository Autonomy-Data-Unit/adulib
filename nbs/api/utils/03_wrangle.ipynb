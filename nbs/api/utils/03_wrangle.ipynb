{
    "cells": [
        {
            "cell_type": "markdown",
            "id": "dce13b71",
            "metadata": {},
            "source": [
                "# 03_wrangle"
            ]
        },
        {
            "cell_type": "code",
            "execution_count": null,
            "id": "bc239ad0",
            "metadata": {},
            "outputs": [],
            "source": [
                "#|default_exp utils.wrangle"
            ]
        },
        {
            "cell_type": "code",
            "execution_count": null,
            "id": "8feaa982",
            "metadata": {},
            "outputs": [],
            "source": [
                "#|hide\n",
                "import nblite; from nblite import show_doc; nblite.nbl_export()\n",
                "import adulib.utils.wrangle as this_module"
            ]
        },
        {
            "cell_type": "code",
            "execution_count": null,
            "id": "e5404a62",
            "metadata": {},
            "outputs": [],
            "source": [
                "#|export\n",
                "import pandas as pd"
            ]
        },
        {
            "cell_type": "code",
            "execution_count": null,
            "id": "125138c4",
            "metadata": {},
            "outputs": [
                {
                    "data": {
                        "text/markdown": [
                            "## df_to_tsv\n",
                            "\n",
                            "```python\n",
                            "df_to_tsv(df: DataFrame, include_index: bool) -> str\n",
                            "```\n",
                            "\n",
                            "Converts a DataFrame to a tab-separated string.\n",
                            "\n",
                            "Useful for copying to Excel or Google Sheets.\n",
                            "\n",
                            "---\n"
                        ],
                        "text/plain": [
                            "<IPython.core.display.Markdown object>"
                        ]
                    },
                    "execution_count": null,
                    "metadata": {},
                    "output_type": "execute_result"
                }
            ],
            "source": [
                "#|hide\n",
                "show_doc(this_module.df_to_tsv)"
            ]
        },
        {
            "cell_type": "code",
            "execution_count": null,
            "id": "8f7f22f9",
            "metadata": {},
            "outputs": [],
            "source": [
                "#|export\n",
                "def df_to_tsv(df: pd.DataFrame, include_index: bool = False) -> str:\n",
                "    \"\"\"\n",
                "    Converts a DataFrame to a tab-separated string.\n",
                "    Useful for copying to Excel or Google Sheets.\n",
                "    \"\"\"\n",
                "    return df.to_csv(sep='\\t', index=include_index)"
            ]
        },
        {
            "cell_type": "code",
            "execution_count": null,
            "id": "28c3cf35",
            "metadata": {},
            "outputs": [
                {
                    "data": {
                        "text/plain": [
                            "'name\\tage\\nAlice\\t30\\nBob\\t25\\n'"
                        ]
                    },
                    "execution_count": null,
                    "metadata": {},
                    "output_type": "execute_result"
                }
            ],
            "source": [
                "df = pd.DataFrame([\n",
                "    {\"name\": \"Alice\", \"age\": 30},\n",
                "    {\"name\": \"Bob\", \"age\": 25}\n",
                "])\n",
                "df_to_tsv(df)"
            ]
        },
        {
            "cell_type": "code",
            "execution_count": null,
            "id": "77c25160",
            "metadata": {},
            "outputs": [
                {
                    "data": {
                        "text/markdown": [
                            "## df_to_clipboard\n",
                            "\n",
                            "```python\n",
                            "df_to_clipboard(df: DataFrame, include_index: bool)\n",
                            "```\n",
                            "\n",
                            "Converts a DataFrame to a tab-separated string and copies it to the clipboard,\n",
                            "\n",
                            "so it can be pasted directly into Google Sheets or Excel.\n",
                            "\n",
                            "**Arguments:**\n",
                            "- `df` (*pd.DataFrame*): The DataFrame to copy.\n",
                            "- `include_index` (*bool*): Whether to include the index in the output.\n",
                            "\n",
                            "---\n"
                        ],
                        "text/plain": [
                            "<IPython.core.display.Markdown object>"
                        ]
                    },
                    "execution_count": null,
                    "metadata": {},
                    "output_type": "execute_result"
                }
            ],
            "source": [
                "#|hide\n",
                "show_doc(this_module.df_to_clipboard)"
            ]
        },
        {
            "cell_type": "code",
            "execution_count": null,
            "id": "502404a0",
            "metadata": {},
            "outputs": [],
            "source": [
                "#|export\n",
                "def df_to_clipboard(df: pd.DataFrame, include_index: bool = False):\n",
                "    \"\"\"\n",
                "    Converts a DataFrame to a tab-separated string and copies it to the clipboard,\n",
                "    so it can be pasted directly into Google Sheets or Excel.\n",
                "    \n",
                "    Args:\n",
                "        df (pd.DataFrame): The DataFrame to copy.\n",
                "        include_index (bool): Whether to include the index in the output.\n",
                "    \"\"\"\n",
                "    import pyperclip\n",
                "    pyperclip.copy(df_to_tsv(df, include_index))"
            ]
        }
    ],
    "metadata": {
        "kernelspec": {
            "display_name": "adulib",
            "language": "python",
            "name": "python3"
        },
        "language_info": {
            "codemirror_mode": {
                "name": "ipython",
                "version": 3
            },
            "file_extension": ".py",
            "mimetype": "text/x-python",
            "name": "python",
            "nbconvert_exporter": "python",
            "pygments_lexer": "ipython3",
            "version": "3.11.11"
        },
        "nblite_source_hash": "f19f324b8b4c53189195bf81e9b75436b5fc8647d28b3f69d0ba44065722a4d5"
    },
    "nbformat": 4,
    "nbformat_minor": 5
}