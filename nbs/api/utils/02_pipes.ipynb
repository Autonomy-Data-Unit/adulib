{
    "cells": [
        {
            "cell_type": "markdown",
            "id": "9d6a7af1",
            "metadata": {},
            "source": [
                "# 02_pipes"
            ]
        },
        {
            "cell_type": "code",
            "execution_count": null,
            "id": "535398a6",
            "metadata": {},
            "outputs": [],
            "source": [
                "#|default_exp utils.pipes"
            ]
        },
        {
            "cell_type": "code",
            "execution_count": null,
            "id": "8cc61aba",
            "metadata": {},
            "outputs": [],
            "source": [
                "#|hide\n",
                "import nblite; from nblite import show_doc; nblite.nbl_export()\n",
                "import adulib.utils.pipes as this_module"
            ]
        },
        {
            "cell_type": "code",
            "execution_count": null,
            "id": "0e1df325",
            "metadata": {},
            "outputs": [],
            "source": [
                "#|export\n",
                "import pipe"
            ]
        },
        {
            "cell_type": "markdown",
            "id": "f68ef1a0",
            "metadata": {},
            "source": [
                "## Mathematical operations"
            ]
        },
        {
            "cell_type": "code",
            "execution_count": null,
            "id": "d3049da4",
            "metadata": {},
            "outputs": [],
            "source": [
                "#|export\n",
                "psum = pipe.Pipe(lambda x, start=0: sum(x, start=start))\n",
                "pmin = pipe.Pipe(lambda x, key=(lambda y:y): min(x, key=key))\n",
                "pmax = pipe.Pipe(lambda x, key=(lambda y:y): max(x, key=key))\n",
                "pabs = pipe.Pipe(lambda x: abs(x))\n",
                "padd = pipe.Pipe(lambda x, y: x + y)\n",
                "psub = pipe.Pipe(lambda x, y: x - y)\n",
                "pmul = pipe.Pipe(lambda x, y: x * y)\n",
                "pdiv = pipe.Pipe(lambda x, y: x / y)\n",
                "pmod = pipe.Pipe(lambda x, y: x % y)"
            ]
        },
        {
            "cell_type": "code",
            "execution_count": null,
            "id": "5e58f3b4",
            "metadata": {},
            "outputs": [
                {
                    "data": {
                        "text/plain": [
                            "True"
                        ]
                    },
                    "execution_count": null,
                    "metadata": {},
                    "output_type": "execute_result"
                }
            ],
            "source": [
                "[2,3,4] | psum(start=1) == sum([2,3,4], start=1)"
            ]
        },
        {
            "cell_type": "code",
            "execution_count": null,
            "id": "32ecd852",
            "metadata": {},
            "outputs": [
                {
                    "data": {
                        "text/plain": [
                            "(3, 1)"
                        ]
                    },
                    "execution_count": null,
                    "metadata": {},
                    "output_type": "execute_result"
                }
            ],
            "source": [
                "[(5,2), (3,1), (4,2), (6,3)] | pmin(key=lambda x: x[0]) "
            ]
        },
        {
            "cell_type": "code",
            "execution_count": null,
            "id": "c0dda95f",
            "metadata": {},
            "outputs": [
                {
                    "data": {
                        "text/plain": [
                            "6.0"
                        ]
                    },
                    "execution_count": null,
                    "metadata": {},
                    "output_type": "execute_result"
                }
            ],
            "source": [
                "2 | padd(3) | psub(2) | pmul(4) | pdiv(2) | pmod(10)"
            ]
        },
        {
            "cell_type": "markdown",
            "id": "e940be04",
            "metadata": {},
            "source": [
                "## Type conversions"
            ]
        },
        {
            "cell_type": "code",
            "execution_count": null,
            "id": "551568bb",
            "metadata": {},
            "outputs": [],
            "source": [
                "#|export\n",
                "ptype = pipe.Pipe(lambda x, typ: typ(x))\n",
                "plist = pipe.Pipe(lambda x: list(x))\n",
                "ptuple = pipe.Pipe(lambda x: tuple(x))\n",
                "pdict = pipe.Pipe(lambda x: dict(x))\n",
                "pset = pipe.Pipe(lambda x: set(x))\n",
                "pint = pipe.Pipe(lambda x: int(x))\n",
                "pfloat = pipe.Pipe(lambda x: float(x))\n",
                "pstr = pipe.Pipe(lambda x: str(x))\n",
                "pbool = pipe.Pipe(lambda x: bool(x))"
            ]
        },
        {
            "cell_type": "code",
            "execution_count": null,
            "id": "74743ec2",
            "metadata": {},
            "outputs": [
                {
                    "data": {
                        "text/plain": [
                            "{1, 2, 4, 6, 7}"
                        ]
                    },
                    "execution_count": null,
                    "metadata": {},
                    "output_type": "execute_result"
                }
            ],
            "source": [
                "[1,6,2,6,2,4,6,7] | pset"
            ]
        },
        {
            "cell_type": "markdown",
            "id": "0b80319d",
            "metadata": {},
            "source": [
                "## String operations"
            ]
        },
        {
            "cell_type": "code",
            "execution_count": null,
            "id": "42466af6",
            "metadata": {},
            "outputs": [],
            "source": [
                "#|export\n",
                "pjoin = pipe.Pipe(lambda x, sep: sep.join(str(i) for i in x))\n",
                "psplit = pipe.Pipe(lambda x, sep=None, maxsplit=-1: x.split(sep, maxsplit=maxsplit))\n",
                "pstrip = pipe.Pipe(lambda x, chars=None: x.strip(chars))\n",
                "plstrip = pipe.Pipe(lambda x, chars=None: x.lstrip(chars))\n",
                "prstrip = pipe.Pipe(lambda x, chars=None: x.rstrip(chars))\n",
                "pupper = pipe.Pipe(lambda x: x.upper())\n",
                "plower = pipe.Pipe(lambda x: x.lower())"
            ]
        },
        {
            "cell_type": "code",
            "execution_count": null,
            "id": "ebd12eb9",
            "metadata": {},
            "outputs": [
                {
                    "data": {
                        "text/plain": [
                            "'HELLO    WORLD'"
                        ]
                    },
                    "execution_count": null,
                    "metadata": {},
                    "output_type": "execute_result"
                }
            ],
            "source": [
                "\"hello world!\" | pupper | prstrip(\"!\") | psplit | pjoin(\"    \")"
            ]
        },
        {
            "cell_type": "markdown",
            "id": "1ba4551f",
            "metadata": {},
            "source": [
                "## Function operations"
            ]
        },
        {
            "cell_type": "code",
            "execution_count": null,
            "id": "86dfde87",
            "metadata": {},
            "outputs": [],
            "source": [
                "#|export\n",
                "pbind = pipe.Pipe(lambda x, f, *args, **kwargs: lambda *args2, **kwargs2: f(x, *args, *args2, **kwargs, **kwargs2))\n",
                "ppartial = pipe.Pipe(lambda f, *args, **kwargs: lambda *args2, **kwargs2: f(*args, *args2, **kwargs, **kwargs2))\n",
                "papply = pipe.Pipe(lambda x, f: f(x))\n",
                "pcall = pipe.Pipe(lambda f, *args, **kwargs: f(*args, **kwargs))"
            ]
        },
        {
            "cell_type": "code",
            "execution_count": null,
            "id": "5455c137",
            "metadata": {},
            "outputs": [
                {
                    "data": {
                        "text/plain": [
                            "25"
                        ]
                    },
                    "execution_count": null,
                    "metadata": {},
                    "output_type": "execute_result"
                }
            ],
            "source": [
                "def square(x):\n",
                "    return x**2\n",
                "\n",
                "5 | pbind(square) | pcall"
            ]
        },
        {
            "cell_type": "code",
            "execution_count": null,
            "id": "d80da011",
            "metadata": {},
            "outputs": [
                {
                    "data": {
                        "text/plain": [
                            "10"
                        ]
                    },
                    "execution_count": null,
                    "metadata": {},
                    "output_type": "execute_result"
                }
            ],
            "source": [
                "(lambda: 10) | pcall"
            ]
        },
        {
            "cell_type": "code",
            "execution_count": null,
            "id": "998ebe36",
            "metadata": {},
            "outputs": [
                {
                    "data": {
                        "text/plain": [
                            "5"
                        ]
                    },
                    "execution_count": null,
                    "metadata": {},
                    "output_type": "execute_result"
                }
            ],
            "source": [
                "(lambda x, y: x + y) | ppartial(2) | ppartial(3) | pcall"
            ]
        },
        {
            "cell_type": "markdown",
            "id": "b78f933b",
            "metadata": {},
            "source": [
                "## Collection operations"
            ]
        },
        {
            "cell_type": "code",
            "execution_count": null,
            "id": "8ead0aa2",
            "metadata": {},
            "outputs": [],
            "source": [
                "#|export\n",
                "def _pflatten_helper(lst, curr_level, levels=None):\n",
                "    \"\"\"Helper function to flatten a nested list.\"\"\"\n",
                "    if levels is not None and curr_level > levels:\n",
                "        yield lst\n",
                "        return\n",
                "    for item in lst:\n",
                "        if isinstance(item, list):\n",
                "            yield from _pflatten_helper(item, curr_level+1, levels)\n",
                "        else:\n",
                "            yield item\n",
                "\n",
                "pflatten = pipe.Pipe(lambda x, levels=None: _pflatten_helper(x, 0, levels))\n",
                "plen = pipe.Pipe(lambda x: len(x))"
            ]
        },
        {
            "cell_type": "code",
            "execution_count": null,
            "id": "e2e146cc",
            "metadata": {},
            "outputs": [],
            "source": [
                "#|export\n",
                "pmap = pipe.map\n",
                "puniq = pipe.uniq\n",
                "ptranspose = pipe.transpose\n",
                "pfilter = pipe.filter\n",
                "psort = pipe.sort\n",
                "pt = pipe.t\n",
                "penumerate = pipe.enumerate\n",
                "pzip = pipe.izip\n",
                "pslice = pipe.islice\n",
                "\n",
                "pbatched = pipe.batched\n",
                "pchain = pipe.chain\n",
                "pchain_with = pipe.chain_with\n",
                "pdedup = pipe.dedup\n",
                "pgroupby = pipe.groupby\n",
                "ppermutations = pipe.permutations\n",
                "preverse = pipe.reverse\n",
                "pskip_while = pipe.skip_while\n",
                "ptail = pipe.tail\n",
                "ptake = pipe.take\n",
                "ptake_while = pipe.take_while\n",
                "ptraverse = pipe.traverse"
            ]
        },
        {
            "cell_type": "code",
            "execution_count": null,
            "id": "c2edaf3b",
            "metadata": {},
            "outputs": [
                {
                    "data": {
                        "text/plain": [
                            "[1, 2, 3, 4, 5]"
                        ]
                    },
                    "execution_count": null,
                    "metadata": {},
                    "output_type": "execute_result"
                }
            ],
            "source": [
                "[1, [2, [3, [4, 5]]]] | pflatten | plist"
            ]
        },
        {
            "cell_type": "code",
            "execution_count": null,
            "id": "1c3e4ed7",
            "metadata": {},
            "outputs": [
                {
                    "data": {
                        "text/plain": [
                            "[1, 2, 3, 4, 5, 6, [7, 8, 9]]"
                        ]
                    },
                    "execution_count": null,
                    "metadata": {},
                    "output_type": "execute_result"
                }
            ],
            "source": [
                "[1, 2, 3, [4, 5, 6, [7, 8, 9]]] | pflatten(levels=1) | plist"
            ]
        },
        {
            "cell_type": "markdown",
            "id": "53d43967",
            "metadata": {},
            "source": [
                "## Misc operations"
            ]
        },
        {
            "cell_type": "code",
            "execution_count": null,
            "id": "9233c872",
            "metadata": {},
            "outputs": [],
            "source": [
                "#|export\n",
                "pget = pipe.Pipe(lambda x, k: x[k])\n",
                "pgetattr = pipe.Pipe(lambda x, k: getattr(x, k))\n",
                "ptee = pipe.tee"
            ]
        },
        {
            "cell_type": "code",
            "execution_count": null,
            "id": "2b674afd",
            "metadata": {},
            "outputs": [
                {
                    "data": {
                        "text/plain": [
                            "'value1'"
                        ]
                    },
                    "execution_count": null,
                    "metadata": {},
                    "output_type": "execute_result"
                }
            ],
            "source": [
                "{\"key1\": \"value1\", \"key2\": \"value2\"} | pget(\"key1\")"
            ]
        },
        {
            "cell_type": "code",
            "execution_count": null,
            "id": "f646102c",
            "metadata": {},
            "outputs": [
                {
                    "data": {
                        "text/plain": [
                            "123"
                        ]
                    },
                    "execution_count": null,
                    "metadata": {},
                    "output_type": "execute_result"
                }
            ],
            "source": [
                "class Foo:\n",
                "    def __init__(self):\n",
                "        self.x = 123\n",
                "        \n",
                "Foo() | pgetattr(\"x\")"
            ]
        },
        {
            "cell_type": "markdown",
            "id": "f8622917",
            "metadata": {},
            "source": [
                "## File/IO operations"
            ]
        },
        {
            "cell_type": "code",
            "execution_count": null,
            "id": "b07d12a0",
            "metadata": {},
            "outputs": [],
            "source": [
                "#|export\n",
                "@pipe.Pipe\n",
                "def pwrite(content, file_path=None, mode='w'):\n",
                "    import tempfile\n",
                "    if file_path is None:\n",
                "        file_path = tempfile.NamedTemporaryFile(delete=False).name\n",
                "    with open(file_path, mode) as f:\n",
                "        f.write(content)\n",
                "    return file_path\n",
                "    \n",
                "@pipe.Pipe\n",
                "def pread(file_path, mode='r'):\n",
                "    with open(file_path, mode) as f:\n",
                "        return f.read()\n",
                "    \n",
                "pshow = pipe.Pipe(lambda x: print(x) or x)  # Returns x for chaining"
            ]
        },
        {
            "cell_type": "code",
            "execution_count": null,
            "id": "c88da6b3",
            "metadata": {},
            "outputs": [
                {
                    "data": {
                        "text/plain": [
                            "'hello world'"
                        ]
                    },
                    "execution_count": null,
                    "metadata": {},
                    "output_type": "execute_result"
                }
            ],
            "source": [
                "\"hello world\" | pwrite | pread"
            ]
        },
        {
            "cell_type": "code",
            "execution_count": null,
            "id": "d23f0c2c",
            "metadata": {},
            "outputs": [
                {
                    "name": "stdout",
                    "output_type": "stream",
                    "text": [
                        "hello world\n"
                    ]
                },
                {
                    "data": {
                        "text/plain": [
                            "'hello world'"
                        ]
                    },
                    "execution_count": null,
                    "metadata": {},
                    "output_type": "execute_result"
                }
            ],
            "source": [
                "\"hello world\" | pshow"
            ]
        }
    ],
    "metadata": {
        "jupytext": {
            "cell_metadata_filter": "-all",
            "main_language": "python",
            "notebook_metadata_filter": "-all"
        },
        "kernelspec": {
            "display_name": ".venv",
            "language": "python",
            "name": "python3"
        },
        "language_info": {
            "codemirror_mode": {
                "name": "ipython",
                "version": 3
            },
            "file_extension": ".py",
            "mimetype": "text/x-python",
            "name": "python",
            "nbconvert_exporter": "python",
            "pygments_lexer": "ipython3",
            "version": "3.11.11"
        },
        "nblite_source_hash": "8a8df14836ac0b0a4472a474e88b6b2e829f74f673bd33da6a772e562e26dc48"
    },
    "nbformat": 4,
    "nbformat_minor": 5
}