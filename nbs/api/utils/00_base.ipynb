{
    "cells": [
        {
            "cell_type": "markdown",
            "id": "2dafeb9e",
            "metadata": {},
            "source": [
                "# utils\n",
                "\n",
                "General utility functions."
            ]
        },
        {
            "cell_type": "code",
            "execution_count": null,
            "id": "236d5ea3",
            "metadata": {},
            "outputs": [],
            "source": [
                "#|default_exp utils.base"
            ]
        },
        {
            "cell_type": "code",
            "execution_count": null,
            "id": "9f13558c",
            "metadata": {},
            "outputs": [],
            "source": [
                "#|hide\n",
                "import nblite; from nblite import show_doc; nblite.nbl_export()"
            ]
        },
        {
            "cell_type": "code",
            "execution_count": null,
            "id": "c988643d",
            "metadata": {},
            "outputs": [],
            "source": [
                "#|export\n",
                "import subprocess, os\n",
                "from pathlib import Path\n",
                "import tempfile"
            ]
        },
        {
            "cell_type": "code",
            "execution_count": null,
            "id": "c46761e1",
            "metadata": {},
            "outputs": [],
            "source": [
                "import adulib.utils as this_module"
            ]
        },
        {
            "cell_type": "code",
            "execution_count": null,
            "id": "984f91d0",
            "metadata": {},
            "outputs": [
                {
                    "data": {
                        "text/markdown": [
                            "## as_dict\n",
                            "\n",
                            "```python\n",
                            "as_dict(**kwargs)\n",
                            "```\n",
                            "\n",
                            "Convert keyword arguments to a dictionary.\n",
                            "\n",
                            "---\n"
                        ],
                        "text/plain": [
                            "<IPython.core.display.Markdown object>"
                        ]
                    },
                    "execution_count": null,
                    "metadata": {},
                    "output_type": "execute_result"
                }
            ],
            "source": [
                "#|hide\n",
                "show_doc(this_module.as_dict)"
            ]
        },
        {
            "cell_type": "code",
            "execution_count": null,
            "id": "ab9369a4",
            "metadata": {},
            "outputs": [],
            "source": [
                "#|export\n",
                "def as_dict(**kwargs):\n",
                "    \"\"\"\n",
                "    Convert keyword arguments to a dictionary.\n",
                "    \"\"\"\n",
                "    return kwargs"
            ]
        },
        {
            "cell_type": "code",
            "execution_count": null,
            "id": "2d4b0e0c",
            "metadata": {},
            "outputs": [
                {
                    "data": {
                        "text/markdown": [
                            "## check_mutual_exclusivity\n",
                            "\n",
                            "```python\n",
                            "check_mutual_exclusivity(*args, check_falsy)\n",
                            "```\n",
                            "\n",
                            "Check if only one of the arguments is falsy (or truthy, if check_falsy is False).\n",
                            "\n",
                            "---\n"
                        ],
                        "text/plain": [
                            "<IPython.core.display.Markdown object>"
                        ]
                    },
                    "execution_count": null,
                    "metadata": {},
                    "output_type": "execute_result"
                }
            ],
            "source": [
                "#|hide\n",
                "show_doc(this_module.check_mutual_exclusivity)"
            ]
        },
        {
            "cell_type": "code",
            "execution_count": null,
            "id": "51e25fd2",
            "metadata": {},
            "outputs": [],
            "source": [
                "#|export\n",
                "def check_mutual_exclusivity(*args, check_falsy=True):\n",
                "    \"\"\"\n",
                "    Check if only one of the arguments is falsy (or truthy, if check_falsy is False).\n",
                "    \"\"\"\n",
                "    if check_falsy:\n",
                "        return sum(bool(x) for x in args) == 1\n",
                "    else:\n",
                "        return sum(bool(x) for x in args) == 1"
            ]
        },
        {
            "cell_type": "code",
            "execution_count": null,
            "id": "76977904",
            "metadata": {},
            "outputs": [
                {
                    "data": {
                        "text/markdown": [
                            "## run_script\n",
                            "\n",
                            "```python\n",
                            "run_script(\n",
                            "   script_path: Path,\n",
                            "   cwd: Path,\n",
                            "   env: dict,\n",
                            "   interactive: bool,\n",
                            "   raise_on_error: bool\n",
                            ")\n",
                            "```\n",
                            "\n",
                            "Execute a Python or Bash script with specified parameters and environment variables.\n",
                            "\n",
                            "**Arguments:**\n",
                            "- `script_path` (*Path*): Path to the script file to execute (.py or .sh)\n",
                            "- `cwd` (*Path*): Working directory for script execution. Defaults to None.\n",
                            "- `env` (*dict*): Additional environment variables to pass to the script. Defaults to None.\n",
                            "- `interactive` (*bool*): Whether to run the script in interactive mode. Defaults to False.\n",
                            "- `raise_on_error` (*bool*): Whether to raise an exception on non-zero exit code. Defaults to True.\n",
                            "\n",
                            "**Returns:** *tuple*: A tuple containing:\n",
                            "- int: Return code from the script execution\n",
                            "- str or None: Standard output (None if interactive mode)\n",
                            "- bytes: Contents of the temporary output file\n",
                            "\n",
                            "---\n"
                        ],
                        "text/plain": [
                            "<IPython.core.display.Markdown object>"
                        ]
                    },
                    "execution_count": null,
                    "metadata": {},
                    "output_type": "execute_result"
                }
            ],
            "source": [
                "#|hide\n",
                "show_doc(this_module.run_script)"
            ]
        },
        {
            "cell_type": "code",
            "execution_count": null,
            "id": "71ca5c0b",
            "metadata": {},
            "outputs": [],
            "source": [
                "#|export\n",
                "def run_script(script_path: Path, cwd: Path = None, env: dict = None, interactive: bool = False, raise_on_error: bool = True):\n",
                "    \"\"\"Execute a Python or Bash script with specified parameters and environment variables.\n",
                "\n",
                "    Args:\n",
                "        script_path (Path): Path to the script file to execute (.py or .sh)\n",
                "        cwd (Path, optional): Working directory for script execution. Defaults to None.\n",
                "        env (dict, optional): Additional environment variables to pass to the script. Defaults to None.\n",
                "        interactive (bool, optional): Whether to run the script in interactive mode. Defaults to False.\n",
                "        raise_on_error (bool, optional): Whether to raise an exception on non-zero exit code. Defaults to True.\n",
                "\n",
                "    Returns:\n",
                "        tuple: A tuple containing:\n",
                "            - int: Return code from the script execution\n",
                "            - str or None: Standard output (None if interactive mode)\n",
                "            - bytes: Contents of the temporary output file\n",
                "\n",
                "    Raises:\n",
                "        FileNotFoundError: If the specified script does not exist\n",
                "        ValueError: If the script type is not supported (.py or .sh)\n",
                "        Exception: If the script fails and raise_on_error is True\n",
                "\n",
                "    Notes:\n",
                "        - The script's output can be captured in two ways:\n",
                "          1. Through stdout/stderr capture when not in interactive mode\n",
                "          2. Through a temporary file accessible via the OUT_PATH environment variable\n",
                "        - In interactive mode, the script uses the parent process's stdin/stdout/stderr\n",
                "    \"\"\"\n",
                "    if not script_path.exists():\n",
                "        raise FileNotFoundError(f\"Script '{script_path}' not found.\")\n",
                "    \n",
                "    if script_path.suffix == '.sh':\n",
                "        interpreter = \"bash\"\n",
                "    elif script_path.suffix == '.py':\n",
                "        interpreter = \"python\"\n",
                "    else:\n",
                "        raise ValueError(f\"Unsupported script type: {script_path.suffix}.\")\n",
                "    \n",
                "    cmd = [interpreter, script_path]\n",
                "    \n",
                "    with tempfile.NamedTemporaryFile(delete=True) as temp_file:\n",
                "        cmd_env = {\n",
                "            **os.environ,\n",
                "            **(env or {}),\n",
                "            \"OUT_PATH\": temp_file.name\n",
                "        }\n",
                "        \n",
                "        if not interactive:\n",
                "            result = subprocess.run(\n",
                "                cmd,\n",
                "                cwd=Path(cwd).as_posix() if cwd is not None else None,\n",
                "                env=cmd_env,\n",
                "                capture_output=True,\n",
                "                text=True\n",
                "            )\n",
                "            ret_code = result.returncode\n",
                "            ret_stdout = result.stdout\n",
                "        else:\n",
                "            process = subprocess.Popen(\n",
                "                cmd,\n",
                "                stdin=None,  # Use the parent's stdin\n",
                "                stdout=None, # Use the parent's stdout\n",
                "                stderr=None, # Use the parent's stderr\n",
                "                cwd=cwd,\n",
                "                env=cmd_env\n",
                "            )\n",
                "            ret_code = process.wait()\n",
                "            ret_stdout = None # No stdout since it is interactive\n",
                "            \n",
                "        output = temp_file.read()\n",
                "        \n",
                "    if raise_on_error and ret_code != 0:\n",
                "        raise Exception(f\"Script '{script_path}' failed with return code {ret_code}. Stdout:\\n{ret_stdout}\")\n",
                "        \n",
                "    return ret_code, ret_stdout, output"
            ]
        }
    ],
    "metadata": {
        "kernelspec": {
            "display_name": ".venv",
            "language": "python",
            "name": "python3"
        },
        "language_info": {
            "codemirror_mode": {
                "name": "ipython",
                "version": 3
            },
            "file_extension": ".py",
            "mimetype": "text/x-python",
            "name": "python",
            "nbconvert_exporter": "python",
            "pygments_lexer": "ipython3",
            "version": "3.11.11"
        },
        "nblite_source_hash": "c8b4404dc84fffe199e7d8875590352bdbc69ac6cf48c7e47cac0c42d39da927"
    },
    "nbformat": 4,
    "nbformat_minor": 5
}