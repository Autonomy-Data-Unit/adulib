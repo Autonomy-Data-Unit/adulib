{
    "cells": [
        {
            "cell_type": "markdown",
            "metadata": {},
            "source": [
                "# adulib.reflection\n",
                "\n",
                "Utilities for Python reflection."
            ]
        },
        {
            "cell_type": "code",
            "execution_count": null,
            "metadata": {},
            "outputs": [],
            "source": [
                "#|default_exp reflection"
            ]
        },
        {
            "cell_type": "code",
            "execution_count": null,
            "metadata": {},
            "outputs": [],
            "source": [
                "#|hide\n",
                "import nblite; from nbdev.showdoc import show_doc; nblite.nbl_export()"
            ]
        },
        {
            "cell_type": "code",
            "execution_count": null,
            "metadata": {},
            "outputs": [],
            "source": [
                "#|export\n",
                "from pathlib import Path\n",
                "import os\n",
                "import sys\n",
                "import importlib\n",
                "import inspect\n",
                "import types\n",
                "import functools\n",
                "import keyword\n",
                "import re"
            ]
        },
        {
            "cell_type": "code",
            "execution_count": null,
            "metadata": {},
            "outputs": [],
            "source": [
                "import adulib.reflection"
            ]
        },
        {
            "cell_type": "code",
            "execution_count": null,
            "metadata": {},
            "outputs": [
                {
                    "data": {
                        "text/markdown": [
                            "---\n",
                            "\n",
                            "### is_valid_python_name\n",
                            "\n",
                            ">      is_valid_python_name (name:str)"
                        ],
                        "text/plain": [
                            "---\n",
                            "\n",
                            "### is_valid_python_name\n",
                            "\n",
                            ">      is_valid_python_name (name:str)"
                        ]
                    },
                    "execution_count": null,
                    "metadata": {},
                    "output_type": "execute_result"
                }
            ],
            "source": [
                "show_doc(adulib.reflection.is_valid_python_name)"
            ]
        },
        {
            "cell_type": "code",
            "execution_count": null,
            "metadata": {},
            "outputs": [],
            "source": [
                "#|export\n",
                "def is_valid_python_name(name: str) -> bool:\n",
                "    for name_part in name.split('.'):\n",
                "        if keyword.iskeyword(name_part):\n",
                "            return False\n",
                "        valid_identifier_pattern = r'^[A-Za-z_][A-Za-z0-9_]*$'\n",
                "        if not re.match(valid_identifier_pattern, name_part): return False\n",
                "    return True"
            ]
        },
        {
            "cell_type": "code",
            "execution_count": null,
            "metadata": {},
            "outputs": [
                {
                    "data": {
                        "text/markdown": [
                            "---\n",
                            "\n",
                            "### find_module_root\n",
                            "\n",
                            ">      find_module_root (path)"
                        ],
                        "text/plain": [
                            "---\n",
                            "\n",
                            "### find_module_root\n",
                            "\n",
                            ">      find_module_root (path)"
                        ]
                    },
                    "execution_count": null,
                    "metadata": {},
                    "output_type": "execute_result"
                }
            ],
            "source": [
                "show_doc(adulib.reflection.find_module_root)"
            ]
        },
        {
            "cell_type": "code",
            "execution_count": null,
            "metadata": {},
            "outputs": [],
            "source": [
                "#|export\n",
                "def find_module_root(path):\n",
                "    path = Path(path)\n",
                "    path = path if path.is_dir() else path.parent\n",
                "    is_module = '__init__.py' in [p.parts[-1] for p in path.glob('*')]\n",
                "    if not is_module: return None\n",
                "    else:\n",
                "        parent_module = find_module_root(path.parent)\n",
                "        if parent_module is None: return path\n",
                "        else: return parent_module"
            ]
        },
        {
            "cell_type": "code",
            "execution_count": null,
            "metadata": {},
            "outputs": [
                {
                    "data": {
                        "text/markdown": [
                            "---\n",
                            "\n",
                            "### get_module_path_hierarchy\n",
                            "\n",
                            ">      get_module_path_hierarchy (path)"
                        ],
                        "text/plain": [
                            "---\n",
                            "\n",
                            "### get_module_path_hierarchy\n",
                            "\n",
                            ">      get_module_path_hierarchy (path)"
                        ]
                    },
                    "execution_count": null,
                    "metadata": {},
                    "output_type": "execute_result"
                }
            ],
            "source": [
                "show_doc(adulib.reflection.get_module_path_hierarchy)"
            ]
        },
        {
            "cell_type": "code",
            "execution_count": null,
            "metadata": {},
            "outputs": [],
            "source": [
                "#|exporti\n",
                "def __get_module_path_hierarchy(path, hierarchy):\n",
                "    path = Path(path)\n",
                "    if not path.exists(): raise FileNotFoundError(f\"No file or directory found at: {path}\")\n",
                "    if path.is_file():\n",
                "        if path.suffix != '.py': raise ValueError(f\"File '{path}' is not a python file.\")\n",
                "        is_in_module = '__init__.py' in [p.parts[-1] for p in path.parent.glob('*')]\n",
                "        if is_in_module:\n",
                "            module_name = path.stem\n",
                "            hierarchy.append((module_name, path))\n",
                "            __get_module_path_hierarchy(path.parent, hierarchy)\n",
                "    else:\n",
                "        is_module = '__init__.py' in [p.parts[-1] for p in path.glob('*')]\n",
                "        if is_module:\n",
                "            module_name = path.stem\n",
                "            hierarchy.append((module_name, path))\n",
                "            __get_module_path_hierarchy(path.parent, hierarchy)"
            ]
        },
        {
            "cell_type": "code",
            "execution_count": null,
            "metadata": {},
            "outputs": [],
            "source": [
                "#|export        \n",
                "def get_module_path_hierarchy(path):\n",
                "    hierarchy = []\n",
                "    __get_module_path_hierarchy(path, hierarchy)\n",
                "    return hierarchy"
            ]
        },
        {
            "cell_type": "code",
            "execution_count": null,
            "metadata": {},
            "outputs": [
                {
                    "data": {
                        "text/markdown": [
                            "---\n",
                            "\n",
                            "### get_function_from_py_file\n",
                            "\n",
                            ">      get_function_from_py_file (file_path, func_name=None, args=[],\n",
                            ">                                 is_async=False, return_func_key='')"
                        ],
                        "text/plain": [
                            "---\n",
                            "\n",
                            "### get_function_from_py_file\n",
                            "\n",
                            ">      get_function_from_py_file (file_path, func_name=None, args=[],\n",
                            ">                                 is_async=False, return_func_key='')"
                        ]
                    },
                    "execution_count": null,
                    "metadata": {},
                    "output_type": "execute_result"
                }
            ],
            "source": [
                "show_doc(adulib.reflection.get_function_from_py_file)"
            ]
        },
        {
            "cell_type": "code",
            "execution_count": null,
            "metadata": {},
            "outputs": [],
            "source": [
                "#|export\n",
                "def get_function_from_py_file(file_path, func_name=None, args=[], is_async=False, return_func_key=''):\n",
                "    file_path = Path(file_path)\n",
                "    module_path = find_module_root(file_path)\n",
                "    is_in_module = module_path is not None\n",
                "    \n",
                "    # Check if the file exists\n",
                "    if not file_path.is_file():\n",
                "        raise ValueError(f\"Not a file: {file_path}\")\n",
                "    if not file_path.exists():\n",
                "        raise FileNotFoundError(f\"No file found at: {file_path}\")\n",
                "    \n",
                "    if func_name is None:\n",
                "        func_name = os.path.splitext(os.path.basename(file_path))[0]\n",
                "    \n",
                "    # Read the contents of the file\n",
                "    with open(file_path, 'r') as file:\n",
                "        func_body_code = file.read()\n",
                "        \n",
                "    if not func_body_code.strip(): func_body_code = 'pass'\n",
                "    \n",
                "    # Tabify\n",
                "    func_body_code = '\\n'.join(list(map(lambda line: f\"    {line}\", func_body_code.split('\\n'))))\n",
                "    if return_func_key:\n",
                "        args = [return_func_key] + args\n",
                "    func_code = f\"{'async ' if is_async else ''}def {func_name}({', '.join(args)}):\\n{func_body_code}\"\n",
                "    \n",
                "    if is_in_module:\n",
                "        # This all is necessary to allow for relative imports in the code\n",
                "        sys.path.insert(0, module_path.parent.absolute().as_posix())\n",
                "        module_hierarchy = get_module_path_hierarchy(file_path)\n",
                "        module_hierarchy_str = '.'.join([e[0] for e in reversed(module_hierarchy)])\n",
                "        module_spec = importlib.util.spec_from_file_location(module_hierarchy_str, file_path.absolute().as_posix())\n",
                "        code_module = importlib.util.module_from_spec(module_spec)\n",
                "        locals_dict = code_module.__dict__\n",
                "    else:\n",
                "        locals_dict = {}\n",
                "        \n",
                "    exec(func_code, locals_dict)\n",
                "    if is_in_module: sys.path.pop(0)\n",
                "    \n",
                "    func = locals_dict[func_name]\n",
                "    # Create a new code object with the correct filename and line number. This will allow for proper displaying of the line number and code during exceptions.\n",
                "    new_code = types.CodeType(\n",
                "        func.__code__.co_argcount,\n",
                "        func.__code__.co_posonlyargcount,\n",
                "        func.__code__.co_kwonlyargcount,\n",
                "        func.__code__.co_nlocals,\n",
                "        func.__code__.co_stacksize,\n",
                "        func.__code__.co_flags,\n",
                "        func.__code__.co_code,\n",
                "        func.__code__.co_consts,\n",
                "        func.__code__.co_names,\n",
                "        func.__code__.co_varnames,\n",
                "        file_path.as_posix(),\n",
                "        func.__code__.co_name,\n",
                "        func.__code__.co_qualname,\n",
                "        func.__code__.co_firstlineno, # Line number offset. Not entirely sure why it's -1, but it works.\n",
                "        func.__code__.co_lnotab,\n",
                "        func.__code__.co_exceptiontable,\n",
                "        func.__code__.co_freevars,\n",
                "        func.__code__.co_cellvars\n",
                "    )\n",
                "    func.__code__ = new_code\n",
                "    \n",
                "    if return_func_key:\n",
                "        if is_async:\n",
                "            async def _func(*args):\n",
                "                return_val = []\n",
                "                def return_func(val): return_val.append(val)\n",
                "                await func(return_func, *args)\n",
                "                return return_val[0]\n",
                "        else:\n",
                "            def _func(*args):\n",
                "                return_val = []\n",
                "                def return_func(val): return_val.append(val)\n",
                "                func(return_func, *args)\n",
                "                return return_val[0]\n",
                "        return _func\n",
                "    else:\n",
                "        return func"
            ]
        },
        {
            "cell_type": "code",
            "execution_count": null,
            "metadata": {},
            "outputs": [],
            "source": [
                "import tempfile"
            ]
        },
        {
            "cell_type": "code",
            "execution_count": null,
            "metadata": {},
            "outputs": [
                {
                    "name": "stdout",
                    "output_type": "stream",
                    "text": [
                        "Hello...\n",
                        "...world!\n"
                    ]
                }
            ],
            "source": [
                "py_code = \"\"\"\n",
                "print('Hello...')\n",
                "print(f'...{name}!')\n",
                "\"\"\"\n",
                "\n",
                "with tempfile.NamedTemporaryFile(delete=False, suffix=\".py\") as temp_file:\n",
                "    temp_file.write(py_code.encode('utf-8'))\n",
                "    temp_file_path = temp_file.name\n",
                "\n",
                "func = get_function_from_py_file(temp_file_path, args=['name'])\n",
                "func('world')"
            ]
        },
        {
            "cell_type": "code",
            "execution_count": null,
            "metadata": {},
            "outputs": [
                {
                    "name": "stdout",
                    "output_type": "stream",
                    "text": [
                        "Hello...\n",
                        "...world!\n"
                    ]
                }
            ],
            "source": [
                "py_code = \"\"\"\n",
                "import asyncio\n",
                "await asyncio.sleep(0)\n",
                "print('Hello...')\n",
                "print(f'...{name}!')\n",
                "\"\"\"\n",
                "\n",
                "with tempfile.NamedTemporaryFile(delete=False, suffix=\".py\") as temp_file:\n",
                "    temp_file.write(py_code.encode('utf-8'))\n",
                "    temp_file_path = temp_file.name\n",
                "\n",
                "func = get_function_from_py_file(temp_file_path, is_async=True, args=['name'])\n",
                "await func('world')"
            ]
        },
        {
            "cell_type": "code",
            "execution_count": null,
            "metadata": {},
            "outputs": [
                {
                    "data": {
                        "text/markdown": [
                            "---\n",
                            "\n",
                            "### method_from_py_file\n",
                            "\n",
                            ">      method_from_py_file (file_path:str)"
                        ],
                        "text/plain": [
                            "---\n",
                            "\n",
                            "### method_from_py_file\n",
                            "\n",
                            ">      method_from_py_file (file_path:str)"
                        ]
                    },
                    "execution_count": null,
                    "metadata": {},
                    "output_type": "execute_result"
                }
            ],
            "source": [
                "show_doc(adulib.reflection.method_from_py_file)"
            ]
        },
        {
            "cell_type": "code",
            "execution_count": null,
            "metadata": {},
            "outputs": [],
            "source": [
                "#|export\n",
                "def method_from_py_file(file_path:str):\n",
                "    def decorator(orig_func):\n",
                "        args = list(inspect.signature(orig_func).parameters.keys())\n",
                "        is_async = inspect.iscoroutinefunction(orig_func)\n",
                "        new_func = get_function_from_py_file(file_path, func_name=orig_func.__name__, args=args, is_async=is_async)\n",
                "        if is_async:\n",
                "            @functools.wraps(orig_func)\n",
                "            async def wrapped_method(*args, **kwargs):\n",
                "                await new_func(*args, **kwargs)\n",
                "                await orig_func(*args, **kwargs)\n",
                "        else:\n",
                "            @functools.wraps(orig_func)\n",
                "            def wrapped_method(*args, **kwargs):\n",
                "                new_func(*args, **kwargs)\n",
                "                orig_func(*args, **kwargs)\n",
                "        return wrapped_method\n",
                "    return decorator"
            ]
        },
        {
            "cell_type": "code",
            "execution_count": null,
            "metadata": {},
            "outputs": [
                {
                    "name": "stdout",
                    "output_type": "stream",
                    "text": [
                        "Hello world\n"
                    ]
                }
            ],
            "source": [
                "py_code = \"\"\"\n",
                "print(f'Hello {self.name}')\n",
                "\"\"\"\n",
                "\n",
                "with tempfile.NamedTemporaryFile(delete=False, suffix=\".py\") as temp_file:\n",
                "    temp_file.write(py_code.encode('utf-8'))\n",
                "    temp_file_path = temp_file.name\n",
                "\n",
                "class TestClass:\n",
                "    def __init__(self, name):\n",
                "        self.name = name\n",
                "\n",
                "    @method_from_py_file(temp_file_path)\n",
                "    def print_name(self): pass\n",
                "    \n",
                "TestClass(\"world\").print_name()"
            ]
        }
    ],
    "metadata": {},
    "nbformat": 4,
    "nbformat_minor": 2
}