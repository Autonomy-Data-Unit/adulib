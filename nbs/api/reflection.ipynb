{
    "cells": [
        {
            "cell_type": "markdown",
            "id": "38cb9525",
            "metadata": {},
            "source": [
                "# reflection\n",
                "\n",
                "Utilities for Python reflection."
            ]
        },
        {
            "cell_type": "code",
            "execution_count": null,
            "id": "504ed492",
            "metadata": {},
            "outputs": [],
            "source": [
                "#|default_exp reflection"
            ]
        },
        {
            "cell_type": "code",
            "execution_count": null,
            "id": "ddce8c0e",
            "metadata": {},
            "outputs": [],
            "source": [
                "#|hide\n",
                "import nblite; from nblite import show_doc; nblite.nbl_export()"
            ]
        },
        {
            "cell_type": "code",
            "execution_count": null,
            "id": "920e08d4",
            "metadata": {},
            "outputs": [],
            "source": [
                "#|export\n",
                "from pathlib import Path\n",
                "import os\n",
                "import sys\n",
                "import importlib\n",
                "import inspect\n",
                "import types\n",
                "import functools\n",
                "import keyword\n",
                "import re\n",
                "from fastcore.basics import patch_to, patch"
            ]
        },
        {
            "cell_type": "code",
            "execution_count": null,
            "id": "9c7a81a5",
            "metadata": {},
            "outputs": [],
            "source": [
                "import adulib.reflection"
            ]
        },
        {
            "cell_type": "code",
            "execution_count": null,
            "id": "2b5b87a2",
            "metadata": {},
            "outputs": [
                {
                    "data": {
                        "text/markdown": [
                            "## is_valid_python_name\n",
                            "\n",
                            "```python\n",
                            "is_valid_python_name(name: str) -> bool\n",
                            "```\n",
                            "\n",
                            "---\n"
                        ],
                        "text/plain": [
                            "<IPython.core.display.Markdown object>"
                        ]
                    },
                    "execution_count": null,
                    "metadata": {},
                    "output_type": "execute_result"
                }
            ],
            "source": [
                "#|hide\n",
                "show_doc(adulib.reflection.is_valid_python_name)"
            ]
        },
        {
            "cell_type": "code",
            "execution_count": null,
            "id": "15a65d35",
            "metadata": {},
            "outputs": [],
            "source": [
                "#|export\n",
                "def is_valid_python_name(name: str) -> bool:\n",
                "    for name_part in name.split('.'):\n",
                "        if keyword.iskeyword(name_part):\n",
                "            return False\n",
                "        valid_identifier_pattern = r'^[A-Za-z_][A-Za-z0-9_]*$'\n",
                "        if not re.match(valid_identifier_pattern, name_part): return False\n",
                "    return True"
            ]
        },
        {
            "cell_type": "code",
            "execution_count": null,
            "id": "0ee339a1",
            "metadata": {},
            "outputs": [],
            "source": [
                "assert is_valid_python_name('a_python_name')\n",
                "assert not is_valid_python_name('not a valid python name')"
            ]
        },
        {
            "cell_type": "code",
            "execution_count": null,
            "id": "df5577e7",
            "metadata": {},
            "outputs": [
                {
                    "data": {
                        "text/markdown": [
                            "## find_module_root\n",
                            "\n",
                            "```python\n",
                            "find_module_root(path)\n",
                            "```\n",
                            "\n",
                            "Recursively finds the root directory of a Python module.\n",
                            "\n",
                            "This function takes a file or directory path and determines the root\n",
                            "directory of the module it belongs to. A directory is considered a module\n",
                            "if it contains an '__init__.py' file. The function will traverse upwards\n",
                            "in the directory hierarchy until it finds the top-most module directory.\n",
                            "\n",
                            "Parameters:\n",
                            "path (str or Path): The file or directory path to start the search from.\n",
                            "\n",
                            "Returns:\n",
                            "Path or None: The root directory of the module if found, otherwise None.\n",
                            "\n",
                            "---\n"
                        ],
                        "text/plain": [
                            "<IPython.core.display.Markdown object>"
                        ]
                    },
                    "execution_count": null,
                    "metadata": {},
                    "output_type": "execute_result"
                }
            ],
            "source": [
                "#|hide\n",
                "show_doc(adulib.reflection.find_module_root)"
            ]
        },
        {
            "cell_type": "code",
            "execution_count": null,
            "id": "702fcca6",
            "metadata": {},
            "outputs": [],
            "source": [
                "#|export\n",
                "def find_module_root(path):\n",
                "    \"\"\"\n",
                "    Recursively finds the root directory of a Python module.\n",
                "\n",
                "    This function takes a file or directory path and determines the root\n",
                "    directory of the module it belongs to. A directory is considered a module\n",
                "    if it contains an '__init__.py' file. The function will traverse upwards\n",
                "    in the directory hierarchy until it finds the top-most module directory.\n",
                "\n",
                "    Parameters:\n",
                "    path (str or Path): The file or directory path to start the search from.\n",
                "\n",
                "    Returns:\n",
                "    Path or None: The root directory of the module if found, otherwise None.\n",
                "    \"\"\"\n",
                "    path = Path(path)\n",
                "    path = path if path.is_dir() else path.parent\n",
                "    is_module = '__init__.py' in [p.parts[-1] for p in path.glob('*')]\n",
                "    if not is_module: return None\n",
                "    else:\n",
                "        parent_module = find_module_root(path.parent)\n",
                "        if parent_module is None: return path\n",
                "        else: return parent_module"
            ]
        },
        {
            "cell_type": "code",
            "execution_count": null,
            "id": "db343f6b",
            "metadata": {},
            "outputs": [],
            "source": [
                "module_root = find_module_root(adulib.reflection.__file__)"
            ]
        },
        {
            "cell_type": "code",
            "execution_count": null,
            "id": "565119e1",
            "metadata": {},
            "outputs": [
                {
                    "data": {
                        "text/markdown": [
                            "## get_module_path_hierarchy\n",
                            "\n",
                            "```python\n",
                            "get_module_path_hierarchy(path)\n",
                            "```\n",
                            "\n",
                            "Get the hierarchy of module paths starting from the given path.\n",
                            "\n",
                            "This function constructs a list of tuples representing the module hierarchy\n",
                            "starting from the specified path. Each tuple contains the module name and\n",
                            "its corresponding path.\n",
                            "\n",
                            "Parameters:\n",
                            "path (str or Path): The file or directory path to start the hierarchy search from.\n",
                            "\n",
                            "Returns:\n",
                            "list: A list of tuples where each tuple contains a module name and its path.\n",
                            "\n",
                            "---\n"
                        ],
                        "text/plain": [
                            "<IPython.core.display.Markdown object>"
                        ]
                    },
                    "execution_count": null,
                    "metadata": {},
                    "output_type": "execute_result"
                }
            ],
            "source": [
                "#|hide\n",
                "show_doc(adulib.reflection.get_module_path_hierarchy)"
            ]
        },
        {
            "cell_type": "code",
            "execution_count": null,
            "id": "1e73020c",
            "metadata": {},
            "outputs": [],
            "source": [
                "#|exporti\n",
                "def __get_module_path_hierarchy(path, hierarchy):\n",
                "    path = Path(path)\n",
                "    if not path.exists(): raise FileNotFoundError(f\"No file or directory found at: {path}\")\n",
                "    if path.is_file():\n",
                "        if path.suffix != '.py': raise ValueError(f\"File '{path}' is not a python file.\")\n",
                "        is_in_module = '__init__.py' in [p.parts[-1] for p in path.parent.glob('*')]\n",
                "        if is_in_module:\n",
                "            module_name = path.stem\n",
                "            hierarchy.append((module_name, path))\n",
                "            __get_module_path_hierarchy(path.parent, hierarchy)\n",
                "    else:\n",
                "        is_module = '__init__.py' in [p.parts[-1] for p in path.glob('*')]\n",
                "        if is_module:\n",
                "            module_name = path.stem\n",
                "            hierarchy.append((module_name, path))\n",
                "            __get_module_path_hierarchy(path.parent, hierarchy)"
            ]
        },
        {
            "cell_type": "code",
            "execution_count": null,
            "id": "ca414206",
            "metadata": {},
            "outputs": [],
            "source": [
                "#|export        \n",
                "def get_module_path_hierarchy(path):\n",
                "    \"\"\"\n",
                "    Get the hierarchy of module paths starting from the given path.\n",
                "\n",
                "    This function constructs a list of tuples representing the module hierarchy\n",
                "    starting from the specified path. Each tuple contains the module name and\n",
                "    its corresponding path.\n",
                "\n",
                "    Parameters:\n",
                "    path (str or Path): The file or directory path to start the hierarchy search from.\n",
                "\n",
                "    Returns:\n",
                "    list: A list of tuples where each tuple contains a module name and its path.\n",
                "    \"\"\"\n",
                "    hierarchy = []\n",
                "    __get_module_path_hierarchy(path, hierarchy)\n",
                "    return hierarchy"
            ]
        },
        {
            "cell_type": "code",
            "execution_count": null,
            "id": "a4774358",
            "metadata": {},
            "outputs": [
                {
                    "data": {
                        "text/markdown": [
                            "## get_function_from_py_file\n",
                            "\n",
                            "```python\n",
                            "get_function_from_py_file(file_path, func_name, args, is_async, return_func_key)\n",
                            "```\n",
                            "\n",
                            "Extracts and returns a function from a Python file.\n",
                            "\n",
                            "This function reads a Python file, constructs a function from its contents,\n",
                            "and returns it. It can handle both synchronous and asynchronous functions,\n",
                            "and allows for optional argument specification and return value handling.\n",
                            "\n",
                            "Parameters:\n",
                            "file_path (str or Path): The path to the Python file containing the function.\n",
                            "func_name (str, optional): The name of the function to extract. If not provided,\n",
                            "                           the function name defaults to the file name without extension.\n",
                            "args (list, optional): A list of argument names for the function. Defaults to an empty list.\n",
                            "is_async (bool, optional): Indicates if the function is asynchronous. Defaults to False.\n",
                            "return_func_key (str, optional): A key to handle return values within the function. Defaults to an empty string.\n",
                            "\n",
                            "Returns:\n",
                            "function: The extracted function, ready to be called with the specified arguments.\n",
                            "\n",
                            "---\n"
                        ],
                        "text/plain": [
                            "<IPython.core.display.Markdown object>"
                        ]
                    },
                    "execution_count": null,
                    "metadata": {},
                    "output_type": "execute_result"
                }
            ],
            "source": [
                "#|hide\n",
                "show_doc(adulib.reflection.get_function_from_py_file)"
            ]
        },
        {
            "cell_type": "code",
            "execution_count": null,
            "id": "c875bc6b",
            "metadata": {},
            "outputs": [],
            "source": [
                "#|export\n",
                "def get_function_from_py_file(file_path, func_name=None, args=[], is_async=False, return_func_key=''):\n",
                "    \"\"\"\n",
                "    Extracts and returns a function from a Python file.\n",
                "\n",
                "    This function reads a Python file, constructs a function from its contents,\n",
                "    and returns it. It can handle both synchronous and asynchronous functions,\n",
                "    and allows for optional argument specification and return value handling.\n",
                "\n",
                "    Parameters:\n",
                "    file_path (str or Path): The path to the Python file containing the function.\n",
                "    func_name (str, optional): The name of the function to extract. If not provided,\n",
                "                               the function name defaults to the file name without extension.\n",
                "    args (list, optional): A list of argument names for the function. Defaults to an empty list.\n",
                "    is_async (bool, optional): Indicates if the function is asynchronous. Defaults to False.\n",
                "    return_func_key (str, optional): A key to handle return values within the function. Defaults to an empty string.\n",
                "\n",
                "    Returns:\n",
                "    function: The extracted function, ready to be called with the specified arguments.\n",
                "    \"\"\"\n",
                "    file_path = Path(file_path)\n",
                "    module_path = find_module_root(file_path)\n",
                "    is_in_module = module_path is not None\n",
                "    \n",
                "    # Check if the file exists\n",
                "    if not file_path.is_file():\n",
                "        raise ValueError(f\"Not a file: {file_path}\")\n",
                "    if not file_path.exists():\n",
                "        raise FileNotFoundError(f\"No file found at: {file_path}\")\n",
                "    \n",
                "    if func_name is None:\n",
                "        func_name = os.path.splitext(os.path.basename(file_path))[0]\n",
                "    \n",
                "    # Read the contents of the file\n",
                "    with open(file_path, 'r') as file:\n",
                "        func_body_code = file.read()\n",
                "        \n",
                "    if not func_body_code.strip(): func_body_code = 'pass'\n",
                "    \n",
                "    # Tabify\n",
                "    func_body_code = '\\n'.join(list(map(lambda line: f\"    {line}\", func_body_code.split('\\n'))))\n",
                "    if return_func_key:\n",
                "        args = [return_func_key] + args\n",
                "    func_code = f\"{'async ' if is_async else ''}def {func_name}({', '.join(args)}):\\n{func_body_code}\"\n",
                "    \n",
                "    if is_in_module:\n",
                "        # This all is necessary to allow for relative imports in the code\n",
                "        sys.path.insert(0, module_path.parent.absolute().as_posix())\n",
                "        module_hierarchy = get_module_path_hierarchy(file_path)\n",
                "        module_hierarchy_str = '.'.join([e[0] for e in reversed(module_hierarchy)])\n",
                "        module_spec = importlib.util.spec_from_file_location(module_hierarchy_str, file_path.absolute().as_posix())\n",
                "        code_module = importlib.util.module_from_spec(module_spec)\n",
                "        locals_dict = code_module.__dict__\n",
                "    else:\n",
                "        locals_dict = {}\n",
                "        \n",
                "    exec(func_code, locals_dict)\n",
                "    if is_in_module: sys.path.pop(0)\n",
                "    \n",
                "    func = locals_dict[func_name]\n",
                "    # Create a new code object with the correct filename and line number. This will allow for proper displaying of the line number and code during exceptions.\n",
                "    new_code = types.CodeType(\n",
                "        func.__code__.co_argcount,\n",
                "        func.__code__.co_posonlyargcount,\n",
                "        func.__code__.co_kwonlyargcount,\n",
                "        func.__code__.co_nlocals,\n",
                "        func.__code__.co_stacksize,\n",
                "        func.__code__.co_flags,\n",
                "        func.__code__.co_code,\n",
                "        func.__code__.co_consts,\n",
                "        func.__code__.co_names,\n",
                "        func.__code__.co_varnames,\n",
                "        file_path.as_posix(),\n",
                "        func.__code__.co_name,\n",
                "        func.__code__.co_qualname,\n",
                "        func.__code__.co_firstlineno, # Line number offset. Not entirely sure why it's -1, but it works.\n",
                "        func.__code__.co_lnotab,\n",
                "        func.__code__.co_exceptiontable,\n",
                "        func.__code__.co_freevars,\n",
                "        func.__code__.co_cellvars\n",
                "    )\n",
                "    func.__code__ = new_code\n",
                "    \n",
                "    if return_func_key:\n",
                "        if is_async:\n",
                "            async def _func(*args):\n",
                "                return_val = []\n",
                "                def return_func(val): return_val.append(val)\n",
                "                await func(return_func, *args)\n",
                "                return return_val[0]\n",
                "        else:\n",
                "            def _func(*args):\n",
                "                return_val = []\n",
                "                def return_func(val): return_val.append(val)\n",
                "                func(return_func, *args)\n",
                "                return return_val[0]\n",
                "        return _func\n",
                "    else:\n",
                "        return func"
            ]
        },
        {
            "cell_type": "code",
            "execution_count": null,
            "id": "06fb4aea",
            "metadata": {},
            "outputs": [],
            "source": [
                "import tempfile"
            ]
        },
        {
            "cell_type": "code",
            "execution_count": null,
            "id": "e71c26c9",
            "metadata": {},
            "outputs": [
                {
                    "name": "stdout",
                    "output_type": "stream",
                    "text": [
                        "Hello...\n",
                        "...world!\n"
                    ]
                }
            ],
            "source": [
                "py_code = \"\"\"\n",
                "print('Hello...')\n",
                "print(f'...{name}!')\n",
                "\"\"\"\n",
                "\n",
                "with tempfile.NamedTemporaryFile(delete=False, suffix=\".py\") as temp_file:\n",
                "    temp_file.write(py_code.encode('utf-8'))\n",
                "    temp_file_path = temp_file.name\n",
                "\n",
                "func = get_function_from_py_file(temp_file_path, args=['name'])\n",
                "func('world')"
            ]
        },
        {
            "cell_type": "code",
            "execution_count": null,
            "id": "3facd438",
            "metadata": {},
            "outputs": [
                {
                    "name": "stdout",
                    "output_type": "stream",
                    "text": [
                        "Hello...\n",
                        "...world!\n"
                    ]
                }
            ],
            "source": [
                "py_code = \"\"\"\n",
                "import asyncio\n",
                "await asyncio.sleep(0)\n",
                "print('Hello...')\n",
                "print(f'...{name}!')\n",
                "\"\"\"\n",
                "\n",
                "with tempfile.NamedTemporaryFile(delete=False, suffix=\".py\") as temp_file:\n",
                "    temp_file.write(py_code.encode('utf-8'))\n",
                "    temp_file_path = temp_file.name\n",
                "\n",
                "func = get_function_from_py_file(temp_file_path, is_async=True, args=['name'])\n",
                "await func('world')"
            ]
        },
        {
            "cell_type": "code",
            "execution_count": null,
            "id": "ba3fd333",
            "metadata": {},
            "outputs": [
                {
                    "data": {
                        "text/markdown": [
                            "## method_from_py_file\n",
                            "\n",
                            "```python\n",
                            "method_from_py_file(file_path: str)\n",
                            "```\n",
                            "\n",
                            "A decorator that replaces the functionality of a method with the code from a specified Python file.\n",
                            "\n",
                            "This decorator reads a Python file, extracts a function with the same name as the decorated method,\n",
                            "and replaces the original method's functionality with the extracted function. It supports both\n",
                            "synchronous and asynchronous functions.\n",
                            "\n",
                            "**Arguments:**\n",
                            "- `file_path` (*str*): The path to the Python file containing the function to be used as a replacement.\n",
                            "\n",
                            "**Returns:** *function*: A decorator that wraps the original function, replacing its functionality with the\n",
                            "function from the specified file.\n",
                            "\n",
                            "---\n"
                        ],
                        "text/plain": [
                            "<IPython.core.display.Markdown object>"
                        ]
                    },
                    "execution_count": null,
                    "metadata": {},
                    "output_type": "execute_result"
                }
            ],
            "source": [
                "#|hide\n",
                "show_doc(adulib.reflection.method_from_py_file)"
            ]
        },
        {
            "cell_type": "code",
            "execution_count": null,
            "id": "e4ac7811",
            "metadata": {},
            "outputs": [],
            "source": [
                "#|export\n",
                "def method_from_py_file(file_path: str):\n",
                "    \"\"\"\n",
                "    A decorator that replaces the functionality of a method with the code from a specified Python file.\n",
                "\n",
                "    This decorator reads a Python file, extracts a function with the same name as the decorated method,\n",
                "    and replaces the original method's functionality with the extracted function. It supports both\n",
                "    synchronous and asynchronous functions.\n",
                "\n",
                "    Args:\n",
                "        file_path (str): The path to the Python file containing the function to be used as a replacement.\n",
                "\n",
                "    Returns:\n",
                "        function: A decorator that wraps the original function, replacing its functionality with the\n",
                "                  function from the specified file.\n",
                "    \"\"\"\n",
                "    def decorator(orig_func):\n",
                "        args = list(inspect.signature(orig_func).parameters.keys())\n",
                "        is_async = inspect.iscoroutinefunction(orig_func)\n",
                "        new_func = get_function_from_py_file(file_path, func_name=orig_func.__name__, args=args, is_async=is_async)\n",
                "        if is_async:\n",
                "            @functools.wraps(orig_func)\n",
                "            async def wrapped_method(*args, **kwargs):\n",
                "                await new_func(*args, **kwargs)\n",
                "                await orig_func(*args, **kwargs)\n",
                "        else:\n",
                "            @functools.wraps(orig_func)\n",
                "            def wrapped_method(*args, **kwargs):\n",
                "                new_func(*args, **kwargs)\n",
                "                orig_func(*args, **kwargs)\n",
                "        return wrapped_method\n",
                "    return decorator"
            ]
        },
        {
            "cell_type": "code",
            "execution_count": null,
            "id": "7f22d8d1",
            "metadata": {},
            "outputs": [
                {
                    "name": "stdout",
                    "output_type": "stream",
                    "text": [
                        "Hello world\n"
                    ]
                }
            ],
            "source": [
                "py_code = \"\"\"\n",
                "print(f'Hello {self.name}')\n",
                "\"\"\"\n",
                "\n",
                "with tempfile.NamedTemporaryFile(delete=False, suffix=\".py\") as temp_file:\n",
                "    temp_file.write(py_code.encode('utf-8'))\n",
                "    temp_file_path = temp_file.name\n",
                "\n",
                "class TestClass:\n",
                "    def __init__(self, name):\n",
                "        self.name = name\n",
                "\n",
                "    @method_from_py_file(temp_file_path)\n",
                "    def print_name(self): pass\n",
                "    \n",
                "TestClass(\"world\").print_name()"
            ]
        },
        {
            "cell_type": "code",
            "execution_count": null,
            "id": "c7b8f027",
            "metadata": {},
            "outputs": [
                {
                    "data": {
                        "text/markdown": [
                            "## mod_property\n",
                            "\n",
                            "```python\n",
                            "mod_property(func, cached)\n",
                            "```\n",
                            "\n",
                            "Used to create module-level properties.\n",
                            "\n",
                            "---\n"
                        ],
                        "text/plain": [
                            "<IPython.core.display.Markdown object>"
                        ]
                    },
                    "execution_count": null,
                    "metadata": {},
                    "output_type": "execute_result"
                }
            ],
            "source": [
                "#|hide\n",
                "show_doc(adulib.reflection.mod_property)"
            ]
        },
        {
            "cell_type": "code",
            "execution_count": null,
            "id": "f10121df",
            "metadata": {},
            "outputs": [],
            "source": [
                "#|exporti\n",
                "def update_module_class(mod):\n",
                "    class CachingModule(types.ModuleType):\n",
                "        pass\n",
                "    mod.__class__ = CachingModule"
            ]
        },
        {
            "cell_type": "code",
            "execution_count": null,
            "id": "046aa83d",
            "metadata": {},
            "outputs": [],
            "source": [
                "#|export\n",
                "def mod_property(func, cached=False):\n",
                "    \"\"\"\n",
                "    Used to create module-level properties.\n",
                "    \n",
                "    Example:\n",
                "    ```python\n",
                "    @mod_property\n",
                "    def my_prop():\n",
                "        print('my_prop called')\n",
                "        return 42\n",
                "    ```\n",
                "    \"\"\"\n",
                "    func_name = func.__name__\n",
                "    if '.' in func_name:\n",
                "        raise ValueError('mod_property only applicable to top-level module functions')\n",
                "    func_mod = sys.modules[func.__module__]\n",
                "    if func_mod.__class__ == types.ModuleType:\n",
                "        update_module_class(func_mod)\n",
                "    elif func_mod.__class__.__name__ != 'CachingModule':\n",
                "        raise RuntimeError(f'mod_property incompatible with module type: {func_mod.__name__}({func_mod.__class__.__qualname__})')\n",
                "    @functools.wraps(func)\n",
                "    def wrapper(mod):\n",
                "        value = func()\n",
                "        if cached:\n",
                "            setattr(func_mod.__class__, func_name, value)\n",
                "            delattr(func_mod, func_name)\n",
                "        return value\n",
                "    wrapper.__name__ = func_name\n",
                "    setattr(func_mod.__class__, func_name, property(wrapper))\n",
                "    return wrapper\n",
                "\n",
                "def cached_mod_property(func):\n",
                "    return mod_property(func, cached=True)"
            ]
        },
        {
            "cell_type": "code",
            "execution_count": null,
            "id": "2995c12f",
            "metadata": {},
            "outputs": [],
            "source": [
                "@mod_property\n",
                "def my_prop():\n",
                "    print('my_prop called')\n",
                "    return 42"
            ]
        },
        {
            "cell_type": "code",
            "execution_count": null,
            "id": "d42b5bd7",
            "metadata": {},
            "outputs": [
                {
                    "name": "stdout",
                    "output_type": "stream",
                    "text": [
                        "20\n",
                        "30\n"
                    ]
                }
            ],
            "source": [
                "def add_method(cls):\n",
                "    def decorator(func):\n",
                "        setattr(cls, func.__name__, func)\n",
                "        return func\n",
                "    return decorator\n",
                "\n",
                "class MyClass:\n",
                "    def __init__(self, value):\n",
                "        self.value = value\n",
                "\n",
                "@add_method(MyClass)\n",
                "def double(self):\n",
                "    return self.value * 2\n",
                "\n",
                "@add_method(MyClass)\n",
                "def triple(self):\n",
                "    return self.value * 3\n",
                "\n",
                "obj = MyClass(10)\n",
                "print(obj.double())  # 20\n",
                "print(obj.triple())  # 30"
            ]
        },
        {
            "cell_type": "code",
            "execution_count": null,
            "id": "968a31d6",
            "metadata": {},
            "outputs": [
                {
                    "data": {
                        "text/markdown": [
                            "## patch_to\n",
                            "\n",
                            "```python\n",
                            "patch_to(cls, as_prop, cls_method, set_prop)\n",
                            "```\n",
                            "\n",
                            "Decorator: add `f` to `cls`\n",
                            "\n",
                            "---\n"
                        ],
                        "text/plain": [
                            "<IPython.core.display.Markdown object>"
                        ]
                    },
                    "execution_count": null,
                    "metadata": {},
                    "output_type": "execute_result"
                }
            ],
            "source": [
                "#|echo: false\n",
                "show_doc(patch_to)"
            ]
        },
        {
            "cell_type": "markdown",
            "id": "2bde3e9d",
            "metadata": {},
            "source": [
                "Define methods"
            ]
        },
        {
            "cell_type": "code",
            "execution_count": null,
            "id": "9616e1e9",
            "metadata": {},
            "outputs": [
                {
                    "data": {
                        "text/plain": [
                            "'bar'"
                        ]
                    },
                    "execution_count": null,
                    "metadata": {},
                    "output_type": "execute_result"
                }
            ],
            "source": [
                "class Foo:\n",
                "    ...\n",
                "    \n",
                "@patch_to(Foo)\n",
                "def bar(self):\n",
                "    return 'bar'\n",
                "\n",
                "Foo().bar()"
            ]
        },
        {
            "cell_type": "markdown",
            "id": "c9e619dc",
            "metadata": {},
            "source": [
                "Define properties"
            ]
        },
        {
            "cell_type": "code",
            "execution_count": null,
            "id": "42d6516e",
            "metadata": {},
            "outputs": [],
            "source": [
                "class Foo:\n",
                "    def __init__(self):\n",
                "        self.value = \"bar\"\n",
                "\n",
                "# Define a getter\n",
                "@patch_to(Foo, as_prop=True)\n",
                "def baz(self):\n",
                "    return self.value\n",
                "\n",
                "# Define a setter\n",
                "@patch_to(Foo, set_prop=True)\n",
                "def baz(self, value):\n",
                "    self.value = value\n",
                "\n",
                "foo = Foo()\n",
                "assert foo.baz == \"bar\"\n",
                "foo.baz = \"???\"\n",
                "assert foo.baz == \"???\""
            ]
        },
        {
            "cell_type": "markdown",
            "id": "84f0b1f6",
            "metadata": {},
            "source": [
                "Define a class method"
            ]
        },
        {
            "cell_type": "code",
            "execution_count": null,
            "id": "3914c89b",
            "metadata": {},
            "outputs": [
                {
                    "data": {
                        "text/plain": [
                            "'bar'"
                        ]
                    },
                    "execution_count": null,
                    "metadata": {},
                    "output_type": "execute_result"
                }
            ],
            "source": [
                "@patch_to(Foo, cls_method=True)\n",
                "def qux(self):\n",
                "    return 'bar'\n",
                "\n",
                "Foo.qux()"
            ]
        },
        {
            "cell_type": "code",
            "execution_count": null,
            "id": "56d75442",
            "metadata": {},
            "outputs": [
                {
                    "data": {
                        "text/markdown": [
                            "## patch\n",
                            "\n",
                            "```python\n",
                            "patch(f, as_prop, cls_method, set_prop)\n",
                            "```\n",
                            "\n",
                            "Decorator: add `f` to the first parameter's class (based on f's type annotations)\n",
                            "\n",
                            "---\n"
                        ],
                        "text/plain": [
                            "<IPython.core.display.Markdown object>"
                        ]
                    },
                    "execution_count": null,
                    "metadata": {},
                    "output_type": "execute_result"
                }
            ],
            "source": [
                "#|echo: false\n",
                "show_doc(patch)"
            ]
        },
        {
            "cell_type": "markdown",
            "id": "36b3adc5",
            "metadata": {},
            "source": [
                "`patch` is similar to `patch_to`, except it uses type annotations in the signature to find the class to patch to."
            ]
        },
        {
            "cell_type": "code",
            "execution_count": null,
            "id": "d97b2fc3",
            "metadata": {},
            "outputs": [
                {
                    "data": {
                        "text/plain": [
                            "'bar'"
                        ]
                    },
                    "execution_count": null,
                    "metadata": {},
                    "output_type": "execute_result"
                }
            ],
            "source": [
                "class Foo:\n",
                "    ...\n",
                "    \n",
                "@patch\n",
                "def bar(self: Foo):\n",
                "    return 'bar'\n",
                "\n",
                "Foo().bar()"
            ]
        },
        {
            "cell_type": "code",
            "execution_count": null,
            "id": "7b1ef881",
            "metadata": {},
            "outputs": [],
            "source": [
                "class Foo:\n",
                "    def __init__(self):\n",
                "        self.value = \"bar\"\n",
                "\n",
                "# Define a getter\n",
                "@patch(as_prop=True)\n",
                "def baz(self: Foo):\n",
                "    return self.value\n",
                "\n",
                "# Define a setter\n",
                "@patch(set_prop=True)\n",
                "def baz(self: Foo, value):\n",
                "    self.value = value\n",
                "\n",
                "foo = Foo()\n",
                "assert foo.baz == \"bar\"\n",
                "foo.baz = \"???\"\n",
                "assert foo.baz == \"???\""
            ]
        },
        {
            "cell_type": "code",
            "execution_count": null,
            "id": "0320ed62",
            "metadata": {},
            "outputs": [
                {
                    "data": {
                        "text/plain": [
                            "'bar'"
                        ]
                    },
                    "execution_count": null,
                    "metadata": {},
                    "output_type": "execute_result"
                }
            ],
            "source": [
                "@patch(cls_method=True)\n",
                "def qux(cls: Foo):\n",
                "    return 'bar'\n",
                "\n",
                "Foo.qux()"
            ]
        }
    ],
    "metadata": {
        "kernelspec": {
            "display_name": ".venv",
            "language": "python",
            "name": "python3"
        },
        "language_info": {
            "codemirror_mode": {
                "name": "ipython",
                "version": 3
            },
            "file_extension": ".py",
            "mimetype": "text/x-python",
            "name": "python",
            "nbconvert_exporter": "python",
            "pygments_lexer": "ipython3",
            "version": "3.11.11"
        },
        "nblite_source_hash": "68b96de4f62e8866e2a368bdbecccbe00517a0658817e49e407eb0701ca2f25c"
    },
    "nbformat": 4,
    "nbformat_minor": 5
}