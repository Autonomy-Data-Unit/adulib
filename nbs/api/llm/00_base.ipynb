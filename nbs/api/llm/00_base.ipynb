{
    "cells": [
        {
            "cell_type": "markdown",
            "id": "80b53a14",
            "metadata": {},
            "source": [
                "# base"
            ]
        },
        {
            "cell_type": "code",
            "execution_count": null,
            "id": "9e8ffbad",
            "metadata": {},
            "outputs": [],
            "source": [
                "#|default_exp llm.base"
            ]
        },
        {
            "cell_type": "code",
            "execution_count": null,
            "id": "97e5dda8",
            "metadata": {},
            "outputs": [],
            "source": [
                "#|hide\n",
                "import nblite; from nblite import show_doc; nblite.nbl_export()"
            ]
        },
        {
            "cell_type": "code",
            "execution_count": null,
            "id": "c4a6f00f",
            "metadata": {},
            "outputs": [],
            "source": [
                "#|export\n",
                "try:\n",
                "    import litellm\n",
                "except ImportError as e:\n",
                "    raise ImportError(f\"Install adulib[llm] to use this API.\") from e"
            ]
        },
        {
            "cell_type": "code",
            "execution_count": null,
            "id": "79a77006",
            "metadata": {},
            "outputs": [],
            "source": [
                "#|hide\n",
                "from adulib.caching import set_default_cache_path\n",
                "import adulib.llm.base as this_module"
            ]
        },
        {
            "cell_type": "code",
            "execution_count": null,
            "id": "a43d21da",
            "metadata": {},
            "outputs": [],
            "source": [
                "#|hide\n",
                "repo_path = nblite.config.get_project_root_and_config()[0]\n",
                "set_default_cache_path(repo_path / '.tmp_cache')"
            ]
        },
        {
            "cell_type": "code",
            "execution_count": null,
            "id": "1dc749cd",
            "metadata": {},
            "outputs": [],
            "source": [
                "#|export\n",
                "available_models = list(litellm.model_cost.keys())\n",
                "available_models.remove(\"sample_spec\")"
            ]
        },
        {
            "cell_type": "code",
            "execution_count": null,
            "id": "94388772",
            "metadata": {},
            "outputs": [],
            "source": [
                "#|export\n",
                "def search_models(query: str):\n",
                "    return [model for model in available_models if query.lower() in model.lower()]"
            ]
        },
        {
            "cell_type": "code",
            "execution_count": null,
            "id": "ea7035f3",
            "metadata": {},
            "outputs": [
                {
                    "data": {
                        "text/plain": [
                            "['gpt-4o',\n",
                            " 'gpt-4o-search-preview-2025-03-11',\n",
                            " 'gpt-4o-search-preview',\n",
                            " 'gpt-4o-audio-preview',\n",
                            " 'gpt-4o-audio-preview-2024-12-17',\n",
                            " 'gpt-4o-audio-preview-2024-10-01',\n",
                            " 'gpt-4o-audio-preview-2025-06-03',\n",
                            " 'gpt-4o-mini-audio-preview',\n",
                            " 'gpt-4o-mini-audio-preview-2024-12-17',\n",
                            " 'gpt-4o-mini',\n",
                            " 'gpt-4o-mini-search-preview-2025-03-11',\n",
                            " 'gpt-4o-mini-search-preview',\n",
                            " 'gpt-4o-mini-2024-07-18',\n",
                            " 'chatgpt-4o-latest',\n",
                            " 'gpt-4o-2024-05-13',\n",
                            " 'gpt-4o-2024-08-06',\n",
                            " 'gpt-4o-2024-11-20',\n",
                            " 'gpt-4o-realtime-preview-2024-10-01',\n",
                            " 'gpt-4o-realtime-preview',\n",
                            " 'gpt-4o-realtime-preview-2024-12-17',\n",
                            " 'gpt-4o-mini-realtime-preview',\n",
                            " 'gpt-4o-mini-realtime-preview-2024-12-17',\n",
                            " 'ft:gpt-4o-2024-08-06',\n",
                            " 'ft:gpt-4o-2024-11-20',\n",
                            " 'ft:gpt-4o-mini-2024-07-18',\n",
                            " 'gpt-4o-transcribe',\n",
                            " 'gpt-4o-mini-transcribe',\n",
                            " 'gpt-4o-mini-tts',\n",
                            " 'azure/gpt-4o-mini-tts',\n",
                            " 'azure/gpt-4o-audio-preview-2024-12-17',\n",
                            " 'azure/gpt-4o-mini-audio-preview-2024-12-17',\n",
                            " 'azure/gpt-4o-mini-realtime-preview-2024-12-17',\n",
                            " 'azure/eu/gpt-4o-mini-realtime-preview-2024-12-17',\n",
                            " 'azure/us/gpt-4o-mini-realtime-preview-2024-12-17',\n",
                            " 'azure/gpt-4o-realtime-preview-2024-12-17',\n",
                            " 'azure/us/gpt-4o-realtime-preview-2024-12-17',\n",
                            " 'azure/eu/gpt-4o-realtime-preview-2024-12-17',\n",
                            " 'azure/gpt-4o-realtime-preview-2024-10-01',\n",
                            " 'azure/us/gpt-4o-realtime-preview-2024-10-01',\n",
                            " 'azure/eu/gpt-4o-realtime-preview-2024-10-01',\n",
                            " 'azure/gpt-4o-transcribe',\n",
                            " 'azure/gpt-4o-mini-transcribe',\n",
                            " 'azure/gpt-4o',\n",
                            " 'azure/global/gpt-4o-2024-11-20',\n",
                            " 'azure/gpt-4o-2024-08-06',\n",
                            " 'azure/global/gpt-4o-2024-08-06',\n",
                            " 'azure/gpt-4o-2024-11-20',\n",
                            " 'azure/us/gpt-4o-2024-11-20',\n",
                            " 'azure/eu/gpt-4o-2024-11-20',\n",
                            " 'azure/gpt-4o-2024-05-13',\n",
                            " 'azure/global-standard/gpt-4o-2024-08-06',\n",
                            " 'azure/us/gpt-4o-2024-08-06',\n",
                            " 'azure/eu/gpt-4o-2024-08-06',\n",
                            " 'azure/global-standard/gpt-4o-2024-11-20',\n",
                            " 'azure/global-standard/gpt-4o-mini',\n",
                            " 'azure/gpt-4o-mini',\n",
                            " 'azure/gpt-4o-mini-2024-07-18',\n",
                            " 'azure/us/gpt-4o-mini-2024-07-18',\n",
                            " 'azure/eu/gpt-4o-mini-2024-07-18',\n",
                            " 'openrouter/openai/gpt-4o',\n",
                            " 'openrouter/openai/gpt-4o-2024-05-13']"
                        ]
                    },
                    "execution_count": null,
                    "metadata": {},
                    "output_type": "execute_result"
                }
            ],
            "source": [
                "search_models('gpt-4o')"
            ]
        }
    ],
    "metadata": {
        "kernelspec": {
            "display_name": ".venv",
            "language": "python",
            "name": "python3"
        },
        "language_info": {
            "codemirror_mode": {
                "name": "ipython",
                "version": 3
            },
            "file_extension": ".py",
            "mimetype": "text/x-python",
            "name": "python",
            "nbconvert_exporter": "python",
            "pygments_lexer": "ipython3",
            "version": "3.11.11"
        },
        "nblite_source_hash": "330d9e2ebc35eaaf0e6f80ac825e1f5f76abac7518eaed7eab26d9d1605aa68d"
    },
    "nbformat": 4,
    "nbformat_minor": 5
}