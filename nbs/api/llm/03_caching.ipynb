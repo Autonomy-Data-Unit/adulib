{
    "cells": [
        {
            "cell_type": "markdown",
            "id": "75cc2f3d",
            "metadata": {},
            "source": [
                "# caching"
            ]
        },
        {
            "cell_type": "code",
            "execution_count": null,
            "id": "0cdde87c",
            "metadata": {},
            "outputs": [],
            "source": [
                "#|default_exp llm.caching"
            ]
        },
        {
            "cell_type": "code",
            "execution_count": null,
            "id": "70bcb57e",
            "metadata": {},
            "outputs": [],
            "source": [
                "#|hide\n",
                "import nblite; from nblite import show_doc; nblite.nbl_export()"
            ]
        },
        {
            "cell_type": "code",
            "execution_count": null,
            "id": "d2a82e7c",
            "metadata": {},
            "outputs": [],
            "source": [
                "#|export\n",
                "try:\n",
                "    from pathlib import Path\n",
                "    from typing import Dict, Union, Callable, Coroutine\n",
                "    from adulib.caching import get_cache, clear_cache_key, is_in_cache\n",
                "    from diskcache import ENOVAL\n",
                "except ImportError as e:\n",
                "    raise ImportError(f\"Install adulib[llm] to use this API.\") from e"
            ]
        },
        {
            "cell_type": "code",
            "execution_count": null,
            "id": "f9d4ee25",
            "metadata": {},
            "outputs": [],
            "source": [
                "#|hide\n",
                "from adulib.caching import set_default_cache_path\n",
                "import adulib.llm.caching as this_module"
            ]
        },
        {
            "cell_type": "code",
            "execution_count": null,
            "id": "edf7b8a9",
            "metadata": {},
            "outputs": [],
            "source": [
                "#|hide\n",
                "repo_path = nblite.config.get_project_root_and_config()[0]\n",
                "set_default_cache_path(repo_path / '.tmp_cache')"
            ]
        },
        {
            "cell_type": "code",
            "execution_count": null,
            "id": "5db72e05",
            "metadata": {},
            "outputs": [],
            "source": [
                "#|export\n",
                "def get_cache_key(\n",
                "    model: str, func_name, content: any, key_prefix: Union[str, None]=None, include_model_in_cache_key: bool=True\n",
                ") -> tuple:\n",
                "    return ('adulib.llm', func_name, key_prefix, model if include_model_in_cache_key else '', content)"
            ]
        },
        {
            "cell_type": "code",
            "execution_count": null,
            "id": "1b28c855",
            "metadata": {},
            "outputs": [],
            "source": [
                "#|exporti\n",
                "def _cache_execute(\n",
                "    cache_key: tuple,\n",
                "    execute_func: Callable,\n",
                "    cache_enabled: bool=True,\n",
                "    cache_path: Union[str, Path, None]=None,\n",
                "):\n",
                "    if not cache_enabled: return execute_func()\n",
                "    cache = get_cache(cache_path)\n",
                "    result = cache.get(cache_key, default=ENOVAL, retry=True)\n",
                "    retrieved_from_cache = True\n",
                "    if result is ENOVAL:\n",
                "        result = execute_func()\n",
                "        cache.set(cache_key, result)\n",
                "        retrieved_from_cache = False\n",
                "    return retrieved_from_cache, result"
            ]
        },
        {
            "cell_type": "code",
            "execution_count": null,
            "id": "f2022482",
            "metadata": {},
            "outputs": [],
            "source": [
                "#|exporti\n",
                "async def _async_cache_execute(\n",
                "    cache_key: tuple,\n",
                "    execute_func: Callable,\n",
                "    cache_enabled: bool=True,\n",
                "    cache_path: Union[str, Path, None]=None,\n",
                "):\n",
                "    if not cache_enabled: return execute_func()\n",
                "    cache = get_cache(cache_path)\n",
                "    result = cache.get(cache_key, default=ENOVAL, retry=True)\n",
                "    retrieved_from_cache = True\n",
                "    if result is ENOVAL:\n",
                "        result = await execute_func()\n",
                "        cache.set(cache_key, result)\n",
                "        retrieved_from_cache = False\n",
                "    return retrieved_from_cache, result"
            ]
        }
    ],
    "metadata": {
        "language_info": {
            "codemirror_mode": {
                "name": "ipython",
                "version": 3
            },
            "file_extension": ".py",
            "mimetype": "text/x-python",
            "name": "python",
            "nbconvert_exporter": "python",
            "pygments_lexer": "ipython3",
            "version": "3.11.11"
        },
        "nblite_source_hash": "c54367a444ff7e9bc8561a2c827ff4887539d38b3d782852ce3d30dfe6534515"
    },
    "nbformat": 4,
    "nbformat_minor": 5
}