{
    "cells": [
        {
            "cell_type": "markdown",
            "id": "75cc2f3d",
            "metadata": {},
            "source": [
                "# caching"
            ]
        },
        {
            "cell_type": "code",
            "execution_count": null,
            "id": "0cdde87c",
            "metadata": {},
            "outputs": [],
            "source": [
                "#|default_exp llm.caching"
            ]
        },
        {
            "cell_type": "code",
            "execution_count": null,
            "id": "70bcb57e",
            "metadata": {},
            "outputs": [],
            "source": [
                "#|hide\n",
                "import nblite; from nblite import show_doc; nblite.nbl_export()"
            ]
        },
        {
            "cell_type": "code",
            "execution_count": null,
            "id": "d2a82e7c",
            "metadata": {},
            "outputs": [],
            "source": [
                "#|export\n",
                "try:\n",
                "    from pathlib import Path\n",
                "    from typing import Dict, Union, Callable, Coroutine\n",
                "    from adulib.caching import get_cache, clear_cache_key, is_in_cache, get_default_cache\n",
                "    from diskcache import ENOVAL\n",
                "    import re\n",
                "except ImportError as e:\n",
                "    raise ImportError(f\"Install adulib[llm] to use this API.\") from e"
            ]
        },
        {
            "cell_type": "code",
            "execution_count": null,
            "id": "f9d4ee25",
            "metadata": {},
            "outputs": [],
            "source": [
                "#|hide\n",
                "from adulib.caching import set_default_cache_path\n",
                "import adulib.llm.caching as this_module"
            ]
        },
        {
            "cell_type": "code",
            "execution_count": null,
            "id": "edf7b8a9",
            "metadata": {},
            "outputs": [],
            "source": [
                "#|hide\n",
                "repo_path = nblite.config.get_project_root_and_config()[0]\n",
                "set_default_cache_path(repo_path / '.tmp_cache')"
            ]
        },
        {
            "cell_type": "code",
            "execution_count": null,
            "id": "ea4507e0",
            "metadata": {},
            "outputs": [],
            "source": [
                "#|exporti\n",
                "# matches: <package.module.ClassName at 0xABC123>, and also ... object at ...\n",
                "GENERIC_CLASS_AT_ADDR_RE = re.compile(r'<.* at 0x[0-9A-Fa-f]+>')\n",
                "def _is_obj_str(s: str) -> bool:\n",
                "    return GENERIC_CLASS_AT_ADDR_RE.search(s) is not None"
            ]
        },
        {
            "cell_type": "code",
            "execution_count": null,
            "id": "78cdda05",
            "metadata": {},
            "outputs": [],
            "source": [
                "assert _is_obj_str(str(object()))\n",
                "assert _is_obj_str(\"<__main__.Foo at 0x120f36b10>\")\n",
                "assert _is_obj_str(\"<pkg.subpkg.Mod.Class object at 0xDEAD>\")\n",
                "assert _is_obj_str(\"<Foo at 0x120f36b10>\")\n",
                "assert _is_obj_str(\"  <Foo at 0x120f36b10> <pkg.subpkg.Mod.Class object at 0xDEAD>\")\n",
                "assert _is_obj_str(\"  <Foo at 0x120f36b10>  \")\n",
                "assert not _is_obj_str(\"<__main__.Foo at xyz>\")                  "
            ]
        },
        {
            "cell_type": "code",
            "execution_count": null,
            "id": "5db72e05",
            "metadata": {},
            "outputs": [],
            "source": [
                "#|export\n",
                "def get_cache_key(\n",
                "    model: str, func_name, content: any, key_prefix: Union[str, None]=None, include_model_in_cache_key: bool=True\n",
                ") -> tuple:\n",
                "    cache_key_tuple = ('adulib.llm', func_name, key_prefix, model if include_model_in_cache_key else '', content)\n",
                "    cache_key_tuple = tuple(\n",
                "        str(item) if isinstance(item, (str, int, float, bool)) else repr(item) for item in cache_key_tuple\n",
                "    )\n",
                "    if any(_is_obj_str(item) for item in cache_key_tuple):\n",
                "        raise ValueError(f\"Cache key contains object string: {cache_key_tuple}\")\n",
                "    return cache_key_tuple"
            ]
        },
        {
            "cell_type": "code",
            "execution_count": null,
            "id": "1b28c855",
            "metadata": {},
            "outputs": [],
            "source": [
                "#|exporti\n",
                "def _cache_execute(\n",
                "    cache_key: tuple,\n",
                "    execute_func: Callable,\n",
                "    cache_enabled: bool=True,\n",
                "    cache_path: Union[str, Path, None]=None,\n",
                "):\n",
                "    if not cache_enabled: return execute_func()\n",
                "    cache = get_cache(cache_path) if cache_path is not None else get_default_cache()\n",
                "    result = cache.get(cache_key, default=ENOVAL, retry=True)\n",
                "    retrieved_from_cache = True\n",
                "    if result is ENOVAL:\n",
                "        result = execute_func()\n",
                "        cache.set(cache_key, result)\n",
                "        retrieved_from_cache = False\n",
                "    return retrieved_from_cache, result"
            ]
        },
        {
            "cell_type": "code",
            "execution_count": null,
            "id": "f2022482",
            "metadata": {},
            "outputs": [],
            "source": [
                "#|exporti\n",
                "async def _async_cache_execute(\n",
                "    cache_key: tuple,\n",
                "    execute_func: Callable,\n",
                "    cache_enabled: bool=True,\n",
                "    cache_path: Union[str, Path, None]=None,\n",
                "):\n",
                "    if not cache_enabled: return execute_func()\n",
                "    cache = get_cache(cache_path) if cache_path is not None else get_default_cache()\n",
                "    result = cache.get(cache_key, default=ENOVAL, retry=True)\n",
                "    retrieved_from_cache = True\n",
                "    if result is ENOVAL:\n",
                "        result = await execute_func()\n",
                "        cache.set(cache_key, result)\n",
                "        retrieved_from_cache = False\n",
                "    return retrieved_from_cache, result"
            ]
        }
    ],
    "metadata": {
        "kernelspec": {
            "display_name": "adulib",
            "language": "python",
            "name": "python3"
        },
        "language_info": {
            "codemirror_mode": {
                "name": "ipython",
                "version": 3
            },
            "file_extension": ".py",
            "mimetype": "text/x-python",
            "name": "python",
            "nbconvert_exporter": "python",
            "pygments_lexer": "ipython3",
            "version": "3.11.11"
        },
        "nblite_source_hash": "a8ad2cb4059f55d208c4b268caf6ffdfeebdc462e4ea8e6566e8c32dcaf3f0bd"
    },
    "nbformat": 4,
    "nbformat_minor": 5
}