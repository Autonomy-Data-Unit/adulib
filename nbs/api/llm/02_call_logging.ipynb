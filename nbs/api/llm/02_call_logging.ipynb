{
    "cells": [
        {
            "cell_type": "markdown",
            "id": "f712902a",
            "metadata": {},
            "source": [
                "# call_logging"
            ]
        },
        {
            "cell_type": "code",
            "execution_count": null,
            "id": "7dbd27d0",
            "metadata": {},
            "outputs": [],
            "source": [
                "#|default_exp llm.call_logging"
            ]
        },
        {
            "cell_type": "code",
            "execution_count": null,
            "id": "ce41407a",
            "metadata": {},
            "outputs": [],
            "source": [
                "#|hide\n",
                "import nblite; from nblite import show_doc; nblite.nbl_export()"
            ]
        },
        {
            "cell_type": "code",
            "execution_count": null,
            "id": "2466b1ad",
            "metadata": {},
            "outputs": [],
            "source": [
                "#|export\n",
                "try:\n",
                "    from datetime import datetime, timezone\n",
                "    from pydantic import BaseModel, Field\n",
                "    from typing import List, Optional\n",
                "    from pathlib import Path\n",
                "    import json\n",
                "    from adulib.llm.base import available_models\n",
                "    import uuid\n",
                "except ImportError as e:\n",
                "    raise ImportError(f\"Install adulib[llm] to use this API.\") from e"
            ]
        },
        {
            "cell_type": "code",
            "execution_count": null,
            "id": "ba1bf967",
            "metadata": {},
            "outputs": [],
            "source": [
                "#|hide\n",
                "import adulib.llm.call_logging as this_module"
            ]
        },
        {
            "cell_type": "code",
            "execution_count": null,
            "id": "000c8ce2",
            "metadata": {},
            "outputs": [],
            "source": [
                "#|export\n",
                "class CallLog(BaseModel):\n",
                "    id: str = Field(default_factory=lambda: str(uuid.uuid4()))\n",
                "    method: str\n",
                "    model: str\n",
                "    cost: float\n",
                "    input_tokens: Optional[int] = None\n",
                "    output_tokens: Optional[int] = None\n",
                "    timestamp: datetime = Field(default_factory=lambda: datetime.now(timezone.utc))\n",
                "\n",
                "_call_logs: List[CallLog] = []\n",
                "_call_log_save_path: Optional[Path] = None"
            ]
        },
        {
            "cell_type": "code",
            "execution_count": null,
            "id": "f144a670",
            "metadata": {},
            "outputs": [],
            "source": [
                "#|export\n",
                "def set_call_log_save_path(path: Path):\n",
                "    global _call_log_save_path, _call_logs\n",
                "    _call_log_save_path = path\n",
                "    if Path(path).suffix != '.jsonl':\n",
                "        raise ValueError(f\"Path must have a .jsonl extension\")\n",
                "    save_call_log(_call_log_save_path, combine_with_existing=True)\n",
                "    _call_logs = load_call_log(path)"
            ]
        },
        {
            "cell_type": "code",
            "execution_count": null,
            "id": "9ade0605",
            "metadata": {},
            "outputs": [],
            "source": [
                "#|exporti\n",
                "def _log_call(**log_kwargs):\n",
                "    _call_logs.append(CallLog(**log_kwargs))\n",
                "    if _call_log_save_path is not None:\n",
                "        with open(_call_log_save_path, 'a') as f:\n",
                "            f.write('\\n' + call_log.model_dump_json())"
            ]
        },
        {
            "cell_type": "code",
            "execution_count": null,
            "id": "22b97558",
            "metadata": {},
            "outputs": [],
            "source": [
                "#|export\n",
                "def get_call_logs(model: Optional[str]=None) -> List[CallLog]:\n",
                "    _filtered_logs = _call_logs\n",
                "    if model is not None:\n",
                "        if model not in available_models:\n",
                "            raise ValueError(f\"Model '{model}' not found in available models\")\n",
                "        _filtered_logs = [c for c in _filtered_logs if c.model == model]\n",
                "    return _filtered_logs"
            ]
        },
        {
            "cell_type": "code",
            "execution_count": null,
            "id": "7c952782",
            "metadata": {},
            "outputs": [],
            "source": [
                "#|export\n",
                "def get_total_costs(model: Optional[str]=None) -> float:\n",
                "    _filtered_logs = get_call_logs(model)\n",
                "    return sum([c.cost for c in _filtered_logs])"
            ]
        },
        {
            "cell_type": "code",
            "execution_count": null,
            "id": "d450984b",
            "metadata": {},
            "outputs": [],
            "source": [
                "#|export\n",
                "def get_total_input_tokens(model: Optional[str]=None) -> int:\n",
                "    _filtered_logs = get_call_logs(model)\n",
                "    return sum([c.input_tokens for c in _filtered_logs if c.input_tokens is not None])\n",
                "\n",
                "def get_total_output_tokens(model: Optional[str]=None) -> int:\n",
                "    _filtered_logs = get_call_logs(model)\n",
                "    return sum([c.output_tokens for c in _filtered_logs if c.output_tokens is not None])\n",
                "\n",
                "def get_total_tokens(model: Optional[str]=None) -> int:\n",
                "    return get_total_input_tokens(model) + get_total_output_tokens(model)"
            ]
        },
        {
            "cell_type": "code",
            "execution_count": null,
            "id": "b91e7492",
            "metadata": {},
            "outputs": [],
            "source": [
                "#|export\n",
                "def save_call_log(path: Path, combine_with_existing: bool = True):\n",
                "    if combine_with_existing:\n",
                "        _logs_on_hd = get_call_logs()\n",
                "        _memory_call_log_ids = set([l.id for l in _call_logs])\n",
                "        _logs_to_save = _call_logs + [l for l in _logs_on_hd if l.id not in _memory_call_log_ids]\n",
                "    else:\n",
                "        _logs_to_save = _call_logs\n",
                "    \n",
                "    with open(path, 'w') as f:\n",
                "        for log in _logs_to_save:\n",
                "            f.write(log.model_dump_json() + '\\n')"
            ]
        },
        {
            "cell_type": "code",
            "execution_count": null,
            "id": "43924ce2",
            "metadata": {},
            "outputs": [],
            "source": [
                "#|export\n",
                "def load_call_log_file(path: Optional[Path] = None) -> List[CallLog]:\n",
                "    if path is None:\n",
                "        path = _call_log_save_path\n",
                "    if _call_log_save_path is None:\n",
                "        raise ValueError(\"Call log save path is not set\")\n",
                "    with open(path, 'r') as f:\n",
                "        return [CallLog(**json.loads(line)) for line in f if line.strip()]"
            ]
        }
    ],
    "metadata": {
        "language_info": {
            "codemirror_mode": {
                "name": "ipython",
                "version": 3
            },
            "file_extension": ".py",
            "mimetype": "text/x-python",
            "name": "python",
            "nbconvert_exporter": "python",
            "pygments_lexer": "ipython3",
            "version": "3.11.11"
        },
        "nblite_source_hash": "4f53cda18c2baa0c0354bb5f9a3ecbe5ed12ab4d8e11ba873c2f11161202b945"
    },
    "nbformat": 4,
    "nbformat_minor": 5
}