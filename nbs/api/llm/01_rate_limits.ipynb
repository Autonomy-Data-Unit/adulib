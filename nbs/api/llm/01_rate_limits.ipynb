{
    "cells": [
        {
            "cell_type": "markdown",
            "id": "ca1627a9",
            "metadata": {},
            "source": [
                "# rate_limits"
            ]
        },
        {
            "cell_type": "code",
            "execution_count": null,
            "id": "3248f633",
            "metadata": {},
            "outputs": [],
            "source": [
                "#|default_exp llm.rate_limits"
            ]
        },
        {
            "cell_type": "code",
            "execution_count": null,
            "id": "ccc8f5c6",
            "metadata": {},
            "outputs": [],
            "source": [
                "#|hide\n",
                "import nblite; from nblite import show_doc; nblite.nbl_export()"
            ]
        },
        {
            "cell_type": "code",
            "execution_count": null,
            "id": "17ec87b1",
            "metadata": {},
            "outputs": [],
            "source": [
                "#|export\n",
                "try:\n",
                "    import litellm\n",
                "    from asynciolimiter import Limiter\n",
                "    import asyncio\n",
                "    from typing import Dict, Literal, Union\n",
                "except ImportError as e:\n",
                "    raise ImportError(f\"Install adulib[llm] to use this API.\") from e"
            ]
        },
        {
            "cell_type": "code",
            "execution_count": null,
            "id": "70b3bc04",
            "metadata": {},
            "outputs": [],
            "source": [
                "#|hide\n",
                "import adulib.llm.rate_limits as this_module"
            ]
        },
        {
            "cell_type": "code",
            "execution_count": null,
            "id": "47de98a1",
            "metadata": {},
            "outputs": [],
            "source": [
                "#|export\n",
                "default_rpm = 1000 # requests per minute\n",
                "default_retry_on_exception = [\n",
                "    litellm.RateLimitError,\n",
                "    asyncio.TimeoutError\n",
                "]\n",
                "default_max_retries = 5\n",
                "default_retry_delay = 10 # seconds\n",
                "default_timeout = None # seconds"
            ]
        },
        {
            "cell_type": "code",
            "execution_count": null,
            "id": "10a7dd7a",
            "metadata": {},
            "outputs": [],
            "source": [
                "#|exporti\n",
                "_request_rate_limiters: Dict[str, Limiter] = {}"
            ]
        },
        {
            "cell_type": "code",
            "execution_count": null,
            "id": "2297bc2b",
            "metadata": {},
            "outputs": [],
            "source": [
                "#|exporti\n",
                "def _convert_to_per_minute(rate: float, unit: Literal['per-second', 'per-minute', 'per-hour'] = 'per-minute') -> float:\n",
                "    if unit == 'per-second':\n",
                "        return rate * 60\n",
                "    elif unit == 'per-hour':\n",
                "        return rate / 60\n",
                "    else:\n",
                "        return rate"
            ]
        },
        {
            "cell_type": "code",
            "execution_count": null,
            "id": "505f17f9",
            "metadata": {},
            "outputs": [],
            "source": [
                "#|export\n",
                "def set_default_request_rate_limit(\n",
                "    request_rate: float, request_rate_unit: Literal['per-second', 'per-minute', 'per-hour'] = 'per-minute'\n",
                "):\n",
                "    global default_rpm\n",
                "    default_rpm = _convert_to_per_minute(request_rate, request_rate_unit)\n",
                "    return default_rpm"
            ]
        },
        {
            "cell_type": "code",
            "execution_count": null,
            "id": "0632bace",
            "metadata": {},
            "outputs": [],
            "source": [
                "#|exporti\n",
                "def _get_limiter(model: str, api_key: Union[str, None]=None) -> Limiter:\n",
                "    key = f\"{model}-{api_key}\" if api_key is not None else model\n",
                "    if key not in _request_rate_limiters:\n",
                "        _request_rate_limiters[key] = Limiter(default_rpm / 60)\n",
                "    return _request_rate_limiters.get(key, None)"
            ]
        },
        {
            "cell_type": "code",
            "execution_count": null,
            "id": "2e2a09db",
            "metadata": {},
            "outputs": [],
            "source": [
                "#|export\n",
                "def set_request_rate_limit(\n",
                "    model: str, api_key: str|None, request_rate: float, request_rate_unit: Literal['per-second', 'per-minute', 'per-hour'] = 'per-minute'\n",
                "):\n",
                "    limiter = _get_limiter(model, api_key)\n",
                "    if limiter is not None:\n",
                "        limiter.breach() # Release any pending requests\n",
                "    key = f\"{model}-{api_key}\" if api_key is not None else model\n",
                "    rpm = _convert_to_per_minute(request_rate, request_rate_unit)\n",
                "    _request_rate_limiters[key] = Limiter(rpm / 60)"
            ]
        },
        {
            "cell_type": "markdown",
            "id": "c78c5516",
            "metadata": {},
            "source": [
                "You may consult the rate limits to match those given in the developer consoles of the APIs you use. For example:\n",
                "\n",
                "- [Anthropic console](https://console.anthropic.com/settings/limits)\n",
                "- [OpenAI console](https://platform.openai.com/settings/organization/limits)\n",
                "- [Google console](https://ai.google.dev/gemini-api/docs/rate-limits?authuser=1#tier-1)\n",
                "- DeepSeek currently does not impose any rate limits"
            ]
        }
    ],
    "metadata": {},
    "nbformat": 4,
    "nbformat_minor": 5
}