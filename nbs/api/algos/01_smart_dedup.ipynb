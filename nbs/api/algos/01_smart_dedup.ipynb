{
    "cells": [
        {
            "cell_type": "markdown",
            "id": "db59f02b",
            "metadata": {},
            "source": [
                "# algos.smart_dedup\n",
                "\n",
                "> An entity deduplication algorithm that uses a combination of fuzzy string matching, vector embeddings, and LLM-based selection to identify duplicates in a list of entities."
            ]
        },
        {
            "cell_type": "code",
            "execution_count": null,
            "id": "6e252d35",
            "metadata": {},
            "outputs": [],
            "source": [
                "#|default_exp algos._smart_dedup\n",
                "#|export_as_func true"
            ]
        },
        {
            "cell_type": "code",
            "execution_count": null,
            "id": "09e4a01d",
            "metadata": {},
            "outputs": [],
            "source": [
                "#|hide\n",
                "import nblite; from nblite import show_doc; nblite.nbl_export()\n",
                "import adulib.algos._smart_dedup as this_module\n",
                "from adulib.algos import smart_dedup"
            ]
        },
        {
            "cell_type": "code",
            "execution_count": null,
            "id": "5db9d62c",
            "metadata": {},
            "outputs": [],
            "source": [
                "#|top_export\n",
                "import inspect\n",
                "from pydantic import BaseModel\n",
                "from adulib.algos.str_matching import fuzzy_match, get_vector_dist_matrix, embedding_match\n",
                "from adulib.llm import async_batch_embeddings\n",
                "import rapidfuzz\n",
                "from tqdm.asyncio import tqdm_asyncio\n",
                "import asyncio"
            ]
        },
        {
            "cell_type": "code",
            "execution_count": null,
            "id": "857cee88",
            "metadata": {},
            "outputs": [
                {
                    "data": {
                        "text/markdown": [
                            "## smart_dedup *(async)*\n",
                            "\n",
                            "```python\n",
                            "smart_dedup(\n",
                            "   entities: list[str],\n",
                            "   embedding_model: str,\n",
                            "   match_selection_model: str,\n",
                            "   max_fuzzy_str_matches: int,\n",
                            "   min_fuzzy_str_match_score: float,\n",
                            "   fuzzy_str_match_scorer,\n",
                            "   num_embedding_matches: int,\n",
                            "   embedding_batch_size: int,\n",
                            "   match_selection_temperature: float,\n",
                            "   system_prompt: str,\n",
                            "   prompt_template: str,\n",
                            "   verbose: bool\n",
                            ")\n",
                            "```\n",
                            "\n",
                            "Entity deduplication of a list of strings using fuzzy string matching and embedding-based similarity, \n",
                            "\n",
                            "followed by model-assisted duplicate selection.\n",
                            "\n",
                            "**Arguments:**\n",
                            "- `entities` (*list[str]*): List of entity strings to deduplicate.\n",
                            "- `embedding_model` (*str*): Name or path of the embedding model to use.\n",
                            "- `match_selection_model` (*str*): Model identifier for selecting matches among candidates.\n",
                            "- `max_fuzzy_str_matches` (*int*): Maximum number of fuzzy string match candidates per entity. Defaults to 5.\n",
                            "- `min_fuzzy_str_match_score` (*float*): Minimum similarity score for fuzzy string matches. Defaults to 0.\n",
                            "- `fuzzy_str_match_scorer` (*callable*): Scoring function for fuzzy string matching. Defaults to rapidfuzz.fuzz.ratio.\n",
                            "- `num_embedding_matches` (*int*): Number of embedding-based match candidates per entity. Defaults to 5.\n",
                            "- `embedding_batch_size` (*int*): Batch size for embedding computation. Defaults to 1000.\n",
                            "- `match_selection_temperature` (*float*): Temperature parameter for match selection model. Defaults to 0.0.\n",
                            "- `system_prompt` (*str*): Optional system prompt for the match selection model.\n",
                            "- `prompt_template` (*str*): Optional prompt template for the match selection model.\n",
                            "- `verbose` (*bool*): If True, displays progress bars and additional output. Defaults to False.\n",
                            "\n",
                            "**Returns:** *tuple[list[list[tuple[str, str]]], list[str]]*: - List of disconnected subgraphs, each representing a group of duplicate entities.\n",
                            "- List of entities without any detected matches.\n",
                            "\n",
                            "---\n"
                        ],
                        "text/plain": [
                            "<IPython.core.display.Markdown object>"
                        ]
                    },
                    "execution_count": null,
                    "metadata": {},
                    "output_type": "execute_result"
                }
            ],
            "source": [
                "#|hide\n",
                "show_doc(smart_dedup)"
            ]
        },
        {
            "cell_type": "code",
            "execution_count": null,
            "id": "735883ac",
            "metadata": {},
            "outputs": [],
            "source": [
                "#|set_func_signature\n",
                "async def smart_dedup(\n",
                "    entities: list[str],\n",
                "    embedding_model: str,\n",
                "    match_selection_model: str,\n",
                "    max_fuzzy_str_matches: int = 5,\n",
                "    min_fuzzy_str_match_score: float = 0,\n",
                "    fuzzy_str_match_scorer=rapidfuzz.fuzz.ratio,\n",
                "    num_embedding_matches: int = 5,\n",
                "    embedding_batch_size: int = 1000,\n",
                "    match_selection_temperature: float = 0.0,\n",
                "    system_prompt: str = None,\n",
                "    prompt_template: str = None,\n",
                "    verbose: bool = False,\n",
                "):\n",
                "    \"\"\"\n",
                "    Entity deduplication of a list of strings using fuzzy string matching and embedding-based similarity, \n",
                "    followed by model-assisted duplicate selection.\n",
                "    \n",
                "    Args:\n",
                "        entities (list[str]): List of entity strings to deduplicate.\n",
                "        embedding_model (str): Name or path of the embedding model to use.\n",
                "        match_selection_model (str): Model identifier for selecting matches among candidates.\n",
                "        max_fuzzy_str_matches (int, optional): Maximum number of fuzzy string match candidates per entity. Defaults to 5.\n",
                "        min_fuzzy_str_match_score (float, optional): Minimum similarity score for fuzzy string matches. Defaults to 0.\n",
                "        fuzzy_str_match_scorer (callable, optional): Scoring function for fuzzy string matching. Defaults to rapidfuzz.fuzz.ratio.\n",
                "        num_embedding_matches (int, optional): Number of embedding-based match candidates per entity. Defaults to 5.\n",
                "        embedding_batch_size (int, optional): Batch size for embedding computation. Defaults to 1000.\n",
                "        match_selection_temperature (float, optional): Temperature parameter for match selection model. Defaults to 0.0.\n",
                "        system_prompt (str, optional): Optional system prompt for the match selection model.\n",
                "        prompt_template (str, optional): Optional prompt template for the match selection model.\n",
                "        verbose (bool, optional): If True, displays progress bars and additional output. Defaults to False.\n",
                "        \n",
                "    Returns:\n",
                "        tuple[list[list[tuple[str, str]]], list[str]]:\n",
                "            - List of disconnected subgraphs, each representing a group of duplicate entities.\n",
                "            - List of entities without any detected matches.\n",
                "    Notes:\n",
                "        See `adulib.algos._dedup.system_prompt` and `adulib.algos._dedup.prompt_template` for prompt details.\n",
                "    \"\"\"\n",
                "    ..."
            ]
        },
        {
            "cell_type": "code",
            "execution_count": null,
            "id": "bdbc825b",
            "metadata": {},
            "outputs": [],
            "source": [
                "#|hide\n",
                "from adulib.llm import set_call_log_save_path\n",
                "from adulib.caching import set_default_cache_path\n",
                "repo_path = nblite.config.get_project_root_and_config()[0]\n",
                "set_default_cache_path(repo_path / '.tmp_cache')\n",
                "set_call_log_save_path(repo_path / '.call_logs.jsonl') "
            ]
        },
        {
            "cell_type": "code",
            "execution_count": null,
            "id": "b04b62ac",
            "metadata": {},
            "outputs": [],
            "source": [
                "entities = [\n",
                "    \"Lockheed Martin\",\n",
                "    \"Raytheon Technologies\",\n",
                "    \"Northrop Grumman\",\n",
                "    \"BAE Systems\",\n",
                "    \"Boeing Defense\",\n",
                "    \"General Dynamics\",\n",
                "    \"Thales Group\",\n",
                "    \"Leonardo S.p.A.\",\n",
                "    \"Rheinmetall AG\",\n",
                "    \"Elbit Systems\",\n",
                "    \"Saab AB\",\n",
                "    \"MBDA\",\n",
                "    \"Hanwha Defense\",\n",
                "    \"Israel Aerospace Industries\",\n",
                "    \"Naval Group\",\n",
                "    # Duplicates for testing deduplication\n",
                "    \"Lockheed Martin Corporation\",\n",
                "    \"Lockeed Martin Corp.\",\n",
                "    \"Raytheon\",\n",
                "    \"Northrop Grumman Corp.\",\n",
                "    \"BAE Systems plc\",\n",
                "    \"Boeing Defense, Space & Security\",\n",
                "    \"General Dynamics Corporation\",\n",
                "    \"Thales\",\n",
                "    \"Leonardo\",\n",
                "    \"Rheinmetall\",\n",
                "    \"Elbit\",\n",
                "    \"Saab\",\n",
                "    \"MBDA Missile Systems\",\n",
                "    \"Hanwha\",\n",
                "    \"IAI\",\n",
                "    \"Naval Group SA\",\n",
                "    # Additional entity without a duplicate\n",
                "    \"General Atomics\",\n",
                "]\n",
                "embedding_model=\"text-embedding-3-small\"\n",
                "match_selection_model=\"gpt-4.1-mini\"\n",
                "max_fuzzy_str_matches = 1\n",
                "min_fuzzy_str_match_score = 0\n",
                "fuzzy_str_match_scorer = rapidfuzz.fuzz.ratio\n",
                "num_embedding_matches = 1\n",
                "embedding_batch_size = 1000\n",
                "match_selection_temperature = 0.0\n",
                "system_prompt = None\n",
                "prompt_template = None\n",
                "verbose = False"
            ]
        },
        {
            "cell_type": "markdown",
            "id": "cb04e00c",
            "metadata": {},
            "source": [
                "## Find duplicate candidates using `adulib.algos.fuzzy_match`"
            ]
        },
        {
            "cell_type": "code",
            "execution_count": null,
            "id": "58207386",
            "metadata": {},
            "outputs": [],
            "source": [
                "#|export\n",
                "_entities = set(entities)\n",
                "entities = list(_entities)\n",
                "\n",
                "fuzzy_match_candidates = [\n",
                "    [\n",
                "        candidate for candidate, _, _, in\n",
                "        fuzzy_match(entity, _entities - {entity}, max_results=max_fuzzy_str_matches, min_similarity=min_fuzzy_str_match_score, scorer=fuzzy_str_match_scorer)\n",
                "    ] for entity in entities\n",
                "]"
            ]
        },
        {
            "cell_type": "markdown",
            "id": "a031486a",
            "metadata": {},
            "source": [
                "## Find duplicate candidates using `adulib.algos.embedding_match`"
            ]
        },
        {
            "cell_type": "code",
            "execution_count": null,
            "id": "c4e0689b",
            "metadata": {},
            "outputs": [],
            "source": [
                "#|export\n",
                "embeddings = await async_batch_embeddings(\n",
                "    model=embedding_model,\n",
                "    input=entities,\n",
                "    batch_size=1000,\n",
                "    verbose=verbose,\n",
                ")\n",
                "\n",
                "dist_matrix = get_vector_dist_matrix(embeddings, metric='cosine')\n",
                "\n",
                "embedding_match_candidates = [\n",
                "    [entities[match_i] for match_i in embedding_match(i, dist_matrix, num_matches=num_embedding_matches)[0]]\n",
                "    for i in range(len(entities))\n",
                "]"
            ]
        },
        {
            "cell_type": "markdown",
            "id": "721f448e",
            "metadata": {},
            "source": [
                "## Select duplicates using LLMs"
            ]
        },
        {
            "cell_type": "code",
            "execution_count": null,
            "id": "0699495d",
            "metadata": {},
            "outputs": [],
            "source": [
                "#|top_export\n",
                "system_prompt = inspect.cleandoc(\"\"\"\n",
                "You are an expert in entity deduplication. You will be shown a string and a list of similar-looking strings (some may be aliases, abbreviations, misspellings, or closely related variants, while others may be unrelated).\n",
                "\n",
                "Your task is to identify which strings refer to the same entity as the reference. Return a Python list of **0-based indices** corresponding to the matching entries. Only include strings that could realistically refer to the same entity. Do not include unrelated strings. Do not explain your reasoning. If no strings match, return an empty list.\n",
                "\"\"\".strip())\n",
                "\n",
                "prompt_template = inspect.cleandoc(\"\"\"\n",
                "Entity: {entity}\n",
                "\n",
                "Entity duplicate candidates:\n",
                "{duplicate_candidates}\n",
                "\"\"\".strip())\n",
                "\n",
                "class Duplicates(BaseModel):\n",
                "    duplicate_indices: list[int]"
            ]
        },
        {
            "cell_type": "code",
            "execution_count": null,
            "id": "64ef72b2",
            "metadata": {},
            "outputs": [],
            "source": [
                "#|top_export\n",
                "async def select_duplicates(entity: str, duplicate_candidates: list[str], model, temperature):\n",
                "    \"\"\"\n",
                "    Use an LLM to select which candidates from a list are duplicates of a given entity.\n",
                "\n",
                "    Args:\n",
                "        entity (str): The reference entity string.\n",
                "        duplicate_candidates (list[str]): List of candidate strings to check for duplication.\n",
                "        model: The LLM model to use.\n",
                "        temperature: Sampling temperature for the LLM.\n",
                "\n",
                "    Returns:\n",
                "        tuple: (indices of matches in duplicate_candidates, matched candidate strings, sorted candidate list)\n",
                "    \"\"\"\n",
                "    import adulib.llm\n",
                "    import json\n",
                "    \n",
                "    duplicate_candidates = sorted(set(duplicate_candidates)) # This ensures consistent caching.\n",
                "\n",
                "    res = await adulib.llm.async_single(\n",
                "        model=model,\n",
                "        system=system_prompt,\n",
                "        prompt=prompt_template.format(\n",
                "            entity=entity,\n",
                "            duplicate_candidates=\"\\n\".join([f\"{i}. {m}\" for i, m in enumerate(duplicate_candidates, start=0)]),\n",
                "        ),\n",
                "        temperature=temperature,\n",
                "        response_format=Duplicates,\n",
                "    )\n",
                "    \n",
                "    match_indices = Duplicates(**json.loads(res)).duplicate_indices\n",
                "    return [duplicate_candidates.index(duplicate_candidates[i]) for i in match_indices], [duplicate_candidates[i] for i in match_indices]"
            ]
        },
        {
            "cell_type": "code",
            "execution_count": null,
            "id": "768b4633",
            "metadata": {},
            "outputs": [],
            "source": [
                "#|export\n",
                "tasks = [\n",
                "    select_duplicates(entity, set(fuzzy_candidates+embedding_candidates), match_selection_model, match_selection_temperature)\n",
                "    for entity, fuzzy_candidates, embedding_candidates in zip(entities, fuzzy_match_candidates, embedding_match_candidates)\n",
                "]\n",
                "\n",
                "if verbose:\n",
                "    results = await tqdm_asyncio.gather(*tasks, desc=\"Selecting duplicates\", total=len(tasks))\n",
                "else:\n",
                "    results = await asyncio.gather(*tasks)\n",
                "  \n",
                "matches = []  \n",
                "entities_without_matches = []\n",
                "for entity, matched_entities in zip(entities, results):\n",
                "    matches.extend([(entity, matched_entity) for matched_entity in matched_entities[1]])\n",
                "    if len(matched_entities[1]) == 0:\n",
                "        entities_without_matches.append(entity)"
            ]
        },
        {
            "cell_type": "markdown",
            "id": "5d69435a",
            "metadata": {},
            "source": [
                "## Find disconnected subgraphs in the matched pairs"
            ]
        },
        {
            "cell_type": "code",
            "execution_count": null,
            "id": "7cde8e01",
            "metadata": {},
            "outputs": [],
            "source": [
                "#|top_export\n",
                "def find_disconnected_subgraphs(matches):\n",
                "    \"\"\"\n",
                "    Given a list of pairwise matches (edges), find all disconnected subgraphs (connected components).\n",
                "\n",
                "    Args:\n",
                "        matches (list of tuple): List of pairs representing edges between nodes.\n",
                "\n",
                "    Returns:\n",
                "        list of set: Each set contains the nodes in one connected component.\n",
                "    \"\"\"\n",
                "    from collections import defaultdict\n",
                "\n",
                "    # Create a graph from the matches\n",
                "    graph = defaultdict(set)\n",
                "    for item1, item2 in matches:\n",
                "        graph[item1].add(item2)\n",
                "        graph[item2].add(item1)\n",
                "\n",
                "    visited = set()\n",
                "    subgraphs = []\n",
                "\n",
                "    def dfs(node, current_subgraph):\n",
                "        stack = [node]\n",
                "        while stack:\n",
                "            current = stack.pop()\n",
                "            if current not in visited:\n",
                "                visited.add(current)\n",
                "                current_subgraph.add(current)\n",
                "                stack.extend(graph[current] - visited)\n",
                "\n",
                "    # Find all disconnected subgraphs\n",
                "    for node in graph:\n",
                "        if node not in visited:\n",
                "            current_subgraph = set()\n",
                "            dfs(node, current_subgraph)\n",
                "            subgraphs.append(current_subgraph)\n",
                "\n",
                "    return subgraphs"
            ]
        },
        {
            "cell_type": "code",
            "execution_count": null,
            "id": "f3eee716",
            "metadata": {},
            "outputs": [
                {
                    "data": {
                        "text/plain": [
                            "([{'Lockeed Martin Corp.', 'Lockheed Martin', 'Lockheed Martin Corporation'},\n",
                            "  {'Naval Group', 'Naval Group SA'},\n",
                            "  {'Elbit', 'Elbit Systems'},\n",
                            "  {'IAI', 'Israel Aerospace Industries'},\n",
                            "  {'Rheinmetall', 'Rheinmetall AG'},\n",
                            "  {'MBDA', 'MBDA Missile Systems'},\n",
                            "  {'General Dynamics', 'General Dynamics Corporation'},\n",
                            "  {'Hanwha', 'Hanwha Defense'},\n",
                            "  {'Boeing Defense', 'Boeing Defense, Space & Security'},\n",
                            "  {'Thales', 'Thales Group'},\n",
                            "  {'BAE Systems', 'BAE Systems plc'},\n",
                            "  {'Raytheon', 'Raytheon Technologies'},\n",
                            "  {'Saab', 'Saab AB'},\n",
                            "  {'Leonardo', 'Leonardo S.p.A.'},\n",
                            "  {'Northrop Grumman', 'Northrop Grumman Corp.'}],\n",
                            " ['General Atomics'])"
                        ]
                    },
                    "execution_count": null,
                    "metadata": {},
                    "output_type": "execute_result"
                }
            ],
            "source": [
                "#|func_return\n",
                "find_disconnected_subgraphs(matches), entities_without_matches"
            ]
        }
    ],
    "metadata": {
        "jupytext": {
            "cell_metadata_filter": "-all",
            "main_language": "python",
            "notebook_metadata_filter": "-all"
        },
        "kernelspec": {
            "display_name": ".venv",
            "language": "python",
            "name": "python3"
        },
        "language_info": {
            "codemirror_mode": {
                "name": "ipython",
                "version": 3
            },
            "file_extension": ".py",
            "mimetype": "text/x-python",
            "name": "python",
            "nbconvert_exporter": "python",
            "pygments_lexer": "ipython3",
            "version": "3.11.11"
        },
        "nblite_source_hash": "7d48b06d92f708ad58ae07d9567f7f5000638de26bda8c33fb12db03bb5256ae"
    },
    "nbformat": 4,
    "nbformat_minor": 5
}