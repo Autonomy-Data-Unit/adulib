{
    "cells": [
        {
            "cell_type": "markdown",
            "id": "fcda6cfd",
            "metadata": {},
            "source": [
                "# str_matching\n",
                "\n",
                "> Utils for finding the closest match of a string in a list of strings."
            ]
        },
        {
            "cell_type": "code",
            "execution_count": null,
            "id": "57a13c3e",
            "metadata": {},
            "outputs": [],
            "source": [
                "#|default_exp algos.str_matching"
            ]
        },
        {
            "cell_type": "code",
            "execution_count": null,
            "id": "bb9b28d3",
            "metadata": {},
            "outputs": [],
            "source": [
                "#|hide\n",
                "import nblite; from nblite import show_doc; nblite.nbl_export()\n",
                "import adulib.algos.str_matching as this_module"
            ]
        },
        {
            "cell_type": "code",
            "execution_count": null,
            "id": "666a8c3f",
            "metadata": {},
            "outputs": [],
            "source": [
                "#|export\n",
                "try:\n",
                "    import rapidfuzz\n",
                "    import numpy as np\n",
                "except ImportError as e:\n",
                "    raise ImportError(f\"Install adulib[algos] to use this API.\") from e"
            ]
        },
        {
            "cell_type": "code",
            "execution_count": null,
            "id": "0fa2942a",
            "metadata": {},
            "outputs": [],
            "source": [
                "#|hide\n",
                "from adulib.llm import set_call_log_save_path\n",
                "from adulib.caching import set_default_cache_path\n",
                "repo_path = nblite.config.get_project_root_and_config()[0]\n",
                "set_default_cache_path(repo_path / '.tmp_cache')\n",
                "set_call_log_save_path(repo_path / '.call_logs.jsonl') "
            ]
        },
        {
            "cell_type": "code",
            "execution_count": null,
            "id": "fc86e4c7",
            "metadata": {},
            "outputs": [
                {
                    "data": {
                        "text/markdown": [
                            "## fuzzy_match\n",
                            "\n",
                            "```python\n",
                            "fuzzy_match(\n",
                            "   query_string,\n",
                            "   candidate_strings,\n",
                            "   max_results,\n",
                            "   min_similarity,\n",
                            "   scorer\n",
                            ")\n",
                            "```\n",
                            "\n",
                            "Find the closest fuzzy matches to a query string from a list of candidate strings using RapidFuzz.\n",
                            "\n",
                            "This is a simplified wrapper around `rapidfuzz.process.extract` to find fuzzy matches. The equivalent of, and much faster version of, `difflib.get_close_matches`.\n",
                            "\n",
                            "**Arguments:**\n",
                            "- `query_string` (*str*): The string to match against the candidates.\n",
                            "- `candidate_strings` (*Iterable[str]*): The list of candidate strings to search.\n",
                            "- `max_results` (*int*): Maximum number of matches to return. Defaults to 8.\n",
                            "- `min_similarity` (*float*): Minimum similarity threshold (0.0-1.0). Defaults to 0.1.\n",
                            "- `scorer` (*callable*): Scoring function from rapidfuzz.fuzz. Defaults to rapidfuzz.fuzz.ratio. See rapidfuzz.fuzz for available scorers.\n",
                            "\n",
                            "**Returns:** *List[Tuple[str, float, int]]*: List of tuples containing (matched_string, score, index).\n",
                            "\n",
                            "---\n"
                        ],
                        "text/plain": [
                            "<IPython.core.display.Markdown object>"
                        ]
                    },
                    "execution_count": null,
                    "metadata": {},
                    "output_type": "execute_result"
                }
            ],
            "source": [
                "#|hide\n",
                "show_doc(this_module.fuzzy_match)"
            ]
        },
        {
            "cell_type": "code",
            "execution_count": null,
            "id": "a72dfe6c",
            "metadata": {},
            "outputs": [],
            "source": [
                "#|export\n",
                "def fuzzy_match(query_string, candidate_strings, max_results=5, min_similarity=0, scorer=rapidfuzz.fuzz.ratio):\n",
                "    \"\"\"\n",
                "    Find the closest fuzzy matches to a query string from a list of candidate strings using RapidFuzz.\n",
                "    \n",
                "    This is a simplified wrapper around `rapidfuzz.process.extract` to find fuzzy matches. The equivalent of, and much faster version of, `difflib.get_close_matches`.\n",
                "\n",
                "    Args:\n",
                "        query_string (str): The string to match against the candidates.\n",
                "        candidate_strings (Iterable[str]): The list of candidate strings to search.\n",
                "        max_results (int, optional): Maximum number of matches to return. Defaults to 8.\n",
                "        min_similarity (float, optional): Minimum similarity threshold (0.0-1.0). Defaults to 0.1.\n",
                "        scorer (callable, optional): Scoring function from rapidfuzz.fuzz. Defaults to rapidfuzz.fuzz.ratio. See rapidfuzz.fuzz for available scorers.\n",
                "\n",
                "    Returns:\n",
                "        List[Tuple[str, float, int]]: List of tuples containing (matched_string, score, index).\n",
                "    \"\"\"\n",
                "    results = rapidfuzz.process.extract(\n",
                "        query_string,\n",
                "        candidate_strings,\n",
                "        scorer=rapidfuzz.fuzz.ratio,\n",
                "        limit=max_results,\n",
                "        score_cutoff=min_similarity * 100 # rapidfuzz scores are 0-100, so cutoff needs to be scaled\n",
                "    )\n",
                "    return results"
            ]
        },
        {
            "cell_type": "code",
            "execution_count": null,
            "id": "63b8de98",
            "metadata": {},
            "outputs": [
                {
                    "data": {
                        "text/plain": [
                            "[('Apple Inc', 100.0, 0),\n",
                            " ('Apple', 71.42857142857143, 1),\n",
                            " ('Google LLC', 31.57894736842105, 2),\n",
                            " ('Microsoft Corp', 8.695652173913048, 3)]"
                        ]
                    },
                    "execution_count": null,
                    "metadata": {},
                    "output_type": "execute_result"
                }
            ],
            "source": [
                "fuzzy_match(\n",
                "    \"Apple Inc\",\n",
                "    [\"Apple Inc\", \"Apple\", \"Google LLC\", \"Microsoft Corp\"],\n",
                ")"
            ]
        },
        {
            "cell_type": "code",
            "execution_count": null,
            "id": "9a0b2d7a",
            "metadata": {},
            "outputs": [
                {
                    "data": {
                        "text/markdown": [
                            "## get_vector_dist_matrix\n",
                            "\n",
                            "```python\n",
                            "get_vector_dist_matrix(vectors: list[list[float]], metric: str)\n",
                            "```\n",
                            "\n",
                            "Calculate the pairwise distance matrix for a set of vectors.\n",
                            "\n",
                            "**Arguments:**\n",
                            "- `vectors` (*List[List[float]]*): List of vectors to calculate distances for.\n",
                            "- `metric` (*str*): Distance metric to use. Defaults to \"cosine\". Options include \"euclidean\", \"manhattan\", \"cosine\", etc. See sklearn.metrics.pairwise_distances for more options.\n",
                            "\n",
                            "**Returns:** *np.ndarray*: Distance matrix. Each element [i, j] represents the distance between vectors[i] and vectors[j].\n",
                            "\n",
                            "---\n"
                        ],
                        "text/plain": [
                            "<IPython.core.display.Markdown object>"
                        ]
                    },
                    "execution_count": null,
                    "metadata": {},
                    "output_type": "execute_result"
                }
            ],
            "source": [
                "#|hide\n",
                "show_doc(this_module.get_vector_dist_matrix)"
            ]
        },
        {
            "cell_type": "code",
            "execution_count": null,
            "id": "305265cd",
            "metadata": {},
            "outputs": [],
            "source": [
                "#|export\n",
                "def get_vector_dist_matrix(\n",
                "    vectors:list[list[float]],\n",
                "    metric:str=\"cosine\",\n",
                "):\n",
                "    \"\"\"\n",
                "    Calculate the pairwise distance matrix for a set of vectors.\n",
                "\n",
                "    Args:\n",
                "        vectors (List[List[float]]): List of vectors to calculate distances for.\n",
                "        metric (str, optional): Distance metric to use. Defaults to \"cosine\". Options include \"euclidean\", \"manhattan\", \"cosine\", etc. See sklearn.metrics.pairwise_distances for more options.\n",
                "\n",
                "    Returns:\n",
                "        np.ndarray: Distance matrix. Each element [i, j] represents the distance between vectors[i] and vectors[j].\n",
                "    \"\"\"\n",
                "    from sklearn.metrics import pairwise_distances\n",
                "    return pairwise_distances(vectors, metric=metric)"
            ]
        },
        {
            "cell_type": "code",
            "execution_count": null,
            "id": "1b39ad61",
            "metadata": {},
            "outputs": [
                {
                    "data": {
                        "text/plain": [
                            "array([[1.11022302e-16, 2.94916146e-01, 2.28848079e-01],\n",
                            "       [2.94916146e-01, 1.11022302e-16, 2.29985740e-01],\n",
                            "       [2.28848079e-01, 2.29985740e-01, 0.00000000e+00]])"
                        ]
                    },
                    "execution_count": null,
                    "metadata": {},
                    "output_type": "execute_result"
                }
            ],
            "source": [
                "vs = [\n",
                "    [9,7,1,2,6],\n",
                "    [1,8,3,3,2],\n",
                "    [4,5,6,7,8]\n",
                "]\n",
                "get_vector_dist_matrix(vs)"
            ]
        },
        {
            "cell_type": "code",
            "execution_count": null,
            "id": "f9a0b4ec",
            "metadata": {},
            "outputs": [
                {
                    "data": {
                        "text/markdown": [
                            "## embedding_match\n",
                            "\n",
                            "```python\n",
                            "embedding_match(embedding_index, dist_matrix, num_matches)\n",
                            "```\n",
                            "\n",
                            "Find the indices and distances of the closest matches to a given embedding. Use it in combination with `get_vector_dist_matrix` to find the closest embeddings.\n",
                            "\n",
                            "**Arguments:**\n",
                            "- `embedding_index` (*int*): Index of the embedding to match.\n",
                            "- `dist_matrix` (*np.ndarray*): Pairwise distance matrix of embeddings. Computed using `get_vector_dist_matrix`.\n",
                            "- `num_matches` (*int*): Number of closest matches to return (excluding self). Defaults to 5.\n",
                            "\n",
                            "**Returns:** *Tuple[np.ndarray, np.ndarray]*: Tuple of (indices of closest matches, distances to those matches).\n",
                            "\n",
                            "---\n"
                        ],
                        "text/plain": [
                            "<IPython.core.display.Markdown object>"
                        ]
                    },
                    "execution_count": null,
                    "metadata": {},
                    "output_type": "execute_result"
                }
            ],
            "source": [
                "#|hide\n",
                "show_doc(this_module.embedding_match)"
            ]
        },
        {
            "cell_type": "code",
            "execution_count": null,
            "id": "870ccde7",
            "metadata": {},
            "outputs": [],
            "source": [
                "#|export\n",
                "def embedding_match(embedding_index, dist_matrix, num_matches=5):\n",
                "    \"\"\"\n",
                "    Find the indices and distances of the closest matches to a given embedding. Use it in combination with `get_vector_dist_matrix` to find the closest embeddings.\n",
                "\n",
                "    Args:\n",
                "        embedding_index (int): Index of the embedding to match.\n",
                "        dist_matrix (np.ndarray): Pairwise distance matrix of embeddings. Computed using `get_vector_dist_matrix`.\n",
                "        num_matches (int, optional): Number of closest matches to return (excluding self). Defaults to 5.\n",
                "\n",
                "    Returns:\n",
                "        Tuple[np.ndarray, np.ndarray]: Tuple of (indices of closest matches, distances to those matches).\n",
                "    \"\"\"\n",
                "    distances = dist_matrix[embedding_index]\n",
                "    closest_indices = np.argsort(distances)[1:num_matches+1]\n",
                "    closest_distances = [distances[i] for i in closest_indices]\n",
                "    return closest_indices, np.array(closest_distances)"
            ]
        },
        {
            "cell_type": "code",
            "execution_count": null,
            "id": "9b679d39",
            "metadata": {},
            "outputs": [
                {
                    "data": {
                        "text/plain": [
                            "['Apple Inc', 'Apple Inc is a technology company.']"
                        ]
                    },
                    "execution_count": null,
                    "metadata": {},
                    "output_type": "execute_result"
                }
            ],
            "source": [
                "from adulib.llm import async_batch_embeddings\n",
                "docs = [\n",
                "    \"Apple Inc\",\n",
                "    \"Apple\",\n",
                "    \"Google LLC\",\n",
                "    \"Microsoft Corp\",\n",
                "    \"Apple Inc is a technology company.\",\n",
                "    \"Google is a search engine.\",\n",
                "    \"Microsoft develops software and hardware.\",\n",
                "    \"Apple and Google are competitors in the tech industry.\"\n",
                "]\n",
                "embeddings = await async_batch_embeddings(\n",
                "    model=\"text-embedding-3-small\",\n",
                "    input=docs,\n",
                "    batch_size=1000,\n",
                "    verbose=False,\n",
                ")\n",
                "dist_matrix = get_vector_dist_matrix(embeddings)\n",
                "match_indices, _ = embedding_match(docs.index(\"Apple\"), dist_matrix, num_matches=2)\n",
                "[docs[i] for i in match_indices]"
            ]
        }
    ],
    "metadata": {
        "jupytext": {
            "cell_metadata_filter": "-all",
            "main_language": "python",
            "notebook_metadata_filter": "-all"
        },
        "kernelspec": {
            "display_name": ".venv",
            "language": "python",
            "name": "python3"
        },
        "language_info": {
            "codemirror_mode": {
                "name": "ipython",
                "version": 3
            },
            "file_extension": ".py",
            "mimetype": "text/x-python",
            "name": "python",
            "nbconvert_exporter": "python",
            "pygments_lexer": "ipython3",
            "version": "3.11.11"
        },
        "nblite_source_hash": "f27bf3ca97ebb66eafc39acc7f4cd7c8ce1c6df2acc505229378e3ea7603a6ac"
    },
    "nbformat": 4,
    "nbformat_minor": 5
}