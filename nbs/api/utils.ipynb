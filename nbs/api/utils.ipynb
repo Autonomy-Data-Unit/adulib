{
    "cells": [
        {
            "cell_type": "markdown",
            "metadata": {},
            "source": [
                "# adulib.utils\n",
                "\n",
                "General utility functions."
            ]
        },
        {
            "cell_type": "code",
            "execution_count": null,
            "metadata": {},
            "outputs": [],
            "source": [
                "#|default_exp utils"
            ]
        },
        {
            "cell_type": "code",
            "execution_count": null,
            "metadata": {},
            "outputs": [],
            "source": [
                "#|hide\n",
                "import nblite; from nbdev.showdoc import show_doc; nblite.nbl_export()"
            ]
        },
        {
            "cell_type": "code",
            "execution_count": null,
            "metadata": {},
            "outputs": [],
            "source": [
                "#|export\n",
                "def check_mutual_exclusivity(*args, check_falsy=True):\n",
                "    \"\"\"\n",
                "    Check if only one of the arguments is falsy (or truthy, if check_falsy is False).\n",
                "    \"\"\"\n",
                "    if check_falsy:\n",
                "        return sum(bool(x) for x in args) == 1\n",
                "    else:\n",
                "        return sum(bool(x) for x in args) == 1"
            ]
        },
        {
            "cell_type": "code",
            "execution_count": null,
            "metadata": {},
            "outputs": [],
            "source": []
        }
    ],
    "metadata": {},
    "nbformat": 4,
    "nbformat_minor": 2
}