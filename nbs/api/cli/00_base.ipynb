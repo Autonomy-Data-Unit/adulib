{
    "cells": [
        {
            "cell_type": "markdown",
            "id": "a2c8ea40",
            "metadata": {},
            "source": [
                "# cli"
            ]
        },
        {
            "cell_type": "code",
            "execution_count": null,
            "id": "7d7bd5b9",
            "metadata": {},
            "outputs": [],
            "source": [
                "#|default_exp cli.base"
            ]
        },
        {
            "cell_type": "code",
            "execution_count": null,
            "id": "c53fe584",
            "metadata": {},
            "outputs": [],
            "source": [
                "#|hide\n",
                "import nblite; from nblite import show_doc; nblite.nbl_export()\n",
                "import adulib.cli as this_module"
            ]
        },
        {
            "cell_type": "code",
            "execution_count": null,
            "id": "57342b6e",
            "metadata": {},
            "outputs": [],
            "source": [
                "#|export\n",
                "from typing import List, Optional"
            ]
        },
        {
            "cell_type": "code",
            "execution_count": null,
            "id": "c7938fb7",
            "metadata": {},
            "outputs": [
                {
                    "data": {
                        "text/markdown": [
                            "## run_fzf\n",
                            "\n",
                            "```python\n",
                            "run_fzf(terms: typing.List[str], disp_terms: typing.Optional[typing.List[str]])\n",
                            "```\n",
                            "\n",
                            "Launches the fzf command-line fuzzy finder with a list of terms and returns\n",
                            "\n",
                            "the selected term.\n",
                            "\n",
                            "Parameters:\n",
                            "terms (List[str]): A list of strings to be presented to fzf for selection.\n",
                            "\n",
                            "Returns:\n",
                            "str or None: The selected string from fzf, or None if no selection was made\n",
                            "or if fzf encountered an error.\n",
                            "\n",
                            "Raises:\n",
                            "RuntimeError: If fzf is not installed or not found in the system PATH.\n",
                            "\n",
                            "---\n"
                        ],
                        "text/plain": [
                            "<IPython.core.display.Markdown object>"
                        ]
                    },
                    "execution_count": null,
                    "metadata": {},
                    "output_type": "execute_result"
                }
            ],
            "source": [
                "#|hide\n",
                "show_doc(this_module.run_fzf)"
            ]
        },
        {
            "cell_type": "code",
            "execution_count": null,
            "id": "9d774f4a",
            "metadata": {},
            "outputs": [],
            "source": [
                "#|export\n",
                "def run_fzf(terms: List[str], disp_terms: Optional[List[str]]=None):\n",
                "    \"\"\"\n",
                "    Launches the fzf command-line fuzzy finder with a list of terms and returns\n",
                "    the selected term.\n",
                "\n",
                "    Parameters:\n",
                "    terms (List[str]): A list of strings to be presented to fzf for selection.\n",
                "\n",
                "    Returns:\n",
                "    str or None: The selected string from fzf, or None if no selection was made\n",
                "    or if fzf encountered an error.\n",
                "\n",
                "    Raises:\n",
                "    RuntimeError: If fzf is not installed or not found in the system PATH.\n",
                "    \"\"\"\n",
                "    import subprocess\n",
                "    if disp_terms is None: disp_terms = terms\n",
                "    try:\n",
                "        # Launch fzf with the list of strings\n",
                "        result = subprocess.run(\n",
                "            ['fzf'],\n",
                "            input='\\n'.join(disp_terms),\n",
                "            text=True,\n",
                "            capture_output=True\n",
                "        )\n",
                "        res_term = result.stdout.strip()\n",
                "        term_index = [t.strip() for t in disp_terms].index(res_term)\n",
                "        sel_term = terms[term_index]\n",
                "        # Return the selected string or None if no selection was made\n",
                "        if result.returncode != 0: \n",
                "            return None, None\n",
                "        else: \n",
                "            return term_index, sel_term\n",
                "    except FileNotFoundError:\n",
                "        raise RuntimeError(\"fzf is not installed or not found in PATH.\")"
            ]
        }
    ],
    "metadata": {
        "jupytext": {
            "cell_metadata_filter": "-all",
            "main_language": "python",
            "notebook_metadata_filter": "-all"
        },
        "kernelspec": {
            "display_name": ".venv",
            "language": "python",
            "name": "python3"
        },
        "language_info": {
            "codemirror_mode": {
                "name": "ipython",
                "version": 3
            },
            "file_extension": ".py",
            "mimetype": "text/x-python",
            "name": "python",
            "nbconvert_exporter": "python",
            "pygments_lexer": "ipython3",
            "version": "3.11.11"
        },
        "nblite_source_hash": "7dd068ad4269ab5f8360fdbf526fa10353b5c1ba3778894e9536cc5a1f1bb225"
    },
    "nbformat": 4,
    "nbformat_minor": 5
}