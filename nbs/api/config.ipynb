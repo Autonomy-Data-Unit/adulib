{
    "cells": [
        {
            "cell_type": "markdown",
            "id": "38cb9525",
            "metadata": {},
            "source": [
                "# config\n",
                "\n",
                "Utilities for setting up and managing configurations in a project."
            ]
        },
        {
            "cell_type": "code",
            "execution_count": null,
            "id": "504ed492",
            "metadata": {},
            "outputs": [],
            "source": [
                "#|default_exp config"
            ]
        },
        {
            "cell_type": "code",
            "execution_count": null,
            "id": "ddce8c0e",
            "metadata": {},
            "outputs": [],
            "source": [
                "#|hide\n",
                "import nblite; from nblite import show_doc; nblite.nbl_export()\n",
                "import adulib.config as this_module"
            ]
        },
        {
            "cell_type": "code",
            "execution_count": null,
            "id": "920e08d4",
            "metadata": {},
            "outputs": [],
            "source": [
                "#|export\n",
                "from pathlib import Path\n",
                "from typing import Any\n",
                "from pydantic import BaseModel, model_validator, ConfigDict"
            ]
        },
        {
            "cell_type": "code",
            "execution_count": null,
            "id": "b2fee275",
            "metadata": {},
            "outputs": [],
            "source": [
                "#|export\n",
                "class PathRef(BaseModel):\n",
                "    model_config = ConfigDict(extra='forbid')\n",
                "    parent: str|None = None\n",
                "    path: Path\n",
                "    \n",
                "    @model_validator(mode='before')\n",
                "    @classmethod\n",
                "    def process_path(cls, data: Any) -> Any:\n",
                "        if isinstance(data, str): data = {'path': data}\n",
                "        data['path'] = Path(data['path'])\n",
                "        if not data.get('parent') and not Path(data['path']).expanduser().is_absolute(): \n",
                "            raise ValueError(f\"The '{data}' must be an absolute path if 'parent' is noe specified.\")\n",
                "        return data"
            ]
        },
        {
            "cell_type": "code",
            "execution_count": null,
            "id": "87680dd0",
            "metadata": {},
            "outputs": [],
            "source": [
                "#|export\n",
                "class PkgConfig(BaseModel):\n",
                "    model_config = ConfigDict(extra='forbid')\n",
                "\n",
                "    @model_validator(mode='after')\n",
                "    @classmethod\n",
                "    def _post_process(cls, obj: 'PkgConfig') -> Any:\n",
                "        def get_path(key) -> Path:\n",
                "            val = getattr(obj, key)\n",
                "            if isinstance(val, PathRef) and val.parent is None:\n",
                "                val = val.path\n",
                "            if isinstance(val, PathRef):\n",
                "                return get_path(val.parent) / val.path\n",
                "            else:\n",
                "                return Path(val).expanduser().resolve()\n",
                "        \n",
                "        for key in cls.model_fields:\n",
                "            value = getattr(obj, key)\n",
                "            # Dereference PathRef instances and turn into Path objects\n",
                "            if isinstance(value, PathRef):\n",
                "                setattr(obj, key, get_path(key))\n",
                "            # If the value is a string or Path, but the field type is PathRef, convert it to an expanded Path\n",
                "            elif isinstance(value, (str, Path)) and issubclass(cls.model_fields[key].annotation, PathRef):\n",
                "                setattr(obj, key, Path(value).expanduser().resolve())\n",
                "        return obj\n",
                "    \n",
                "    @classmethod\n",
                "    def from_toml(cls, toml_path: str) -> 'PkgConfig':\n",
                "        import toml\n",
                "        toml_config = toml.load(toml_path)\n",
                "        return cls.model_validate(toml_config)\n",
                "    \n",
                "    def impart(self, target_obj, model_dump: bool=False):\n",
                "        \"\"\"\n",
                "        Imparts the configuration values to the target object.\n",
                "        The target object should have attributes matching the config keys.\n",
                "        \"\"\"\n",
                "        if model_dump:\n",
                "            for key, value in self.model_dump().items():\n",
                "                setattr(target_obj, key, value)\n",
                "        else:\n",
                "            for k in self.__class__.model_fields:\n",
                "                setattr(target_obj, k, getattr(self, k))"
            ]
        },
        {
            "cell_type": "code",
            "execution_count": null,
            "id": "1f1b098d",
            "metadata": {},
            "outputs": [],
            "source": [
                "class FooConfig(PkgConfig):\n",
                "    my_path1: PathRef\n",
                "    my_path2: PathRef\n",
                "    my_path3: PathRef = '/an/absolute/path/'\n",
                "    my_path4: PathRef = '~/my/path4'\n",
                "    my_path5: PathRef = Path('~/my/path5')\n",
                "    my_path6: PathRef|None = None\n",
                "    my_path7: PathRef|None\n",
                "    \n",
                "foo = FooConfig(\n",
                "    my_path1 = \"~/my/path1\",\n",
                "    my_path2 = PathRef(parent='my_path1', path='subdir/my_path2'),\n",
                "    my_path7 = \"~/my/path7\",\n",
                ")\n",
                "\n",
                "assert isinstance(foo.my_path1, Path) and foo.my_path1 == Path('~/my/path1').expanduser().resolve()\n",
                "assert isinstance(foo.my_path2, Path) and foo.my_path2 == foo.my_path1 / 'subdir/my_path2'\n",
                "assert isinstance(foo.my_path3, Path) and foo.my_path3 == Path('/an/absolute/path/')\n",
                "assert isinstance(foo.my_path4, Path) and foo.my_path4 == Path('~/my/path4').expanduser().resolve()\n",
                "assert isinstance(foo.my_path5, Path) and foo.my_path5 == Path('~/my/path5').expanduser().resolve()\n",
                "assert foo.my_path6 is None\n",
                "assert isinstance(foo.my_path7, Path) and foo.my_path7 == Path('~/my/path7').expanduser().resolve()"
            ]
        },
        {
            "cell_type": "code",
            "execution_count": null,
            "id": "5840900e",
            "metadata": {},
            "outputs": [],
            "source": [
                "class BarConfig(BaseModel):\n",
                "    my_var: str\n",
                "\n",
                "class FooConfig(PkgConfig):\n",
                "    my_var: str\n",
                "    bar: BarConfig\n",
                "    \n",
                "foo = FooConfig(**{\n",
                "    'my_var' : 'Hello',\n",
                "    'bar' : {\n",
                "        'my_var' : 'world!'\n",
                "    }\n",
                "})\n",
                "\n",
                "from types import SimpleNamespace\n",
                "obj = SimpleNamespace()\n",
                "foo.impart(obj)\n",
                "\n",
                "assert obj.my_var == 'Hello'\n",
                "assert obj.bar.my_var == 'world!'\n",
                "\n",
                "foo.impart(obj, model_dump=True)\n",
                "\n",
                "assert obj.my_var == 'Hello'\n",
                "assert obj.bar['my_var'] == 'world!'"
            ]
        }
    ],
    "metadata": {
        "kernelspec": {
            "display_name": "adulib",
            "language": "python",
            "name": "python3"
        },
        "language_info": {
            "codemirror_mode": {
                "name": "ipython",
                "version": 3
            },
            "file_extension": ".py",
            "mimetype": "text/x-python",
            "name": "python",
            "nbconvert_exporter": "python",
            "pygments_lexer": "ipython3",
            "version": "3.11.11"
        },
        "nblite_source_hash": "5b94b7c39c7784e5524c0096b08af60e972304809d119d4a62461420da369cc7"
    },
    "nbformat": 4,
    "nbformat_minor": 5
}