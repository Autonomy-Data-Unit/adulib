{
    "cells": [
        {
            "cell_type": "markdown",
            "id": "a1c60aa2",
            "metadata": {},
            "source": [
                "# asynchronous\n",
                "\n",
                "Utilities for async programming."
            ]
        },
        {
            "cell_type": "code",
            "execution_count": null,
            "id": "f8b50e02",
            "metadata": {},
            "outputs": [],
            "source": [
                "#|default_exp asynchronous"
            ]
        },
        {
            "cell_type": "code",
            "execution_count": null,
            "id": "294b770e",
            "metadata": {},
            "outputs": [],
            "source": [
                "#|hide\n",
                "import nblite; from nblite import show_doc; nblite.nbl_export()"
            ]
        },
        {
            "cell_type": "code",
            "execution_count": null,
            "id": "01d0e46d",
            "metadata": {},
            "outputs": [],
            "source": [
                "#|export\n",
                "import asyncio\n",
                "from tqdm.asyncio import tqdm_asyncio\n",
                "from typing import Callable, Tuple, Any, Dict, Iterable, Optional"
            ]
        },
        {
            "cell_type": "code",
            "execution_count": null,
            "id": "45e74d65",
            "metadata": {},
            "outputs": [],
            "source": [
                "import adulib.asynchronous as this_module"
            ]
        },
        {
            "cell_type": "code",
            "execution_count": null,
            "id": "c222a808",
            "metadata": {},
            "outputs": [
                {
                    "data": {
                        "text/markdown": [
                            "## is_in_event_loop\n",
                            "\n",
                            "```python\n",
                            "is_in_event_loop()\n",
                            "```\n",
                            "\n",
                            "---\n"
                        ],
                        "text/plain": [
                            "<IPython.core.display.Markdown object>"
                        ]
                    },
                    "execution_count": null,
                    "metadata": {},
                    "output_type": "execute_result"
                }
            ],
            "source": [
                "#|hide\n",
                "show_doc(this_module.is_in_event_loop)"
            ]
        },
        {
            "cell_type": "code",
            "execution_count": null,
            "id": "8fe22274",
            "metadata": {},
            "outputs": [],
            "source": [
                "#|export\n",
                "def is_in_event_loop():\n",
                "    try:\n",
                "        asyncio.get_running_loop()\n",
                "        return True\n",
                "    except RuntimeError:\n",
                "        return False"
            ]
        },
        {
            "cell_type": "code",
            "execution_count": null,
            "id": "c9d4b93b",
            "metadata": {},
            "outputs": [
                {
                    "data": {
                        "text/markdown": [
                            "## batch_executor *(async)*\n",
                            "\n",
                            "```python\n",
                            "batch_executor(\n",
                            "   func: typing.Callable,\n",
                            "   constant_kwargs: typing.Dict[str, typing.Any],\n",
                            "   batch_args: typing.Optional[typing.Iterable[typing.Tuple[typing.Any, ...]]],\n",
                            "   batch_kwargs: typing.Optional[typing.Iterable[typing.Dict[str, typing.Any]]],\n",
                            "   concurrency_limit: typing.Optional[int],\n",
                            "   verbose: bool,\n",
                            "   progress_bar_desc: str\n",
                            ")\n",
                            "```\n",
                            "\n",
                            "Executes a batch of asynchronous tasks.\n",
                            "\n",
                            "Parameters:\n",
                            "- func (Callable): The asynchronous function to execute for each batch.\n",
                            "- constant_kwargs (Dict[str, Any], optional): Constant keyword arguments to pass to each function call.\n",
                            "- batch_args (Optional[Iterable[Tuple[Any, ...]]], optional): Iterable of argument tuples for each function call.\n",
                            "- batch_kwargs (Optional[Iterable[Dict[str, Any]]], optional): Iterable of keyword argument dictionaries for each function call.\n",
                            "- concurrency_limit (Optional[int], optional): Maximum number of concurrent tasks. If None, no limit is applied.\n",
                            "- verbose (bool, optional): If True, displays a progress bar. Default is True.\n",
                            "- progress_bar_desc (str, optional): Description for the progress bar. Default is \"Processing\".\n",
                            "\n",
                            "Returns:\n",
                            "- List of results from the executed tasks.\n",
                            "\n",
                            "Raises:\n",
                            "- ValueError: If both 'batch_args' and 'batch_kwargs' are empty or if their lengths do not match.\n",
                            "\n",
                            "---\n"
                        ],
                        "text/plain": [
                            "<IPython.core.display.Markdown object>"
                        ]
                    },
                    "execution_count": null,
                    "metadata": {},
                    "output_type": "execute_result"
                }
            ],
            "source": [
                "#|hide\n",
                "show_doc(this_module.batch_executor)"
            ]
        },
        {
            "cell_type": "code",
            "execution_count": null,
            "id": "9521ce2c",
            "metadata": {},
            "outputs": [],
            "source": [
                "#|export\n",
                "async def batch_executor(\n",
                "    func: Callable,\n",
                "    constant_kwargs: Dict[str, Any] = {},\n",
                "    batch_args: Optional[Iterable[Tuple[Any, ...]]] = None,\n",
                "    batch_kwargs: Optional[Iterable[Dict[str, Any]]] = None,\n",
                "    concurrency_limit: Optional[int] = None,\n",
                "    verbose: bool = True,\n",
                "    progress_bar_desc: str = \"Processing\",\n",
                "):\n",
                "    \"\"\"\n",
                "    Executes a batch of asynchronous tasks.\n",
                "\n",
                "    Parameters:\n",
                "    - func (Callable): The asynchronous function to execute for each batch.\n",
                "    - constant_kwargs (Dict[str, Any], optional): Constant keyword arguments to pass to each function call.\n",
                "    - batch_args (Optional[Iterable[Tuple[Any, ...]]], optional): Iterable of argument tuples for each function call.\n",
                "    - batch_kwargs (Optional[Iterable[Dict[str, Any]]], optional): Iterable of keyword argument dictionaries for each function call.\n",
                "    - concurrency_limit (Optional[int], optional): Maximum number of concurrent tasks. If None, no limit is applied.\n",
                "    - verbose (bool, optional): If True, displays a progress bar. Default is True.\n",
                "    - progress_bar_desc (str, optional): Description for the progress bar. Default is \"Processing\".\n",
                "\n",
                "    Returns:\n",
                "    - List of results from the executed tasks.\n",
                "\n",
                "    Raises:\n",
                "    - ValueError: If both 'batch_args' and 'batch_kwargs' are empty or if their lengths do not match.\n",
                "    \"\"\"\n",
                "    if not batch_args and not batch_kwargs:\n",
                "        raise ValueError(\"At least one of 'batch_args' or 'batch_kwargs' must be non-empty.\")\n",
                "    \n",
                "    if batch_args is None:\n",
                "        batch_args = [() for _ in range(len(batch_kwargs))]\n",
                "    elif batch_kwargs is None:\n",
                "        batch_kwargs = [{} for _ in range(len(batch_args))]\n",
                "    \n",
                "    if len(batch_args) != len(batch_kwargs):\n",
                "        raise ValueError(\"'batch_args' and 'batch_kwargs' must have the same length.\")\n",
                "    \n",
                "    n_tasks = len(batch_args)\n",
                "    semaphore = asyncio.Semaphore(concurrency_limit or n_tasks)\n",
                "    \n",
                "    async def execute_func(*args, **kwargs):\n",
                "        async with semaphore:\n",
                "            return await func(*args, **kwargs)\n",
                "        \n",
                "    kwargs_list = [ {**constant_kwargs, **kwargs} for kwargs in batch_kwargs ]\n",
                "    tasks = [execute_func(*args, **kwargs) for args, kwargs in zip(batch_args, kwargs_list)]\n",
                "    \n",
                "    if verbose:\n",
                "        results = await tqdm_asyncio.gather(*tasks, desc=progress_bar_desc)\n",
                "    else:\n",
                "        results = await asyncio.gather(*tasks)\n",
                "    return results"
            ]
        },
        {
            "cell_type": "code",
            "execution_count": null,
            "id": "d2ae96a2",
            "metadata": {},
            "outputs": [
                {
                    "name": "stdout",
                    "output_type": "stream",
                    "text": [
                        "Results: [30, 70, 110]\n"
                    ]
                }
            ],
            "source": [
                "async def sample_function(x, y, z):\n",
                "    await asyncio.sleep(0.1)\n",
                "    return z*(x + y)\n",
                "\n",
                "constant_kwargs = {'z': 10}\n",
                "batch_args = [(1,), (3,), (5,)]\n",
                "batch_kwargs = [{'y': 2}, {'y': 4}, {'y': 6}]\n",
                "\n",
                "results = await batch_executor(\n",
                "    func=sample_function,\n",
                "    constant_kwargs=constant_kwargs,\n",
                "    batch_args=batch_args,\n",
                "    batch_kwargs=batch_kwargs,\n",
                "    concurrency_limit=2,\n",
                "    verbose=False,\n",
                ")\n",
                "\n",
                "print(\"Results:\", results)"
            ]
        }
    ],
    "metadata": {
        "kernelspec": {
            "display_name": ".venv",
            "language": "python",
            "name": "python3"
        },
        "language_info": {
            "codemirror_mode": {
                "name": "ipython",
                "version": 3
            },
            "file_extension": ".py",
            "mimetype": "text/x-python",
            "name": "python",
            "nbconvert_exporter": "python",
            "pygments_lexer": "ipython3",
            "version": "3.11.11"
        },
        "nblite_source_hash": "3ce3bbcfe759d7919017b4b35e0fc27f0a99cc2ad5cdad622245db6638b91470"
    },
    "nbformat": 4,
    "nbformat_minor": 5
}