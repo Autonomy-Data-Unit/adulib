{
    "cells": [
        {
            "cell_type": "markdown",
            "metadata": {},
            "source": [
                "# adulib.asynchronous\n",
                "\n",
                "Utilities for async programming."
            ]
        },
        {
            "cell_type": "code",
            "execution_count": null,
            "metadata": {},
            "outputs": [],
            "source": [
                "#|default_exp asynchronous"
            ]
        },
        {
            "cell_type": "code",
            "execution_count": null,
            "metadata": {},
            "outputs": [],
            "source": [
                "#| hide\n",
                "from nbdev.showdoc impor show_doc"
            ]
        },
        {
            "cell_type": "code",
            "execution_count": null,
            "metadata": {},
            "outputs": [],
            "source": [
                "#| hide\n",
                "import nbdev; nbdev.nbdev_export()"
            ]
        },
        {
            "cell_type": "code",
            "execution_count": null,
            "metadata": {},
            "outputs": [],
            "source": [
                "#|export\n",
                "import asyncio"
            ]
        },
        {
            "cell_type": "code",
            "execution_count": null,
            "metadata": {},
            "outputs": [],
            "source": [
                "import adulib.asynchronous"
            ]
        },
        {
            "cell_type": "code",
            "execution_count": null,
            "metadata": {},
            "outputs": [],
            "source": [
                "#|export\n",
                "def is_in_event_loop():\n",
                "    try:\n",
                "        asyncio.get_running_loop()\n",
                "        return True\n",
                "    except RuntimeError:\n",
                "        return False"
            ]
        }
    ],
    "metadata": {},
    "nbformat": 4,
    "nbformat_minor": 2
}