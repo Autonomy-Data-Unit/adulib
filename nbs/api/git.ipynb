{
    "cells": [
        {
            "cell_type": "markdown",
            "id": "73932393",
            "metadata": {},
            "source": [
                "# git"
            ]
        },
        {
            "cell_type": "code",
            "execution_count": null,
            "id": "7c039a51",
            "metadata": {},
            "outputs": [],
            "source": [
                "#|default_exp git"
            ]
        },
        {
            "cell_type": "code",
            "execution_count": null,
            "id": "19dda76a",
            "metadata": {},
            "outputs": [],
            "source": [
                "#|hide\n",
                "import nblite; from nblite import show_doc; nblite.nbl_export()\n",
                "import adulib.git as this_module"
            ]
        },
        {
            "cell_type": "code",
            "execution_count": null,
            "id": "9f149997",
            "metadata": {},
            "outputs": [],
            "source": [
                "#|export\n",
                "from pathlib import Path\n",
                "import os"
            ]
        },
        {
            "cell_type": "code",
            "execution_count": null,
            "id": "0e31764f",
            "metadata": {},
            "outputs": [
                {
                    "data": {
                        "text/markdown": [
                            "## find_root_repo_path\n",
                            "\n",
                            "```python\n",
                            "find_root_repo_path(path)\n",
                            "```\n",
                            "\n",
                            "---\n"
                        ],
                        "text/plain": [
                            "<IPython.core.display.Markdown object>"
                        ]
                    },
                    "execution_count": null,
                    "metadata": {},
                    "output_type": "execute_result"
                }
            ],
            "source": [
                "#|hide\n",
                "show_doc(this_module.find_root_repo_path)"
            ]
        },
        {
            "cell_type": "code",
            "execution_count": null,
            "id": "ea3b4dfc",
            "metadata": {},
            "outputs": [],
            "source": [
                "#|export\n",
                "def find_root_repo_path(path=None):\n",
                "    current_path = Path(path or '.').expanduser().resolve()\n",
                "    home_path = Path.home()\n",
                "    \n",
                "    while current_path != home_path:\n",
                "        if (current_path / '.git').exists():\n",
                "            return str(current_path)\n",
                "        parent_path = current_path.parent\n",
                "        if parent_path == current_path:  # Reached the root directory\n",
                "            break\n",
                "        current_path = parent_path\n",
                "    \n",
                "    return None"
            ]
        },
        {
            "cell_type": "code",
            "execution_count": null,
            "id": "060ced1f",
            "metadata": {},
            "outputs": [],
            "source": [
                "root_repo_path = find_root_repo_path()"
            ]
        }
    ],
    "metadata": {
        "jupytext": {
            "cell_metadata_filter": "-all",
            "main_language": "python",
            "notebook_metadata_filter": "-all"
        },
        "kernelspec": {
            "display_name": ".venv",
            "language": "python",
            "name": "python3"
        },
        "language_info": {
            "codemirror_mode": {
                "name": "ipython",
                "version": 3
            },
            "file_extension": ".py",
            "mimetype": "text/x-python",
            "name": "python",
            "nbconvert_exporter": "python",
            "pygments_lexer": "ipython3",
            "version": "3.11.11"
        },
        "nblite_source_hash": "abed5998ee19dfb3766abe3eebeb526a4dab159fc8d577ba90a3f32f19b08959"
    },
    "nbformat": 4,
    "nbformat_minor": 5
}