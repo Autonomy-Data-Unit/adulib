{
    "cells": [
        {
            "cell_type": "markdown",
            "id": "e9c75bd4",
            "metadata": {},
            "source": [
                "# caching\n",
                "\n",
                "Utilities for working with notebooks."
            ]
        },
        {
            "cell_type": "code",
            "execution_count": null,
            "id": "729308af",
            "metadata": {},
            "outputs": [],
            "source": [
                "#|default_exp caching"
            ]
        },
        {
            "cell_type": "code",
            "execution_count": null,
            "id": "e6cff4b4",
            "metadata": {},
            "outputs": [],
            "source": [
                "#|hide\n",
                "import nblite; from nblite import show_doc; nblite.nbl_export()"
            ]
        },
        {
            "cell_type": "code",
            "execution_count": null,
            "id": "bcef6c7b",
            "metadata": {},
            "outputs": [],
            "source": [
                "#|export\n",
                "import diskcache\n",
                "from pathlib import Path\n",
                "from diskcache.core import ENOVAL, args_to_key, full_name\n",
                "import functools as ft\n",
                "import asyncio\n",
                "from typing import Union\n",
                "from adulib.utils import check_mutual_exclusivity"
            ]
        },
        {
            "cell_type": "code",
            "execution_count": null,
            "id": "f99892ab",
            "metadata": {},
            "outputs": [],
            "source": [
                "#|hide\n",
                "import time\n",
                "import adulib.caching as this_module"
            ]
        },
        {
            "cell_type": "code",
            "execution_count": null,
            "id": "ce8bb798",
            "metadata": {},
            "outputs": [],
            "source": [
                "#|exporti\n",
                "_caches = {}\n",
                "_default_cache = None\n",
                "_default_cache_path = None"
            ]
        },
        {
            "cell_type": "code",
            "execution_count": null,
            "id": "6f47f586",
            "metadata": {},
            "outputs": [
                {
                    "data": {
                        "text/markdown": [
                            "## set_default_cache_path\n",
                            "\n",
                            "```python\n",
                            "set_default_cache_path(cache_path: Path)\n",
                            "```\n",
                            "\n",
                            "Set the path for the temporary cache.\n",
                            "\n",
                            "---\n"
                        ],
                        "text/plain": [
                            "<IPython.core.display.Markdown object>"
                        ]
                    },
                    "execution_count": null,
                    "metadata": {},
                    "output_type": "execute_result"
                }
            ],
            "source": [
                "#|hide\n",
                "show_doc(this_module.set_default_cache_path)"
            ]
        },
        {
            "cell_type": "code",
            "execution_count": null,
            "id": "ab14ec04",
            "metadata": {},
            "outputs": [],
            "source": [
                "#|export\n",
                "def set_default_cache_path(cache_path:Path):\n",
                "    \"\"\"\n",
                "    Set the path for the temporary cache.\n",
                "    \"\"\"\n",
                "    global _default_cache_path\n",
                "    _default_cache_path = cache_path"
            ]
        },
        {
            "cell_type": "code",
            "execution_count": null,
            "id": "3f5e932c",
            "metadata": {},
            "outputs": [],
            "source": [
                "repo_path = nblite.config.get_project_root_and_config()[0]\n",
                "set_default_cache_path(repo_path / '.tmp_cache')"
            ]
        },
        {
            "cell_type": "code",
            "execution_count": null,
            "id": "8561dfa3",
            "metadata": {},
            "outputs": [
                {
                    "data": {
                        "text/markdown": [
                            "## get_default_cache_path\n",
                            "\n",
                            "```python\n",
                            "get_default_cache_path() -> pathlib.Path | None\n",
                            "```\n",
                            "\n",
                            "Set the path for the temporary cache.\n",
                            "\n",
                            "---\n"
                        ],
                        "text/plain": [
                            "<IPython.core.display.Markdown object>"
                        ]
                    },
                    "execution_count": null,
                    "metadata": {},
                    "output_type": "execute_result"
                }
            ],
            "source": [
                "#|hide\n",
                "show_doc(this_module.get_default_cache_path)"
            ]
        },
        {
            "cell_type": "code",
            "execution_count": null,
            "id": "e61caa5c",
            "metadata": {},
            "outputs": [],
            "source": [
                "#|export\n",
                "def get_default_cache_path() -> Path|None:\n",
                "    \"\"\"\n",
                "    Set the path for the temporary cache.\n",
                "    \"\"\"\n",
                "    return _default_cache_path"
            ]
        },
        {
            "cell_type": "code",
            "execution_count": null,
            "id": "bac6b309",
            "metadata": {},
            "outputs": [
                {
                    "data": {
                        "text/markdown": [
                            "## _create_cache\n",
                            "\n",
                            "```python\n",
                            "_create_cache(cache_path: typing.Optional[pathlib.Path], temp: bool)\n",
                            "```\n",
                            "\n",
                            "Creates a new cache with the right policies. This ensures that no data is lost as the cache grows.\n",
                            "\n",
                            "---\n"
                        ],
                        "text/plain": [
                            "<IPython.core.display.Markdown object>"
                        ]
                    },
                    "execution_count": null,
                    "metadata": {},
                    "output_type": "execute_result"
                }
            ],
            "source": [
                "#|hide\n",
                "show_doc(this_module._create_cache)"
            ]
        },
        {
            "cell_type": "code",
            "execution_count": null,
            "id": "197a86e4",
            "metadata": {},
            "outputs": [],
            "source": [
                "#|exporti\n",
                "def _create_cache(cache_path:Union[Path,None]=None, temp:bool=False):\n",
                "    \"\"\"\n",
                "    Creates a new cache with the right policies. This ensures that no data is lost as the cache grows.\n",
                "    \"\"\"\n",
                "    if temp and cache_path is not None:\n",
                "        raise ValueError(\"'temp' cannot be set to True if a 'cache_path' is provided.\")\n",
                "\n",
                "    if cache_path is None and not temp:\n",
                "        if _default_cache_path is None:\n",
                "            raise ValueError(\"The default cache path is not set. Please set it using `set_default_cache_path`.\")\n",
                "        cache_path = _default_cache_path\n",
                "    \n",
                "    return diskcache.Cache(cache_path, eviction_policy=\"none\", size_limit=2**40)"
            ]
        },
        {
            "cell_type": "code",
            "execution_count": null,
            "id": "8ee47696",
            "metadata": {},
            "outputs": [
                {
                    "data": {
                        "text/markdown": [
                            "## get_default_cache\n",
                            "\n",
                            "```python\n",
                            "get_default_cache()\n",
                            "```\n",
                            "\n",
                            "Retrieve the default cache.\n",
                            "\n",
                            "---\n"
                        ],
                        "text/plain": [
                            "<IPython.core.display.Markdown object>"
                        ]
                    },
                    "execution_count": null,
                    "metadata": {},
                    "output_type": "execute_result"
                }
            ],
            "source": [
                "show_doc(this_module.get_default_cache)"
            ]
        },
        {
            "cell_type": "code",
            "execution_count": null,
            "id": "13b8db38",
            "metadata": {},
            "outputs": [],
            "source": [
                "#|export\n",
                "def get_default_cache():\n",
                "    \"\"\"\n",
                "    Retrieve the default cache.\n",
                "    \"\"\"\n",
                "    global _default_cache\n",
                "    if _default_cache_path is None:\n",
                "        raise ValueError(\"The default cache path is not set. Please set it using `set_default_cache_path`.\")\n",
                "    if _default_cache is None:\n",
                "        _default_cache = _create_cache(_default_cache_path)\n",
                "    return _default_cache"
            ]
        },
        {
            "cell_type": "code",
            "execution_count": null,
            "id": "e864d5cd",
            "metadata": {},
            "outputs": [
                {
                    "data": {
                        "text/markdown": [
                            "## get_cache\n",
                            "\n",
                            "```python\n",
                            "get_cache(cache_path: typing.Optional[pathlib.Path])\n",
                            "```\n",
                            "\n",
                            "Retrieve a cache instance for the given path. If no path is provided, \n",
                            "\n",
                            "the default cache is used. If the cache does not exist, it is created \n",
                            "using the specified cache path or the default cache path.\n",
                            "\n",
                            "---\n"
                        ],
                        "text/plain": [
                            "<IPython.core.display.Markdown object>"
                        ]
                    },
                    "execution_count": null,
                    "metadata": {},
                    "output_type": "execute_result"
                }
            ],
            "source": [
                "#|hide\n",
                "show_doc(this_module.get_cache)"
            ]
        },
        {
            "cell_type": "code",
            "execution_count": null,
            "id": "48efe017",
            "metadata": {},
            "outputs": [],
            "source": [
                "#|export\n",
                "def get_cache(cache_path:Union[Path,None]=None):\n",
                "    \"\"\"\n",
                "    Retrieve a cache instance for the given path. If no path is provided, \n",
                "    the default cache is used. If the cache does not exist, it is created \n",
                "    using the specified cache path or the default cache path.\n",
                "    \"\"\"\n",
                "    if cache_path is None:\n",
                "        global _default_cache\n",
                "        if _default_cache is None: _default_cache = _create_cache()\n",
                "        cache = _default_cache\n",
                "    else:\n",
                "        cache_path = Path(cache_path).as_posix()\n",
                "        if cache_path in _caches:\n",
                "            cache = _caches[cache_path]\n",
                "        else:\n",
                "            cache = _create_cache(cache_path)\n",
                "            _caches[cache_path] = cache\n",
                "    return cache"
            ]
        },
        {
            "cell_type": "code",
            "execution_count": null,
            "id": "3617a443",
            "metadata": {},
            "outputs": [
                {
                    "data": {
                        "text/markdown": [
                            "## clear_cache_key\n",
                            "\n",
                            "```python\n",
                            "clear_cache_key(\n",
                            "   cache_key,\n",
                            "   cache: typing.Union[pathlib.Path, diskcache.core.Cache, NoneType]\n",
                            ")\n",
                            "```\n",
                            "\n",
                            "---\n"
                        ],
                        "text/plain": [
                            "<IPython.core.display.Markdown object>"
                        ]
                    },
                    "execution_count": null,
                    "metadata": {},
                    "output_type": "execute_result"
                }
            ],
            "source": [
                "#|hide\n",
                "show_doc(this_module.clear_cache_key)"
            ]
        },
        {
            "cell_type": "code",
            "execution_count": null,
            "id": "7029675a",
            "metadata": {},
            "outputs": [],
            "source": [
                "#|export\n",
                "def clear_cache_key(cache_key, cache:Union[Path,diskcache.Cache,None]=None):\n",
                "    if cache is None:\n",
                "        cache = get_default_cache()\n",
                "    elif isinstance(cache, diskcache.Cache):\n",
                "        pass # do nothing\n",
                "    else:\n",
                "        cache_path = cache\n",
                "        cache = get_cache(cache_path)\n",
                "    del cache[cache_key]"
            ]
        },
        {
            "cell_type": "code",
            "execution_count": null,
            "id": "ddcbb81b",
            "metadata": {},
            "outputs": [
                {
                    "data": {
                        "text/markdown": [
                            "## is_in_cache\n",
                            "\n",
                            "```python\n",
                            "is_in_cache(\n",
                            "   key: tuple,\n",
                            "   cache: typing.Union[pathlib.Path, diskcache.core.Cache, NoneType]\n",
                            ")\n",
                            "```\n",
                            "\n",
                            "---\n"
                        ],
                        "text/plain": [
                            "<IPython.core.display.Markdown object>"
                        ]
                    },
                    "execution_count": null,
                    "metadata": {},
                    "output_type": "execute_result"
                }
            ],
            "source": [
                "#|hide\n",
                "show_doc(this_module.is_in_cache)"
            ]
        },
        {
            "cell_type": "code",
            "execution_count": null,
            "id": "4f964a78",
            "metadata": {},
            "outputs": [],
            "source": [
                "#|export\n",
                "def is_in_cache(key: tuple, cache:Union[Path,diskcache.Cache,None]=None):\n",
                "    if cache is None:\n",
                "        cache = get_default_cache()\n",
                "    elif isinstance(cache, diskcache.Cache):\n",
                "        pass # do nothing\n",
                "    else:\n",
                "        cache_path = cache\n",
                "        cache = get_cache(cache_path)\n",
                "    return cache.get(key, default=ENOVAL) is not ENOVAL"
            ]
        },
        {
            "cell_type": "code",
            "execution_count": null,
            "id": "36547d06",
            "metadata": {},
            "outputs": [
                {
                    "data": {
                        "text/markdown": [
                            "## memoize\n",
                            "\n",
                            "```python\n",
                            "memoize(\n",
                            "   cache: typing.Union[pathlib.Path, diskcache.core.Cache, NoneType],\n",
                            "   temp,\n",
                            "   typed,\n",
                            "   expire,\n",
                            "   tag,\n",
                            "   return_cache_key\n",
                            ")\n",
                            "```\n",
                            "\n",
                            "Decorator for memoizing function results to improve performance.\n",
                            "\n",
                            "This decorator stores the results of function calls, allowing subsequent\n",
                            "calls with the same arguments to retrieve the result from the cache instead\n",
                            "of recomputing it. You can specify a cache object or use a temporary cache\n",
                            "if none is provided.\n",
                            "\n",
                            "Parameters:\n",
                            "- cache (Union[Path, diskcache.Cache, None], optional): A cache object or a\n",
                            "  path to the cache directory. Defaults to a temporary cache if None.\n",
                            "- temp (bool, optional): If True, use a temporary cache. Cannot be True if\n",
                            "  a cache is provided. Defaults to False.\n",
                            "- typed (bool, optional): If True, cache function arguments of different\n",
                            "  types separately. Defaults to True.\n",
                            "- expire (int, optional): Cache expiration time in seconds. If None, cache\n",
                            "  entries do not expire.\n",
                            "- tag (str, optional): A tag to associate with cache entries.\n",
                            "- return_cache_key (bool, optional): If True, return the cache key along\n",
                            "  with the result, in the order `(cache_key, result)`. Defaults to False.\n",
                            "\n",
                            "Returns:\n",
                            "- function: A decorator that applies memoization to the target function.\n",
                            "\n",
                            "---\n"
                        ],
                        "text/plain": [
                            "<IPython.core.display.Markdown object>"
                        ]
                    },
                    "execution_count": null,
                    "metadata": {},
                    "output_type": "execute_result"
                }
            ],
            "source": [
                "#|hide\n",
                "show_doc(this_module.memoize)"
            ]
        },
        {
            "cell_type": "code",
            "execution_count": null,
            "id": "0cf78259",
            "metadata": {},
            "outputs": [],
            "source": [
                "#|exporti\n",
                "__memoized_function_names = set()"
            ]
        },
        {
            "cell_type": "code",
            "execution_count": null,
            "id": "9e71ab57",
            "metadata": {},
            "outputs": [],
            "source": [
                "#|export\n",
                "def memoize(cache:Union[Path,diskcache.Cache,None]=None,\n",
                "            temp=False,\n",
                "            typed=True,\n",
                "            expire=None,\n",
                "            tag=None,\n",
                "            return_cache_key=False,\n",
                "):\n",
                "    \"\"\"\n",
                "    Decorator for memoizing function results to improve performance.\n",
                "\n",
                "    This decorator stores the results of function calls, allowing subsequent\n",
                "    calls with the same arguments to retrieve the result from the cache instead\n",
                "    of recomputing it. You can specify a cache object or use a temporary cache\n",
                "    if none is provided.\n",
                "\n",
                "    Parameters:\n",
                "    - cache (Union[Path, diskcache.Cache, None], optional): A cache object or a\n",
                "      path to the cache directory. Defaults to a temporary cache if None.\n",
                "    - temp (bool, optional): If True, use a temporary cache. Cannot be True if\n",
                "      a cache is provided. Defaults to False.\n",
                "    - typed (bool, optional): If True, cache function arguments of different\n",
                "      types separately. Defaults to True.\n",
                "    - expire (int, optional): Cache expiration time in seconds. If None, cache\n",
                "      entries do not expire.\n",
                "    - tag (str, optional): A tag to associate with cache entries.\n",
                "    - return_cache_key (bool, optional): If True, return the cache key along\n",
                "      with the result, in the order `(cache_key, result)`. Defaults to False.\n",
                "\n",
                "    Returns:\n",
                "    - function: A decorator that applies memoization to the target function.\n",
                "    \"\"\"\n",
                "\n",
                "    if temp and cache is not None:\n",
                "        raise ValueError(\"'temp' cannot be set to True if a cache is provided.\")\n",
                "    \n",
                "    if not temp:\n",
                "        if cache is None:\n",
                "            cache = get_cache()\n",
                "        elif isinstance(cache, diskcache.Cache):\n",
                "            pass # do nothing\n",
                "        else:\n",
                "            cache_path = cache\n",
                "            cache = get_cache(cache_path)\n",
                "    else:\n",
                "        cache = _create_cache(temp=True)\n",
                "                            \n",
                "    def decorator(func):\n",
                "        func_name = full_name(func)\n",
                "        if func_name in __memoized_function_names:\n",
                "            print(f\"Warning: A function with the name '{func_name}' is already memoized.\")\n",
                "        __memoized_function_names.add(func_name)\n",
                "        if asyncio.iscoroutinefunction(func):\n",
                "            @ft.wraps(func)\n",
                "            async def wrapper(*args, **kwargs):\n",
                "                key = args_to_key((func_name,), args, kwargs, typed, ())\n",
                "                result = cache.get(key, default=ENOVAL, retry=True)\n",
                "                if result is ENOVAL:\n",
                "                    result = await func(*args, **kwargs)\n",
                "                    if expire is None or expire > 0:\n",
                "                        cache.set(key, result, expire, tag=tag, retry=True)\n",
                "                if return_cache_key:\n",
                "                    return key, result\n",
                "                return result\n",
                "        else:\n",
                "            def wrapper(*args, **kwargs):\n",
                "                key = args_to_key((func_name,), args, kwargs, typed, ())\n",
                "                result = cache.get(key, default=ENOVAL, retry=True)\n",
                "                if result is ENOVAL:\n",
                "                    result = func(*args, **kwargs)\n",
                "                    if expire is None or expire > 0:\n",
                "                        cache.set(key, result, expire, tag=tag, retry=True)\n",
                "                if return_cache_key:\n",
                "                    return key, result\n",
                "                return result\n",
                "        return wrapper\n",
                "                                \n",
                "    return decorator"
            ]
        },
        {
            "cell_type": "code",
            "execution_count": null,
            "id": "287175ee",
            "metadata": {},
            "outputs": [
                {
                    "data": {
                        "text/plain": [
                            "'bar'"
                        ]
                    },
                    "execution_count": null,
                    "metadata": {},
                    "output_type": "execute_result"
                }
            ],
            "source": [
                "@memoize(temp=True)\n",
                "def foo():\n",
                "    time.sleep(1)\n",
                "    return \"bar\"\n",
                "\n",
                "foo() # Takes 1 second\n",
                "foo() # Is retrieved from cache and returns immediately"
            ]
        },
        {
            "cell_type": "code",
            "execution_count": null,
            "id": "a3d196c4",
            "metadata": {},
            "outputs": [],
            "source": [
                "@memoize(return_cache_key=True)\n",
                "async def async_foo():\n",
                "    time.sleep(1)\n",
                "    return \"bar\"\n",
                "\n",
                "await async_foo() # Takes 1 second\n",
                "cache_key, result = await async_foo() # Is retrieved from cache and returns immediately\n",
                "clear_cache_key(cache_key) # Clears the cache key\n",
                "await async_foo(); # This should again take 1 second"
            ]
        }
    ],
    "metadata": {},
    "nbformat": 4,
    "nbformat_minor": 5
}