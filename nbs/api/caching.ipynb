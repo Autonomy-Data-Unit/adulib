{
    "cells": [
        {
            "cell_type": "markdown",
            "metadata": {},
            "source": [
                "# adulib.caching\n",
                "\n",
                "Utilities for working with notebooks."
            ]
        },
        {
            "cell_type": "code",
            "execution_count": null,
            "metadata": {},
            "outputs": [],
            "source": [
                "#|default_exp caching"
            ]
        },
        {
            "cell_type": "code",
            "execution_count": null,
            "metadata": {},
            "outputs": [],
            "source": [
                "#|hide\n",
                "import nblite; from nbdev.showdoc import show_doc; nblite.nbl_export()"
            ]
        },
        {
            "cell_type": "code",
            "execution_count": null,
            "metadata": {},
            "outputs": [],
            "source": [
                "#|export\n",
                "try:\n",
                "    import diskcache\n",
                "    from pathlib import Path\n",
                "except ImportError as e:\n",
                "    raise ImportError(f\"Install adulib[{__name__.split('.')[-1]}] to use this API.\") from e\n",
                "\n",
                "from adulib.utils import check_mutual_exclusivity"
            ]
        },
        {
            "cell_type": "code",
            "execution_count": null,
            "metadata": {},
            "outputs": [
                {
                    "data": {
                        "text/plain": [
                            "<bound method Cache.memoize of <diskcache.core.Cache object>>"
                        ]
                    },
                    "execution_count": null,
                    "metadata": {},
                    "output_type": "execute_result"
                }
            ],
            "source": [
                "#|export\n",
                "cache = diskcache.Cache()\n",
                "\n",
                "cache.memoize"
            ]
        },
        {
            "cell_type": "code",
            "execution_count": null,
            "metadata": {},
            "outputs": [],
            "source": [
                "#|exporti\n",
                "__caches = {}\n",
                "__TEMP_CACHE = 0"
            ]
        },
        {
            "cell_type": "code",
            "execution_count": null,
            "metadata": {},
            "outputs": [],
            "source": [
                "#|export\n",
                "def memoize(cache_path=None,\n",
                "            cache=None,\n",
                "            temp=False,\n",
                "            typed=True,\n",
                "            expire=None,\n",
                "            tag=None,\n",
                "            ):\n",
                "    \n",
                "    if not check_mutual_exclusivity(cache_path, cache, temp):\n",
                "        raise ValueError(\"One - and only one - of cache_path, cache, and temp can be provided\")\n",
                "    \n",
                "    if cache is None:\n",
                "        if cache_path is None:\n",
                "            if __TEMP_CACHE in __caches:\n",
                "                cache = __caches[__TEMP_CACHE]\n",
                "            else:\n",
                "                cache = diskcache.Cache()\n",
                "                __caches[__TEMP_CACHE] = cache\n",
                "        else:\n",
                "            cache_path = Path(cache_path).as_posix()\n",
                "            if cache_path in __caches:\n",
                "                cache = __caches[cache_path]\n",
                "            else:\n",
                "                cache = diskcache.Cache(cache_path)\n",
                "                __caches[cache_path] = cache\n",
                "                \n",
                "    def decorator(f):\n",
                "        \n",
                "        memoized_f = cache.memoize(expire=expire, tag=tag, typed=typed)(f)\n",
                "        return memoized_f\n",
                "    \n",
                "    return decorator"
            ]
        },
        {
            "cell_type": "code",
            "execution_count": null,
            "metadata": {},
            "outputs": [],
            "source": [
                "import asyncio, time"
            ]
        },
        {
            "cell_type": "code",
            "execution_count": null,
            "metadata": {},
            "outputs": [
                {
                    "data": {
                        "text/plain": [
                            "'bar'"
                        ]
                    },
                    "execution_count": null,
                    "metadata": {},
                    "output_type": "execute_result"
                }
            ],
            "source": [
                "@memoize(temp=True)\n",
                "def foo():\n",
                "    time.sleep(1)\n",
                "    return \"bar\"\n",
                "\n",
                "foo() # Takes 1 second\n",
                "foo()"
            ]
        },
        {
            "cell_type": "code",
            "execution_count": null,
            "metadata": {},
            "outputs": [],
            "source": [
                "def async_memoize(\n",
                "    cache, name=None, typed=False, expire=None, tag=None, ignore=()\n",
                "):\n",
                "    \"\"\"Memoizing cache decorator.\n",
                "\n",
                "    Decorator to wrap callable with memoizing function using cache.\n",
                "    Repeated calls with the same arguments will lookup result in cache and\n",
                "    avoid function evaluation.\n",
                "\n",
                "    If name is set to None (default), the callable name will be determined\n",
                "    automatically.\n",
                "\n",
                "    When expire is set to zero, function results will not be set in the\n",
                "    cache. Cache lookups still occur, however. Read\n",
                "    :doc:`case-study-landing-page-caching` for example usage.\n",
                "\n",
                "    If typed is set to True, function arguments of different types will be\n",
                "    cached separately. For example, f(3) and f(3.0) will be treated as\n",
                "    distinct calls with distinct results.\n",
                "\n",
                "    The original underlying function is accessible through the __wrapped__\n",
                "    attribute. This is useful for introspection, for bypassing the cache,\n",
                "    or for rewrapping the function with a different cache.\n",
                "\n",
                "    >>> from diskcache import Cache\n",
                "    >>> cache = Cache()\n",
                "    >>> @cache.memoize(expire=1, tag='fib')\n",
                "    ... def fibonacci(number):\n",
                "    ...     if number == 0:\n",
                "    ...         return 0\n",
                "    ...     elif number == 1:\n",
                "    ...         return 1\n",
                "    ...     else:\n",
                "    ...         return fibonacci(number - 1) + fibonacci(number - 2)\n",
                "    >>> print(fibonacci(100))\n",
                "    354224848179261915075\n",
                "\n",
                "    An additional `__cache_key__` attribute can be used to generate the\n",
                "    cache key used for the given arguments.\n",
                "\n",
                "    >>> key = fibonacci.__cache_key__(100)\n",
                "    >>> print(cache[key])\n",
                "    354224848179261915075\n",
                "\n",
                "    Remember to call memoize when decorating a callable. If you forget,\n",
                "    then a TypeError will occur. Note the lack of parenthenses after\n",
                "    memoize below:\n",
                "\n",
                "    >>> @cache.memoize\n",
                "    ... def test():\n",
                "    ...     pass\n",
                "    Traceback (most recent call last):\n",
                "        ...\n",
                "    TypeError: name cannot be callable\n",
                "\n",
                "    :param cache: cache to store callable arguments and return values\n",
                "    :param str name: name given for callable (default None, automatic)\n",
                "    :param bool typed: cache different types separately (default False)\n",
                "    :param float expire: seconds until arguments expire\n",
                "        (default None, no expiry)\n",
                "    :param str tag: text to associate with arguments (default None)\n",
                "    :param set ignore: positional or keyword args to ignore (default ())\n",
                "    :return: callable decorator\n",
                "\n",
                "    \"\"\"\n",
                "    # Caution: Nearly identical code exists in DjangoCache.memoize\n",
                "    if callable(name):\n",
                "        raise TypeError('name cannot be callable')\n",
                "\n",
                "    def decorator(func):\n",
                "        \"\"\"Decorator created by memoize() for callable `func`.\"\"\"\n",
                "        base = (full_name(func),) if name is None else (name,)\n",
                "\n",
                "        @ft.wraps(func)\n",
                "        def wrapper(*args, **kwargs):\n",
                "            \"\"\"Wrapper for callable to cache arguments and return values.\"\"\"\n",
                "            key = wrapper.__cache_key__(*args, **kwargs)\n",
                "            result = self.get(key, default=ENOVAL, retry=True)\n",
                "\n",
                "            if result is ENOVAL:\n",
                "                result = func(*args, **kwargs)\n",
                "                if expire is None or expire > 0:\n",
                "                    self.set(key, result, expire, tag=tag, retry=True)\n",
                "\n",
                "            return result\n",
                "\n",
                "        def __cache_key__(*args, **kwargs):\n",
                "            \"\"\"Make key for cache given function arguments.\"\"\"\n",
                "            return args_to_key(base, args, kwargs, typed, ignore)\n",
                "\n",
                "        wrapper.__cache_key__ = __cache_key__\n",
                "        return wrapper\n",
                "\n",
                "    return decorator"
            ]
        },
        {
            "cell_type": "code",
            "execution_count": null,
            "metadata": {},
            "outputs": [
                {
                    "ename": "TypeError",
                    "evalue": "cannot pickle 'coroutine' object",
                    "output_type": "error",
                    "traceback": [
                        "\u001b[0;31m---------------------------------------------------------------------------\u001b[0m",
                        "\u001b[0;31mTypeError\u001b[0m                                 Traceback (most recent call last)",
                        "Cell \u001b[0;32mIn[21], line 6\u001b[0m\n\u001b[1;32m      3\u001b[0m     time\u001b[38;5;241m.\u001b[39msleep(\u001b[38;5;241m1\u001b[39m)\n\u001b[1;32m      4\u001b[0m     \u001b[38;5;28;01mreturn\u001b[39;00m \u001b[38;5;124m\"\u001b[39m\u001b[38;5;124mbar\u001b[39m\u001b[38;5;124m\"\u001b[39m\n\u001b[0;32m----> 6\u001b[0m \u001b[38;5;28;01mawait\u001b[39;00m \u001b[43mfoo2\u001b[49m\u001b[43m(\u001b[49m\u001b[43m)\u001b[49m\n",
                        "File \u001b[0;32m~/dev-adu/adulib/.venv/lib/python3.11/site-packages/diskcache/core.py:1877\u001b[0m, in \u001b[0;36mCache.memoize.<locals>.decorator.<locals>.wrapper\u001b[0;34m(*args, **kwargs)\u001b[0m\n\u001b[1;32m   1875\u001b[0m     result \u001b[38;5;241m=\u001b[39m func(\u001b[38;5;241m*\u001b[39margs, \u001b[38;5;241m*\u001b[39m\u001b[38;5;241m*\u001b[39mkwargs)\n\u001b[1;32m   1876\u001b[0m     \u001b[38;5;28;01mif\u001b[39;00m expire \u001b[38;5;129;01mis\u001b[39;00m \u001b[38;5;28;01mNone\u001b[39;00m \u001b[38;5;129;01mor\u001b[39;00m expire \u001b[38;5;241m>\u001b[39m \u001b[38;5;241m0\u001b[39m:\n\u001b[0;32m-> 1877\u001b[0m         \u001b[38;5;28;43mself\u001b[39;49m\u001b[38;5;241;43m.\u001b[39;49m\u001b[43mset\u001b[49m\u001b[43m(\u001b[49m\u001b[43mkey\u001b[49m\u001b[43m,\u001b[49m\u001b[43m \u001b[49m\u001b[43mresult\u001b[49m\u001b[43m,\u001b[49m\u001b[43m \u001b[49m\u001b[43mexpire\u001b[49m\u001b[43m,\u001b[49m\u001b[43m \u001b[49m\u001b[43mtag\u001b[49m\u001b[38;5;241;43m=\u001b[39;49m\u001b[43mtag\u001b[49m\u001b[43m,\u001b[49m\u001b[43m \u001b[49m\u001b[43mretry\u001b[49m\u001b[38;5;241;43m=\u001b[39;49m\u001b[38;5;28;43;01mTrue\u001b[39;49;00m\u001b[43m)\u001b[49m\n\u001b[1;32m   1879\u001b[0m \u001b[38;5;28;01mreturn\u001b[39;00m result\n",
                        "File \u001b[0;32m~/dev-adu/adulib/.venv/lib/python3.11/site-packages/diskcache/core.py:772\u001b[0m, in \u001b[0;36mCache.set\u001b[0;34m(self, key, value, expire, read, tag, retry)\u001b[0m\n\u001b[1;32m    770\u001b[0m db_key, raw \u001b[38;5;241m=\u001b[39m \u001b[38;5;28mself\u001b[39m\u001b[38;5;241m.\u001b[39m_disk\u001b[38;5;241m.\u001b[39mput(key)\n\u001b[1;32m    771\u001b[0m expire_time \u001b[38;5;241m=\u001b[39m \u001b[38;5;28;01mNone\u001b[39;00m \u001b[38;5;28;01mif\u001b[39;00m expire \u001b[38;5;129;01mis\u001b[39;00m \u001b[38;5;28;01mNone\u001b[39;00m \u001b[38;5;28;01melse\u001b[39;00m now \u001b[38;5;241m+\u001b[39m expire\n\u001b[0;32m--> 772\u001b[0m size, mode, filename, db_value \u001b[38;5;241m=\u001b[39m \u001b[38;5;28;43mself\u001b[39;49m\u001b[38;5;241;43m.\u001b[39;49m\u001b[43m_disk\u001b[49m\u001b[38;5;241;43m.\u001b[39;49m\u001b[43mstore\u001b[49m\u001b[43m(\u001b[49m\u001b[43mvalue\u001b[49m\u001b[43m,\u001b[49m\u001b[43m \u001b[49m\u001b[43mread\u001b[49m\u001b[43m,\u001b[49m\u001b[43m \u001b[49m\u001b[43mkey\u001b[49m\u001b[38;5;241;43m=\u001b[39;49m\u001b[43mkey\u001b[49m\u001b[43m)\u001b[49m\n\u001b[1;32m    773\u001b[0m columns \u001b[38;5;241m=\u001b[39m (expire_time, tag, size, mode, filename, db_value)\n\u001b[1;32m    775\u001b[0m \u001b[38;5;66;03m# The order of SELECT, UPDATE, and INSERT is important below.\u001b[39;00m\n\u001b[1;32m    776\u001b[0m \u001b[38;5;66;03m#\u001b[39;00m\n\u001b[1;32m    777\u001b[0m \u001b[38;5;66;03m# Typical cache usage pattern is:\u001b[39;00m\n\u001b[0;32m   (...)\u001b[0m\n\u001b[1;32m    793\u001b[0m \u001b[38;5;66;03m# INSERT OR REPLACE aka UPSERT is not used because the old filename may\u001b[39;00m\n\u001b[1;32m    794\u001b[0m \u001b[38;5;66;03m# need cleanup.\u001b[39;00m\n",
                        "File \u001b[0;32m~/dev-adu/adulib/.venv/lib/python3.11/site-packages/diskcache/core.py:221\u001b[0m, in \u001b[0;36mDisk.store\u001b[0;34m(self, value, read, key)\u001b[0m\n\u001b[1;32m    219\u001b[0m     \u001b[38;5;28;01mreturn\u001b[39;00m size, MODE_BINARY, filename, \u001b[38;5;28;01mNone\u001b[39;00m\n\u001b[1;32m    220\u001b[0m \u001b[38;5;28;01melse\u001b[39;00m:\n\u001b[0;32m--> 221\u001b[0m     result \u001b[38;5;241m=\u001b[39m \u001b[43mpickle\u001b[49m\u001b[38;5;241;43m.\u001b[39;49m\u001b[43mdumps\u001b[49m\u001b[43m(\u001b[49m\u001b[43mvalue\u001b[49m\u001b[43m,\u001b[49m\u001b[43m \u001b[49m\u001b[43mprotocol\u001b[49m\u001b[38;5;241;43m=\u001b[39;49m\u001b[38;5;28;43mself\u001b[39;49m\u001b[38;5;241;43m.\u001b[39;49m\u001b[43mpickle_protocol\u001b[49m\u001b[43m)\u001b[49m\n\u001b[1;32m    223\u001b[0m     \u001b[38;5;28;01mif\u001b[39;00m \u001b[38;5;28mlen\u001b[39m(result) \u001b[38;5;241m<\u001b[39m min_file_size:\n\u001b[1;32m    224\u001b[0m         \u001b[38;5;28;01mreturn\u001b[39;00m \u001b[38;5;241m0\u001b[39m, MODE_PICKLE, \u001b[38;5;28;01mNone\u001b[39;00m, sqlite3\u001b[38;5;241m.\u001b[39mBinary(result)\n",
                        "\u001b[0;31mTypeError\u001b[0m: cannot pickle 'coroutine' object"
                    ]
                }
            ],
            "source": [
                "@memoize(temp=True)\n",
                "async def foo2():\n",
                "    time.sleep(1)\n",
                "    return \"bar\"\n",
                "\n",
                "await foo2()"
            ]
        }
    ],
    "metadata": {},
    "nbformat": 4,
    "nbformat_minor": 2
}