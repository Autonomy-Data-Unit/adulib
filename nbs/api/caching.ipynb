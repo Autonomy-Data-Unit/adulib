{
    "cells": [
        {
            "cell_type": "markdown",
            "metadata": {},
            "source": [
                "# adulib.caching\n",
                "\n",
                "Utilities for working with notebooks."
            ]
        },
        {
            "cell_type": "code",
            "execution_count": null,
            "metadata": {},
            "outputs": [],
            "source": [
                "#|default_exp caching"
            ]
        },
        {
            "cell_type": "code",
            "execution_count": null,
            "metadata": {},
            "outputs": [],
            "source": [
                "#|hide\n",
                "import nblite; from nbdev.showdoc import show_doc; nblite.nbl_export()"
            ]
        },
        {
            "cell_type": "code",
            "execution_count": null,
            "metadata": {},
            "outputs": [],
            "source": [
                "#|export\n",
                "try:\n",
                "    import diskcache\n",
                "    from pathlib import Path\n",
                "    from diskcache.core import ENOVAL, args_to_key, full_name\n",
                "    import functools as ft\n",
                "    import asyncio\n",
                "    from typing import Union\n",
                "except ImportError as e:\n",
                "    raise ImportError(f\"Install adulib[{__name__.split('.')[-1]}] to use this API.\") from e\n",
                "\n",
                "from adulib.utils import check_mutual_exclusivity"
            ]
        },
        {
            "cell_type": "code",
            "execution_count": null,
            "metadata": {},
            "outputs": [],
            "source": [
                "import time\n",
                "import adulib.caching as this_module"
            ]
        },
        {
            "cell_type": "code",
            "execution_count": null,
            "metadata": {},
            "outputs": [],
            "source": [
                "#|exporti\n",
                "_caches = {}\n",
                "_default_cache = None\n",
                "_default_cache_path = None"
            ]
        },
        {
            "cell_type": "code",
            "execution_count": null,
            "metadata": {},
            "outputs": [
                {
                    "data": {
                        "text/markdown": [
                            "---\n",
                            "\n",
                            "### set_default_cache_path\n",
                            "\n",
                            ">      set_default_cache_path (cache_path:pathlib.Path)\n",
                            "\n",
                            "*Set the path for the temporary cache.*"
                        ],
                        "text/plain": [
                            "---\n",
                            "\n",
                            "### set_default_cache_path\n",
                            "\n",
                            ">      set_default_cache_path (cache_path:pathlib.Path)\n",
                            "\n",
                            "*Set the path for the temporary cache.*"
                        ]
                    },
                    "execution_count": null,
                    "metadata": {},
                    "output_type": "execute_result"
                }
            ],
            "source": [
                "show_doc(this_module.set_default_cache_path)"
            ]
        },
        {
            "cell_type": "code",
            "execution_count": null,
            "metadata": {},
            "outputs": [],
            "source": [
                "#|export\n",
                "def set_default_cache_path(cache_path:Path):\n",
                "    \"\"\"\n",
                "    Set the path for the temporary cache.\n",
                "    \"\"\"\n",
                "    global _default_cache_path\n",
                "    _default_cache_path = cache_path"
            ]
        },
        {
            "cell_type": "code",
            "execution_count": null,
            "metadata": {},
            "outputs": [
                {
                    "data": {
                        "text/markdown": [
                            "---\n",
                            "\n",
                            "### get_default_cache_path\n",
                            "\n",
                            ">      get_default_cache_path ()\n",
                            "\n",
                            "*Set the path for the temporary cache.*"
                        ],
                        "text/plain": [
                            "---\n",
                            "\n",
                            "### get_default_cache_path\n",
                            "\n",
                            ">      get_default_cache_path ()\n",
                            "\n",
                            "*Set the path for the temporary cache.*"
                        ]
                    },
                    "execution_count": null,
                    "metadata": {},
                    "output_type": "execute_result"
                }
            ],
            "source": [
                "show_doc(this_module.get_default_cache_path)"
            ]
        },
        {
            "cell_type": "code",
            "execution_count": null,
            "metadata": {},
            "outputs": [],
            "source": [
                "#|export\n",
                "def get_default_cache_path() -> Path|None:\n",
                "    \"\"\"\n",
                "    Set the path for the temporary cache.\n",
                "    \"\"\"\n",
                "    return _default_cache_path"
            ]
        },
        {
            "cell_type": "code",
            "execution_count": null,
            "metadata": {},
            "outputs": [
                {
                    "data": {
                        "text/markdown": [
                            "---\n",
                            "\n",
                            "### create_cache\n",
                            "\n",
                            ">      create_cache (cache_path:Optional[pathlib.Path]=None, temp:bool=False)\n",
                            "\n",
                            "*Creates a new cache with the right policies. This ensures that no data is lost as the cache grows.*"
                        ],
                        "text/plain": [
                            "---\n",
                            "\n",
                            "### create_cache\n",
                            "\n",
                            ">      create_cache (cache_path:Optional[pathlib.Path]=None, temp:bool=False)\n",
                            "\n",
                            "*Creates a new cache with the right policies. This ensures that no data is lost as the cache grows.*"
                        ]
                    },
                    "execution_count": null,
                    "metadata": {},
                    "output_type": "execute_result"
                }
            ],
            "source": [
                "show_doc(this_module.create_cache)"
            ]
        },
        {
            "cell_type": "code",
            "execution_count": null,
            "metadata": {},
            "outputs": [],
            "source": [
                "#|export\n",
                "def create_cache(cache_path:Union[Path,None]=None, temp:bool=False):\n",
                "    \"\"\"\n",
                "    Creates a new cache with the right policies. This ensures that no data is lost as the cache grows.\n",
                "    \"\"\"\n",
                "    if temp and cache_path is not None:\n",
                "        raise ValueError(\"'temp' cannot be set to True if a 'cache_path' is provided.\")\n",
                "\n",
                "    if cache_path is None and not temp:\n",
                "        if _default_cache_path is None:\n",
                "            raise ValueError(\"The default cache path is not set. Please set it using `set_default_cache_path`.\")\n",
                "        cache_path = _default_cache_path\n",
                "    \n",
                "    return diskcache.Cache(cache_path, eviction_policy=\"none\", size_limit=2**40)"
            ]
        },
        {
            "cell_type": "code",
            "execution_count": null,
            "metadata": {},
            "outputs": [
                {
                    "data": {
                        "text/markdown": [
                            "---\n",
                            "\n",
                            "### get_cache\n",
                            "\n",
                            ">      get_cache (cache_path:Optional[pathlib.Path]=None)\n",
                            "\n",
                            "*Retrieve a cache instance for the given path. If no path is provided, \n",
                            "the default cache is used. If the cache does not exist, it is created \n",
                            "using the specified cache path or the default cache path.*"
                        ],
                        "text/plain": [
                            "---\n",
                            "\n",
                            "### get_cache\n",
                            "\n",
                            ">      get_cache (cache_path:Optional[pathlib.Path]=None)\n",
                            "\n",
                            "*Retrieve a cache instance for the given path. If no path is provided, \n",
                            "the default cache is used. If the cache does not exist, it is created \n",
                            "using the specified cache path or the default cache path.*"
                        ]
                    },
                    "execution_count": null,
                    "metadata": {},
                    "output_type": "execute_result"
                }
            ],
            "source": [
                "show_doc(this_module.get_cache)"
            ]
        },
        {
            "cell_type": "code",
            "execution_count": null,
            "metadata": {},
            "outputs": [],
            "source": [
                "#|export\n",
                "def get_cache(cache_path:Union[Path,None]=None):\n",
                "    \"\"\"\n",
                "    Retrieve a cache instance for the given path. If no path is provided, \n",
                "    the default cache is used. If the cache does not exist, it is created \n",
                "    using the specified cache path or the default cache path.\n",
                "    \"\"\"\n",
                "    if cache_path is None:\n",
                "        global _default_cache\n",
                "        if _default_cache is None: _default_cache = create_cache(_default_cache_path)\n",
                "        cache = _default_cache\n",
                "    else:\n",
                "        cache_path = Path(cache_path).as_posix()\n",
                "        if cache_path in _caches:\n",
                "            cache = _caches[cache_path]\n",
                "        else:\n",
                "            cache = create_cache(cache_path)\n",
                "            _caches[cache_path] = cache"
            ]
        },
        {
            "cell_type": "code",
            "execution_count": null,
            "metadata": {},
            "outputs": [
                {
                    "data": {
                        "text/markdown": [
                            "---\n",
                            "\n",
                            "### memoize\n",
                            "\n",
                            ">      memoize (cache:Union[pathlib.Path,diskcache.core.Cache,NoneType]=None,\n",
                            ">               temp=False, typed=True, expire=None, tag=None)\n",
                            "\n",
                            "*Memoization decorator to cache function results.\n",
                            "\n",
                            "This decorator caches the results of a function call to enhance performance\n",
                            "by avoiding repeated evaluations of the same function with identical arguments.\n",
                            "The cache can be specified by providing an existing `cache` object or by using\n",
                            "a temporary cache if no cache is provided.\n",
                            "\n",
                            "Parameters:\n",
                            "- cache (Union[Path, diskcache.Cache, None], optional): An existing cache object\n",
                            "    or a path to the cache directory. If None, a temporary cache is used.\n",
                            "- typed (bool, optional): If True, cache function arguments of different types\n",
                            "    separately. Defaults to True.\n",
                            "- expire (int, optional): Time in seconds for cache expiration. If None, cache\n",
                            "    entries do not expire.\n",
                            "- tag (str, optional): A tag to associate with the cache entries.\n",
                            "\n",
                            "Returns:\n",
                            "- function: A decorator that wraps the function with memoization logic.*"
                        ],
                        "text/plain": [
                            "---\n",
                            "\n",
                            "### memoize\n",
                            "\n",
                            ">      memoize (cache:Union[pathlib.Path,diskcache.core.Cache,NoneType]=None,\n",
                            ">               temp=False, typed=True, expire=None, tag=None)\n",
                            "\n",
                            "*Memoization decorator to cache function results.\n",
                            "\n",
                            "This decorator caches the results of a function call to enhance performance\n",
                            "by avoiding repeated evaluations of the same function with identical arguments.\n",
                            "The cache can be specified by providing an existing `cache` object or by using\n",
                            "a temporary cache if no cache is provided.\n",
                            "\n",
                            "Parameters:\n",
                            "- cache (Union[Path, diskcache.Cache, None], optional): An existing cache object\n",
                            "    or a path to the cache directory. If None, a temporary cache is used.\n",
                            "- typed (bool, optional): If True, cache function arguments of different types\n",
                            "    separately. Defaults to True.\n",
                            "- expire (int, optional): Time in seconds for cache expiration. If None, cache\n",
                            "    entries do not expire.\n",
                            "- tag (str, optional): A tag to associate with the cache entries.\n",
                            "\n",
                            "Returns:\n",
                            "- function: A decorator that wraps the function with memoization logic.*"
                        ]
                    },
                    "execution_count": null,
                    "metadata": {},
                    "output_type": "execute_result"
                }
            ],
            "source": [
                "show_doc(this_module.memoize)"
            ]
        },
        {
            "cell_type": "code",
            "execution_count": null,
            "metadata": {},
            "outputs": [],
            "source": [
                "#|exporti\n",
                "__memoized_function_names = set()"
            ]
        },
        {
            "cell_type": "code",
            "execution_count": null,
            "metadata": {},
            "outputs": [],
            "source": [
                "#|export\n",
                "def memoize(cache:Union[Path,diskcache.Cache,None]=None,\n",
                "            temp=False,\n",
                "            typed=True,\n",
                "            expire=None,\n",
                "            tag=None,\n",
                "):\n",
                "    \"\"\"\n",
                "    Memoization decorator to cache function results.\n",
                "\n",
                "    This decorator caches the results of a function call to enhance performance\n",
                "    by avoiding repeated evaluations of the same function with identical arguments.\n",
                "    The cache can be specified by providing an existing `cache` object or by using\n",
                "    a temporary cache if no cache is provided.\n",
                "\n",
                "    Parameters:\n",
                "    - cache (Union[Path, diskcache.Cache, None], optional): An existing cache object\n",
                "        or a path to the cache directory. If None, a temporary cache is used.\n",
                "    - typed (bool, optional): If True, cache function arguments of different types\n",
                "        separately. Defaults to True.\n",
                "    - expire (int, optional): Time in seconds for cache expiration. If None, cache\n",
                "        entries do not expire.\n",
                "    - tag (str, optional): A tag to associate with the cache entries.\n",
                "\n",
                "    Returns:\n",
                "    - function: A decorator that wraps the function with memoization logic.\n",
                "    \"\"\"\n",
                "\n",
                "    if temp and cache is not None:\n",
                "        raise ValueError(\"'temp' cannot be set to True if a cache is provided.\")\n",
                "    \n",
                "    if not temp:\n",
                "        if cache is None:\n",
                "            cache = get_cache()\n",
                "        elif isinstance(cache, diskcache.Cache):\n",
                "            pass # do nothing\n",
                "        else:\n",
                "            cache_path = cache\n",
                "            cache = get_cache(cache_path)\n",
                "    else:\n",
                "        cache = create_cache(temp=True)\n",
                "                            \n",
                "    def decorator(func):\n",
                "        func_name = full_name(func)\n",
                "        if func_name in __memoized_function_names:\n",
                "            print(f\"Warning: A function with the name '{func_name}' is already memoized.\")\n",
                "        __memoized_function_names.add(func_name)\n",
                "        if asyncio.iscoroutinefunction(func):\n",
                "            @ft.wraps(func)\n",
                "            async def wrapper(*args, **kwargs):\n",
                "                key = args_to_key((func_name,), args, kwargs, typed, ())\n",
                "                result = cache.get(key, default=ENOVAL, retry=True)\n",
                "                if result is ENOVAL:\n",
                "                    result = await func(*args, **kwargs)\n",
                "                    if expire is None or expire > 0:\n",
                "                            cache.set(key, result, expire, tag=tag, retry=True)\n",
                "                return result\n",
                "            return wrapper\n",
                "        else:\n",
                "            memoized_f = cache.memoize(expire=expire, tag=tag, typed=typed)(func)\n",
                "            return memoized_f\n",
                "                                \n",
                "    return decorator"
            ]
        },
        {
            "cell_type": "code",
            "execution_count": null,
            "metadata": {},
            "outputs": [
                {
                    "data": {
                        "text/plain": [
                            "'bar'"
                        ]
                    },
                    "execution_count": null,
                    "metadata": {},
                    "output_type": "execute_result"
                }
            ],
            "source": [
                "@memoize(temp=True)\n",
                "def foo():\n",
                "    time.sleep(1)\n",
                "    return \"bar\"\n",
                "\n",
                "foo() # Takes 1 second\n",
                "foo() # Is retrieved from cache and returns immediately"
            ]
        },
        {
            "cell_type": "code",
            "execution_count": null,
            "metadata": {},
            "outputs": [
                {
                    "data": {
                        "text/plain": [
                            "'bar'"
                        ]
                    },
                    "execution_count": null,
                    "metadata": {},
                    "output_type": "execute_result"
                }
            ],
            "source": [
                "@memoize(temp=True)\n",
                "async def async_foo():\n",
                "    time.sleep(1)\n",
                "    return \"bar\"\n",
                "\n",
                "await async_foo() # Takes 1 second\n",
                "await async_foo() # Is retrieved from cache and returns immediately"
            ]
        }
    ],
    "metadata": {},
    "nbformat": 4,
    "nbformat_minor": 4
}