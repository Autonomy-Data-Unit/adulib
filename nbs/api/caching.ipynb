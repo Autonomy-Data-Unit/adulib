{
    "cells": [
        {
            "cell_type": "markdown",
            "metadata": {},
            "source": [
                "# adulib.caching\n",
                "\n",
                "Utilities for working with notebooks."
            ]
        },
        {
            "cell_type": "code",
            "execution_count": null,
            "metadata": {},
            "outputs": [],
            "source": [
                "#|default_exp caching"
            ]
        },
        {
            "cell_type": "code",
            "execution_count": null,
            "metadata": {},
            "outputs": [],
            "source": [
                "#|hide\n",
                "import nblite; from nbdev.showdoc import show_doc; nblite.nbl_export()"
            ]
        },
        {
            "cell_type": "code",
            "execution_count": null,
            "metadata": {},
            "outputs": [],
            "source": [
                "#|export\n",
                "try:\n",
                "    import diskcache\n",
                "    from pathlib import Path\n",
                "    from diskcache.core import ENOVAL, args_to_key, full_name\n",
                "    import functools as ft\n",
                "    import asyncio\n",
                "except ImportError as e:\n",
                "    raise ImportError(f\"Install adulib[{__name__.split('.')[-1]}] to use this API.\") from e\n",
                "\n",
                "from adulib.utils import check_mutual_exclusivity"
            ]
        },
        {
            "cell_type": "code",
            "execution_count": null,
            "metadata": {},
            "outputs": [],
            "source": [
                "import time\n",
                "import adulib.caching as this_module"
            ]
        },
        {
            "cell_type": "code",
            "execution_count": null,
            "metadata": {},
            "outputs": [
                {
                    "data": {
                        "text/markdown": [
                            "---\n",
                            "\n",
                            "### memoize\n",
                            "\n",
                            ">      memoize (cache_path=None, cache=None, temp=False, typed=True,\n",
                            ">               expire=None, tag=None)"
                        ],
                        "text/plain": [
                            "---\n",
                            "\n",
                            "### memoize\n",
                            "\n",
                            ">      memoize (cache_path=None, cache=None, temp=False, typed=True,\n",
                            ">               expire=None, tag=None)"
                        ]
                    },
                    "execution_count": null,
                    "metadata": {},
                    "output_type": "execute_result"
                }
            ],
            "source": [
                "show_doc(this_module.memoize)"
            ]
        },
        {
            "cell_type": "code",
            "execution_count": null,
            "metadata": {},
            "outputs": [],
            "source": [
                "#|exporti\n",
                "__caches = {}\n",
                "__memoized_function_names = set()\n",
                "__tmp_cache = None\n",
                "\n",
                "def _get_cache(cache_path=None, cache=None, temp=False):\n",
                "    global __tmp_cache\n",
                "    if not check_mutual_exclusivity(cache_path, cache, temp):\n",
                "        raise ValueError(\"Either cache_path or cache is provided, or temp must be set to True.\")\n",
                "    \n",
                "    if cache is None:\n",
                "        if cache_path is None:\n",
                "            if __tmp_cache is None: __tmp_cache = diskcache.Cache()\n",
                "            cache = __tmp_cache\n",
                "        else:\n",
                "            cache_path = Path(cache_path).as_posix()\n",
                "            if cache_path in __caches:\n",
                "                cache = __caches[cache_path]\n",
                "            else:\n",
                "                cache = diskcache.Cache(cache_path)\n",
                "                __caches[cache_path] = cache\n",
                "                \n",
                "    return cache"
            ]
        },
        {
            "cell_type": "code",
            "execution_count": null,
            "metadata": {},
            "outputs": [],
            "source": [
                "#|export\n",
                "def memoize(cache_path=None,\n",
                "            cache=None,\n",
                "            temp=False,\n",
                "            typed=True,\n",
                "            expire=None,\n",
                "            tag=None,\n",
                "            ):\n",
                "    \"\"\"\n",
                "    Memoization decorator to cache function results.\n",
                "\n",
                "    This decorator can be used to cache the results of a function call\n",
                "    to improve performance by avoiding repeated evaluations of the same\n",
                "    function with the same arguments. The cache can be specified by\n",
                "    providing a `cache_path`, an existing `cache` object, or by setting\n",
                "    `temp` to True to use a temporary cache.\n",
                "\n",
                "    Parameters:\n",
                "    - cache_path (str, optional): Path to the cache directory. If not\n",
                "      provided, a temporary cache will be used if `temp` is True.\n",
                "    - cache (diskcache.Cache, optional): An existing cache object to use.\n",
                "    - temp (bool, optional): If True, use a temporary cache. Defaults to False.\n",
                "    - typed (bool, optional): If True, cache function arguments of different\n",
                "      types separately. Defaults to True.\n",
                "    - expire (int, optional): Time in seconds for cache expiration. If None,\n",
                "      cache entries do not expire.\n",
                "    - tag (str, optional): A tag to associate with the cache entries.\n",
                "\n",
                "    Returns:\n",
                "    - decorator (function): A decorator that wraps the function with\n",
                "      memoization logic.\n",
                "    \"\"\"\n",
                "\n",
                "    cache = _get_cache(cache_path, cache, temp)\n",
                "                \n",
                "    def decorator(func):\n",
                "        func_name = full_name(func)\n",
                "        if func_name in __memoized_function_names:\n",
                "            print(f\"Warning: A function with the name '{func_name}' is already memoized.\")\n",
                "        __memoized_function_names.add(func_name)\n",
                "        if asyncio.iscoroutinefunction(func):\n",
                "            @ft.wraps(func)\n",
                "            async def wrapper(*args, **kwargs):\n",
                "                key = args_to_key((func_name,), args, kwargs, typed, ())\n",
                "                result = cache.get(key, default=ENOVAL, retry=True)\n",
                "                if result is ENOVAL:\n",
                "                    result = await func(*args, **kwargs)\n",
                "                    if expire is None or expire > 0:\n",
                "                        cache.set(key, result, expire, tag=tag, retry=True)\n",
                "                return result\n",
                "            return wrapper\n",
                "        else:\n",
                "            memoized_f = cache.memoize(expire=expire, tag=tag, typed=typed)(func)\n",
                "            return memoized_f\n",
                "                    \n",
                "    return decorator"
            ]
        },
        {
            "cell_type": "code",
            "execution_count": null,
            "metadata": {},
            "outputs": [
                {
                    "data": {
                        "text/plain": [
                            "'bar'"
                        ]
                    },
                    "execution_count": null,
                    "metadata": {},
                    "output_type": "execute_result"
                }
            ],
            "source": [
                "@memoize(temp=True)\n",
                "def foo():\n",
                "    time.sleep(1)\n",
                "    return \"bar\"\n",
                "\n",
                "foo() # Takes 1 second\n",
                "foo() # Is retrieved from cache and returns immediately"
            ]
        },
        {
            "cell_type": "code",
            "execution_count": null,
            "metadata": {},
            "outputs": [],
            "source": [
                "@memoize(temp=True)\n",
                "async def async_foo():\n",
                "    time.sleep(1)\n",
                "    return \"bar\"\n",
                "\n",
                "await async_foo() # Takes 1 second\n",
                "await async_foo() # Is retrieved from cache and returns immediately"
            ]
        }
    ],
    "metadata": {},
    "nbformat": 4,
    "nbformat_minor": 4
}